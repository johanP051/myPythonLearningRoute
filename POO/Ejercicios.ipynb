{
 "cells": [
  {
   "cell_type": "code",
   "execution_count": 1,
   "id": "d7ff613f",
   "metadata": {
    "scrolled": true
   },
   "outputs": [
    {
     "name": "stdout",
     "output_type": "stream",
     "text": [
      "Numero aleatorio: 1\n",
      "Persona aleatoria: Lala\n"
     ]
    }
   ],
   "source": [
    "from random import randint, choice\n",
    "\n",
    "n = randint(1, 6)\n",
    "print(f\"Numero aleatorio: {n}\")\n",
    "\n",
    "personas = [\"Marina\", \"Sebas\", \"Álvaro\", \"Lala\", \"Jonathan\"]\n",
    "\n",
    "persona = choice(personas)\n",
    "print(f\"Persona aleatoria: {persona}\")"
   ]
  },
  {
   "cell_type": "code",
   "execution_count": 50,
   "id": "e6167374",
   "metadata": {},
   "outputs": [
    {
     "name": "stdout",
     "output_type": "stream",
     "text": [
      "Sacó un 1\n",
      "Sacó un 4\n",
      "Sacó un 14\n"
     ]
    }
   ],
   "source": [
    "from random import randint\n",
    "class Dado:\n",
    "    def __init__(self, lados=6):\n",
    "        self.lados = lados\n",
    "        \n",
    "    def roll_dado(self):\n",
    "        print(f\"Sacó un {randint(1, self.lados)}\")\n",
    "        \n",
    "dado = Dado()\n",
    "dado.roll_dado()\n",
    "\n",
    "dado2 = Dado(10)\n",
    "dado2.roll_dado()\n",
    "\n",
    "dado3 = Dado(20)\n",
    "dado3.roll_dado()"
   ]
  },
  {
   "cell_type": "code",
   "execution_count": null,
   "id": "72abf166",
   "metadata": {},
   "outputs": [],
   "source": []
  }
 ],
 "metadata": {
  "kernelspec": {
   "display_name": "Python 3",
   "language": "python",
   "name": "python3"
  },
  "language_info": {
   "codemirror_mode": {
    "name": "ipython",
    "version": 3
   },
   "file_extension": ".py",
   "mimetype": "text/x-python",
   "name": "python",
   "nbconvert_exporter": "python",
   "pygments_lexer": "ipython3",
   "version": "3.9.1"
  }
 },
 "nbformat": 4,
 "nbformat_minor": 5
}
