{
 "cells": [
  {
   "cell_type": "code",
   "execution_count": 3,
   "id": "dc0ca2b3",
   "metadata": {},
   "outputs": [
    {
     "name": "stdout",
     "output_type": "stream",
     "text": [
      "Nissan X trail 2015\n",
      "This car has recorred 45 miles\n",
      "The tank is filling\n"
     ]
    }
   ],
   "source": [
    "#To keep clean the code\n",
    "#Car\n",
    "from car import Car #car: module    Car: class\n",
    "micarro = Car(\"Nissan\", \"X trail\", 2015)\n",
    "\n",
    "micarro.description()\n",
    "\n",
    "micarro.odometer = 45\n",
    "micarro.odometer_read()\n",
    "\n",
    "micarro.fillTank()"
   ]
  },
  {
   "cell_type": "code",
   "execution_count": 3,
   "id": "137ffd83",
   "metadata": {},
   "outputs": [
    {
     "name": "stdout",
     "output_type": "stream",
     "text": [
      "Tesla 22 2021\n",
      "\n",
      "Car has 90% of battery\n",
      "Battery is upgrading...\n",
      "\n",
      "Car has 100% of battery\n",
      "\n",
      "Car has 100% of battery\n",
      "Battery is already upgraded\n"
     ]
    }
   ],
   "source": [
    "#Storing multiple classes in a module\n",
    "from car import ElectricCar\n",
    "ecar = ElectricCar(\"Tesla\", \"22\", 2021)\n",
    "ecar.description()\n",
    "ecar.battery.batteryPercentage()\n",
    "ecar.battery.upgrade_Battery()\n",
    "ecar.battery.upgrade_Battery()"
   ]
  },
  {
   "cell_type": "code",
   "execution_count": 4,
   "id": "2e62298c",
   "metadata": {},
   "outputs": [
    {
     "name": "stdout",
     "output_type": "stream",
     "text": [
      "BMW M3 2020\n",
      "Renault Twizy 2022\n"
     ]
    }
   ],
   "source": [
    "#Importing multiple classes\n",
    "from car import Car, ElectricCar\n",
    "\n",
    "car = Car(\"BMW\", \"M3\", 2020)\n",
    "ecar = ElectricCar(\"Renault\", \"Twizy\", 2022)\n",
    "\n",
    "car.description()\n",
    "ecar.description()"
   ]
  },
  {
   "cell_type": "code",
   "execution_count": 8,
   "id": "571bb5e0",
   "metadata": {},
   "outputs": [
    {
     "name": "stdout",
     "output_type": "stream",
     "text": [
      "BMW M3 2020\n",
      "Renault Twizy 2022\n"
     ]
    }
   ],
   "source": [
    "#Importing entire class\n",
    "import car\n",
    "\n",
    "my_car = car.Car(\"BMW\", \"M3\", 2020)  #moduleName.ClassName\n",
    "my_car.description()\n",
    "\n",
    "ecar = car.ElectricCar(\"Renault\", \"Twizy\", 2022)\n",
    "ecar.description()"
   ]
  },
  {
   "cell_type": "code",
   "execution_count": 6,
   "id": "28ebe304",
   "metadata": {},
   "outputs": [
    {
     "name": "stdout",
     "output_type": "stream",
     "text": [
      "Volkswagen Beetle 2018\n",
      "The tank is filling\n",
      "The tank of Volkswagen Beetle is already filled\n",
      "\n",
      "\n",
      "Tesla Roadster 2019\n",
      "This is an ElectricCar, It doesn't uses a tank\n"
     ]
    }
   ],
   "source": [
    "#Importing all the classes from the module\n",
    "#Not recommended to import all the classes from a module without the specification\n",
    "from car import *\n",
    "\n",
    "my_car = Car('Volkswagen', 'Beetle', 2018)\n",
    "my_car.description()\n",
    "my_car.fillTank()\n",
    "print(f\"The tank of {my_car.manufacturer} {my_car.model} is already filled\")\n",
    "\n",
    "ecar = ElectricCar(\"Tesla\", \"Roadster\", 2019)\n",
    "print(\"\\n\")\n",
    "ecar.description()\n",
    "ecar.fillTank()"
   ]
  },
  {
   "cell_type": "code",
   "execution_count": null,
   "id": "85f865ac",
   "metadata": {},
   "outputs": [],
   "source": []
  }
 ],
 "metadata": {
  "kernelspec": {
   "display_name": "Python 3",
   "language": "python",
   "name": "python3"
  },
  "language_info": {
   "codemirror_mode": {
    "name": "ipython",
    "version": 3
   },
   "file_extension": ".py",
   "mimetype": "text/x-python",
   "name": "python",
   "nbconvert_exporter": "python",
   "pygments_lexer": "ipython3",
   "version": "3.9.1"
  }
 },
 "nbformat": 4,
 "nbformat_minor": 5
}
