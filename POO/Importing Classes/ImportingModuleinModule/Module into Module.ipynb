{
 "cells": [
  {
   "cell_type": "code",
   "execution_count": 7,
   "id": "9acb3ffd",
   "metadata": {},
   "outputs": [
    {
     "name": "stdout",
     "output_type": "stream",
     "text": [
      "Renault Twist 2021\n"
     ]
    }
   ],
   "source": [
    "#Se separaron las clases Car y ElectricCar en distintos módulos\n",
    "#Dentro del módulo electric_car.py se importa la clase Car desde el otro módulo car.py\n",
    "from car import Car\n",
    "from electric_car import Battery, ElectricCar\n",
    "\n",
    "ecar = ElectricCar(\"Renault\", 'Twist', 2021)\n",
    "ecar.description()"
   ]
  },
  {
   "cell_type": "code",
   "execution_count": 8,
   "id": "25d1513c",
   "metadata": {},
   "outputs": [
    {
     "name": "stdout",
     "output_type": "stream",
     "text": [
      "Renault Twist 2021\n"
     ]
    }
   ],
   "source": [
    "#Alias: as\n",
    "from car import Car\n",
    "from electric_car import Battery, ElectricCar as EC\n",
    "\n",
    "ecar = EC(\"Renault\", 'Twist', 2021)\n",
    "ecar.description()"
   ]
  },
  {
   "cell_type": "code",
   "execution_count": null,
   "id": "e5079963",
   "metadata": {},
   "outputs": [],
   "source": []
  }
 ],
 "metadata": {
  "kernelspec": {
   "display_name": "Python 3",
   "language": "python",
   "name": "python3"
  },
  "language_info": {
   "codemirror_mode": {
    "name": "ipython",
    "version": 3
   },
   "file_extension": ".py",
   "mimetype": "text/x-python",
   "name": "python",
   "nbconvert_exporter": "python",
   "pygments_lexer": "ipython3",
   "version": "3.9.1"
  }
 },
 "nbformat": 4,
 "nbformat_minor": 5
}
