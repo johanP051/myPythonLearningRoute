{
 "cells": [
  {
   "cell_type": "code",
   "execution_count": null,
   "metadata": {
    "collapsed": true
   },
   "outputs": [],
   "source": [
    "#objects based in classes\n",
    "#real-world situations\n",
    "#objects behavior\n",
    "#instantation is making an onject from a class"
   ]
  },
  {
   "cell_type": "code",
   "execution_count": 4,
   "metadata": {},
   "outputs": [
    {
     "name": "stdout",
     "output_type": "stream",
     "text": [
      "My dog is: Danna \n",
      "My dog is: 6 years old\n",
      "Danna is now sitting\n",
      "Danna has rolled over\n",
      "\n",
      "My dog is: Ralph\n",
      "My dog is 9 years old\n"
     ]
    }
   ],
   "source": [
    "#Dog class (name, age)information (sit, roll over)behaviors\n",
    "class Dog:\n",
    "    #Attributes\n",
    "    def __init__(self, name, age):\n",
    "        self.name = name\n",
    "        self.age = age\n",
    "        \n",
    "    def sit(self):\n",
    "        print(self.name, 'is now sitting')\n",
    "    def roll_over(self):\n",
    "        print(self.name, 'has rolled over')\n",
    "dog = Dog('Danna', 6) #Instance assignation to dog variable\n",
    "#Dog(), a name and an age as arguments; self is passed automatically\n",
    "print('My dog is:', dog.name, '\\nMy dog is:', dog.age, 'years old')\n",
    "\n",
    "dog.sit()\n",
    "dog.roll_over()\n",
    "\n",
    "my_dog = Dog('Ralph', 9)\n",
    "print(f\"\\nMy dog is: {my_dog.name}\")\n",
    "print(f\"My dog is {my_dog.age} years old\")\n"
   ]
  },
  {
   "cell_type": "code",
   "execution_count": null,
   "metadata": {},
   "outputs": [],
   "source": [
    "#Init method\n",
    "\n",
    "#Function that's part of a class is a method\n",
    "#Creation of new instance based in class\n",
    "#init() has parameters and self must be the 1st\n",
    "#Any variable prefixed with self is available to every method in the class\n",
    "#Attributes: Variable that are accessible from instances as self.name = name  (these are in init)\n",
    "\n",
    "# A method can't have the same name as an attr\n"
   ]
  },
  {
   "cell_type": "code",
   "execution_count": null,
   "metadata": {},
   "outputs": [],
   "source": [
    "#Accessing Attributes\n",
    "\n",
    "#Dot notation to access instance attr\n",
    "\n",
    "#We can assign an instance to any variable\n",
    "#my_dog.name, make an instance to my_dog, finds attr name"
   ]
  },
  {
   "cell_type": "code",
   "execution_count": null,
   "metadata": {},
   "outputs": [],
   "source": [
    "#Calling Methods\n",
    "\n",
    "#After making an instance we call a method defined in the class\n",
    "\n",
    "#my_dog.sit()               dot notation\n",
    "#my_dog.roll_over()"
   ]
  },
  {
   "cell_type": "code",
   "execution_count": 7,
   "metadata": {},
   "outputs": [
    {
     "name": "stdout",
     "output_type": "stream",
     "text": [
      "Mi carro es un audi y es modelo 2018\n",
      "El Audi está abriendo las puertas\n"
     ]
    }
   ],
   "source": [
    "#Carro\n",
    "class Carro:\n",
    "    def __init__(self, modelo, marca):\n",
    "        self.modelo = modelo\n",
    "        self.marca = marca\n",
    "    def puertas(self):\n",
    "        print(f\"El {self.marca.capitalize()} está abriendo las puertas\")\n",
    "        \n",
    "my_car = Carro(2018, 'audi')\n",
    "        \n",
    "print(f\"Mi carro es un {my_car.marca} y es modelo {my_car.modelo}\")\n",
    "my_car.puertas() #Method"
   ]
  },
  {
   "cell_type": "code",
   "execution_count": 17,
   "metadata": {},
   "outputs": [
    {
     "name": "stdout",
     "output_type": "stream",
     "text": [
      "Mi carro es un AUDI, año 2018\n",
      "El Audi está abriendo las puertas\n",
      "\n",
      "Su carro es un BMW, año 2021\n",
      "El BMW está abriendo las puertas\n"
     ]
    }
   ],
   "source": [
    "#Multiple Instances\n",
    "#We can create many instances as we need\n",
    "class Carro:\n",
    "    def __init__(self, año, marca):\n",
    "        self.año = año\n",
    "        self.marca = marca\n",
    "    def puertas(self):\n",
    "        print(f\"El {self.marca} está abriendo las puertas\")\n",
    "        \n",
    "my_car = Carro(2018, 'Audi')\n",
    "yourCar = Carro(2021, 'BMW')\n",
    "\n",
    "print(f\"Mi carro es un {my_car.marca.upper()}, año {my_car.año}\")\n",
    "my_car.puertas()\n",
    "\n",
    "print(f\"\\nSu carro es un {yourCar.marca}, año {yourCar.año}\")\n",
    "yourCar.puertas() #yourCar, self, instance to itself"
   ]
  },
  {
   "cell_type": "code",
   "execution_count": 7,
   "metadata": {},
   "outputs": [
    {
     "name": "stdout",
     "output_type": "stream",
     "text": [
      "El restaurante es 'Barbaros', cocina de tipo Italiana\n",
      "Barbaros, está abierto\n",
      "\n",
      "El restaurante es 'La Vasbor', cocina de tipo Paisa\n",
      "La vasbor, está abierto\n",
      "\n",
      "El restaurante es 'Rico Rápido', cocina de tipo Comida Rápida\n",
      "Rico Rápido, está abierto\n",
      "\n",
      "El resturante Piazolla ha atendido a 800 personas\n"
     ]
    }
   ],
   "source": [
    "class Restaurante:\n",
    "\n",
    "    def __init__(self, nombre, cocina):\n",
    "        self.nombre = nombre\n",
    "        self.cocina = cocina\n",
    "        self.number_served = 0\n",
    "\n",
    "    def descripcion(self):\n",
    "        print(f\"El restaurante es '{self.nombre.title()}', cocina de tipo {self.cocina}\")\n",
    "\n",
    "    def abierto(self):\n",
    "        print(f\"{self.nombre}, está abierto\\n\")\n",
    "\n",
    "    def numberServed(self):\n",
    "        print(f\"El resturante {self.nombre} ha atendido a {self.number_served} personas\")\n",
    "\n",
    "    def set_numberServed(self, newValue):\n",
    "        self.number_served = newValue\n",
    "        \n",
    "    def increment_numberServed(self, Incrementvalue):\n",
    "        self.number_served += Incrementvalue\n",
    "\n",
    "miRestaurante = Restaurante('Barbaros', 'Italiana')\n",
    "miRestaurante.descripcion()\n",
    "miRestaurante.abierto()\n",
    "\n",
    "_2restaurante = Restaurante('La vasbor', 'Paisa')\n",
    "_2restaurante.descripcion()\n",
    "_2restaurante.abierto()\n",
    "\n",
    "_3restaurante = Restaurante('Rico Rápido', 'Comida Rápida')\n",
    "_3restaurante.descripcion()\n",
    "_3restaurante.abierto()\n",
    "\n",
    "restaurant = Restaurante('Piazolla', \"Italiano\")\n",
    "restaurant.set_numberServed(800)\n",
    "restaurant.numberServed()\n"
   ]
  },
  {
   "cell_type": "code",
   "execution_count": 20,
   "metadata": {},
   "outputs": [
    {
     "name": "stdout",
     "output_type": "stream",
     "text": [
      "\n",
      "Firstname: Johan\n",
      "Lastname: Posada\n",
      "Age: 15\n",
      "\n",
      "Hi Johan Posada!!\n",
      "\n",
      "Firstname: Elliot\n",
      "Lastname: Alderson\n",
      "Age: 28\n",
      "\n",
      "Hi Elliot Alderson!!\n",
      "Login attempts: 1\n",
      "Login attempts: 2\n",
      "Login attempts: 3\n",
      "Login attempts: 4\n",
      "Login attempts: 5\n",
      "\n",
      "Login attempts: 0\n"
     ]
    }
   ],
   "source": [
    "class Users:\n",
    "\n",
    "    def __init__(self, firstName, lastName, age):\n",
    "        self.firstName = firstName\n",
    "        self.lastName = lastName\n",
    "        self.age = age\n",
    "        self.login_attepmts = 0\n",
    "\n",
    "    def description(self):\n",
    "        print(f\"\\nFirstname: {self.firstName}\\nLastname: {self.lastName}\\nAge: {self.age}\")\n",
    "\n",
    "    def greet(self):\n",
    "        print(f\"\\nHi {self.firstName} {self.lastName}!!\")\n",
    "\n",
    "    def increment_login_attempts(self):\n",
    "        self.login_attepmts += 1\n",
    "        print(f\"Login attempts: {self.login_attepmts}\")\n",
    "    \n",
    "    def reset_login_attempts(self):\n",
    "        self.login_attepmts = 0\n",
    "        print(f\"\\nLogin attempts: {self.login_attepmts}\")\n",
    "\n",
    "me = Users('Johan', 'Posada', 15)\n",
    "you = Users('Elliot', 'Alderson', 28)\n",
    "me.description()\n",
    "me.greet()\n",
    "\n",
    "you.description()\n",
    "you.greet()\n",
    "\n",
    "user = Users('Anonymous', 'X', 2)\n",
    "user.increment_login_attempts()\n",
    "user.increment_login_attempts()\n",
    "user.increment_login_attempts()\n",
    "user.increment_login_attempts()\n",
    "user.increment_login_attempts()\n",
    "\n",
    "user.reset_login_attempts()"
   ]
  },
  {
   "cell_type": "code",
   "execution_count": 2,
   "metadata": {},
   "outputs": [
    {
     "name": "stdout",
     "output_type": "stream",
     "text": [
      "Nissan Versa 2021\n",
      "Toyota Land Cruiser 2017\n"
     ]
    }
   ],
   "source": [
    "class Car:\n",
    "\n",
    "    def __init__(self, manufacturer, model, year):\n",
    "        self.manufacturer = manufacturer\n",
    "        self.model = model\n",
    "        self.year = year\n",
    "    \n",
    "    def description(self):\n",
    "        name = f\"{self.manufacturer} {self.model} {self.year}\"\n",
    "        return name.title()\n",
    "\n",
    "car = Car('Nissan', 'Versa', 2021)\n",
    "car2 = Car('Toyota', 'Land Cruiser', 2017)\n",
    "\n",
    "print(car.description())\n",
    "print(car2.description())"
   ]
  },
  {
   "cell_type": "code",
   "execution_count": 10,
   "metadata": {},
   "outputs": [
    {
     "name": "stdout",
     "output_type": "stream",
     "text": [
      "Ferrari a1 2022\n",
      "This car has recorred 0 miles\n",
      "This car has recorred 23 miles\n"
     ]
    }
   ],
   "source": [
    "#Default Values for attrs\n",
    "#We can assign deafault values for attrs in the init\n",
    "#Attrs can be defined without being passed as parameters\n",
    "class Car:\n",
    "    def __init__(self, manufacturer, model, year):\n",
    "        self.manufacturer = manufacturer\n",
    "        self.model = model\n",
    "        self.year = year\n",
    "        self.odometer = 0\n",
    "    \n",
    "    def description(self):\n",
    "        name = f\"{self.manufacturer} {self.model} {self.year}\"\n",
    "        print(name)\n",
    "        \n",
    "    def odometer_read(self):\n",
    "        print(f\"This car has recorred {self.odometer} miles\")\n",
    "    \n",
    "mycar = Car('Ferrari', 'a1', 2022)\n",
    "mycar.description()\n",
    "mycar.odometer_read()\n",
    "\n",
    "#Modify attrs values\n",
    "mycar.odometer = 23\n",
    "mycar.odometer_read()"
   ]
  },
  {
   "cell_type": "code",
   "execution_count": 6,
   "metadata": {},
   "outputs": [
    {
     "name": "stdout",
     "output_type": "stream",
     "text": [
      "Insert the value for the odometer: 100\n",
      "This car has recorred 100 miles\n",
      "This car has recorred 200 miles\n"
     ]
    }
   ],
   "source": [
    "#Modify attrs values through a method\n",
    "class Car:\n",
    "    def __init__(self, manufacturer, model, year):\n",
    "        self.manufacturer = manufacturer\n",
    "        self.model = model\n",
    "        self.year = year\n",
    "        self.odometer = 23\n",
    "    \n",
    "    def description(self):\n",
    "        name = f\"{self.manufacturer} {self.model} {self.year}\"\n",
    "        print(name)\n",
    "    \n",
    "    def odometer_read(self):\n",
    "        print(f\"This car has recorred {self.odometer} miles\")\n",
    "    \n",
    "    #This method updates the odometer value\n",
    "    def updateOdometer(self):\n",
    "        while True:\n",
    "            try:\n",
    "                miles = int(input('Insert the value for the odometer: '))\n",
    "            except ValueError:\n",
    "                continue\n",
    "            if miles < self.odometer:\n",
    "                print(\"You can't roll back an odometer\")\n",
    "                continue\n",
    "            else:\n",
    "                self.odometer = miles\n",
    "                #print(f\"New value for odometer: {self.odometer}\")\n",
    "                break\n",
    "    def incrementOdometer(self, miles):\n",
    "        self.odometer += miles #self.odometer = self.odometer + miles\n",
    "            \n",
    "mycar = Car('Ferrari', 'a1', 2022)\n",
    "mycar.updateOdometer()\n",
    "mycar.odometer_read()\n",
    "mycar.incrementOdometer(100)\n",
    "mycar.odometer_read()\n",
    "#Updating\n",
    "#Nvalue = int(input('Insert the value for the odometer: '))\n",
    "#mycar.updateOdometer(Nvalue)\n",
    "#mycar.odometer_read()"
   ]
  },
  {
   "cell_type": "code",
   "execution_count": null,
   "metadata": {},
   "outputs": [],
   "source": []
  }
 ],
 "metadata": {
  "kernelspec": {
   "display_name": "Python 3",
   "language": "python",
   "name": "python3"
  },
  "language_info": {
   "codemirror_mode": {
    "name": "ipython",
    "version": 3
   },
   "file_extension": ".py",
   "mimetype": "text/x-python",
   "name": "python",
   "nbconvert_exporter": "python",
   "pygments_lexer": "ipython3",
   "version": "3.9.1"
  }
 },
 "nbformat": 4,
 "nbformat_minor": 2
}
