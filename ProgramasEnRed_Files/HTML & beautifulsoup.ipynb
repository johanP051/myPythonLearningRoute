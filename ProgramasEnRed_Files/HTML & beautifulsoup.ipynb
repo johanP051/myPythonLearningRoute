{
 "cells": [
  {
   "cell_type": "code",
   "execution_count": null,
   "metadata": {},
   "outputs": [],
   "source": [
    "#Análisis de HTML y rascado de la web\n",
    "'''\n",
    "Rascado(raspado) de la web = crear un programa que funciona de navegador y recupera páginas\n",
    "Examinar los datos obtenidos para encontrar patrones\n",
    "Un buscador usa es raspado para alcanzar las páginas y determinar su importancia\n",
    "Resutados de búsqueda\n",
    "'''"
   ]
  },
  {
   "cell_type": "code",
   "execution_count": 3,
   "metadata": {},
   "outputs": [
    {
     "name": "stdout",
     "output_type": "stream",
     "text": [
      "Introduzca - http://www.dr-chuck.com/page1.htm\n",
      "http://www.dr-chuck.com/page2.htm\n"
     ]
    }
   ],
   "source": [
    "#Análisis de HTML mediante expresiones regulares\n",
    "\n",
    "#Expresiones regulares: string que conforma un patrón de búsqueda\n",
    "#Analizar HTML con Exp.Reg para hacer busquedas repetitivas y extraer algo coincedente con un patrón\n",
    "\n",
    "'''\n",
    "SSL: Secure Socket Layer - datos seguros entre un navegador y un servidor web\n",
    "Usado para tener una conversación privada y segura por dos partes\n",
    "Cifrar la información transmitida\n",
    "'''\n"
   ]
  },
  {
   "cell_type": "code",
   "execution_count": 1,
   "metadata": {},
   "outputs": [
    {
     "data": {
      "text/plain": [
       "'<h1>La Primera Página</h1>\\n<p>\\nSi quieres, puedes visitar la\\n<a href=\"http://www.dr-chuck.com/page2.htm\">\\nSegunda Página</a>.\\n</p>\\n\\nExpresión Regular\\nhref=\\'(http[s]?://.+?)\\'\\n'"
      ]
     },
     "execution_count": 1,
     "metadata": {},
     "output_type": "execute_result"
    }
   ],
   "source": [
    "'''<h1>La Primera Página</h1>\n",
    "<p>\n",
    "Si quieres, puedes visitar la\n",
    "<a href=\"http://www.dr-chuck.com/page2.htm\">\n",
    "Segunda Página</a>.\n",
    "</p>\n",
    "\n",
    "Expresión Regular\n",
    "href='(http[s]?://.+?)'\n",
    "'''\n",
    "#La expresión regular busca cadenas que empiecen con 'href=http' o 'href=https' \n",
    "#'?' despues de [s] sinifica hacer la búsqueda en modo no codicioso   el otro es el codicioso\n",
    "#Codicioso = la cadena más grande coincidente\n",
    "#No codicioso = cadena más pequeña coincidente"
   ]
  },
  {
   "cell_type": "code",
   "execution_count": 7,
   "metadata": {},
   "outputs": [
    {
     "name": "stdout",
     "output_type": "stream",
     "text": [
      "Insert the url ~ https://docs.python.org/3/\n",
      "href=\"https://docs.python.org/3/index.html\"\n",
      "href=\"https://www.python.org/\"\n",
      "href=\"https://devguide.python.org/docquality/#helping-with-documentation\"\n",
      "href=\"https://docs.python.org/3.10/\"\n",
      "href=\"https://docs.python.org/3.9/\"\n",
      "href=\"https://docs.python.org/3.8/\"\n",
      "href=\"https://docs.python.org/3.7/\"\n",
      "href=\"https://docs.python.org/3.6/\"\n",
      "href=\"https://docs.python.org/3.5/\"\n",
      "href=\"https://docs.python.org/2.7/\"\n",
      "href=\"https://www.python.org/doc/versions/\"\n",
      "href=\"https://www.python.org/dev/peps/\"\n",
      "href=\"https://wiki.python.org/moin/BeginnersGuide\"\n",
      "href=\"https://wiki.python.org/moin/PythonBooks\"\n",
      "href=\"https://www.python.org/doc/av/\"\n",
      "href=\"https://devguide.python.org/\"\n",
      "href=\"https://www.python.org/\"\n",
      "href=\"https://www.python.org/psf/donations/\"\n",
      "href=\"https://docs.python.org/3/bugs.html\"\n",
      "href=\"https://www.sphinx-doc.org/\"\n"
     ]
    }
   ],
   "source": [
    "#Búsqueda de valores de enlaces dentro de una URL\n",
    "import urllib.request, urllib.parse, urllib.error, re, ssl\n",
    "#Errores del certificado SSL\n",
    "ctk = ssl.create_default_context()\n",
    "ctk.check_hostname = False\n",
    "ctk.verify_mode = ssl.CERT_NONE\n",
    "\n",
    "url = input('Insert the url ~ ')\n",
    "html = urllib.request.urlopen(url) .read()\n",
    "links = re.findall(b'href=\"http[s]?://.*?\"', html)\n",
    "for link in links:\n",
    "    print(link.decode())\n",
    "\n",
    "#librería ssl: para acceder a sitios https\n",
    "#read(): html como un binario no como HTTPResponse\n",
    "#re = Reg Exp, el metodo re.findall lsita las cadenas concidentes con la expresión regular \"http[s]?://.*?\"\n"
   ]
  },
  {
   "cell_type": "code",
   "execution_count": 6,
   "metadata": {},
   "outputs": [
    {
     "name": "stdout",
     "output_type": "stream",
     "text": [
      "Insert the url ~ https://docs.python.org/3/\n",
      "genindex.html\n",
      "py-modindex.html\n",
      "https://www.python.org/\n",
      "#\n",
      "whatsnew/3.9.html\n",
      "whatsnew/index.html\n",
      "tutorial/index.html\n",
      "library/index.html\n",
      "reference/index.html\n",
      "using/index.html\n",
      "howto/index.html\n",
      "installing/index.html\n",
      "distributing/index.html\n",
      "extending/index.html\n",
      "c-api/index.html\n",
      "faq/index.html\n",
      "py-modindex.html\n",
      "genindex.html\n",
      "glossary.html\n",
      "search.html\n",
      "contents.html\n",
      "bugs.html\n",
      "https://devguide.python.org/docquality/#helping-with-documentation\n",
      "about.html\n",
      "license.html\n",
      "copyright.html\n",
      "download.html\n",
      "https://docs.python.org/3.10/\n",
      "https://docs.python.org/3.9/\n",
      "https://docs.python.org/3.8/\n",
      "https://docs.python.org/3.7/\n",
      "https://docs.python.org/3.6/\n",
      "https://docs.python.org/3.5/\n",
      "https://docs.python.org/2.7/\n",
      "https://www.python.org/doc/versions/\n",
      "https://www.python.org/dev/peps/\n",
      "https://wiki.python.org/moin/BeginnersGuide\n",
      "https://wiki.python.org/moin/PythonBooks\n",
      "https://www.python.org/doc/av/\n",
      "https://devguide.python.org/\n",
      "genindex.html\n",
      "py-modindex.html\n",
      "https://www.python.org/\n",
      "#\n",
      "copyright.html\n",
      "https://www.python.org/psf/donations/\n",
      "https://docs.python.org/3/bugs.html\n",
      "https://www.sphinx-doc.org/\n"
     ]
    }
   ],
   "source": [
    "#BeautifulSoup = librería para análisis de HTML\n",
    "\n",
    "#urllib para leer la página y BFS para extrear atributos href\n",
    "from bs4 import BeautifulSoup\n",
    "import urllib.request, urllib.error, urllib.parse\n",
    "import ssl\n",
    "\n",
    "#Ignorar errores del certificado ssl\n",
    "ctk = ssl.create_default_context() #.create_default_context es un atributo del ssl\n",
    "ctk.check_hostname = False\n",
    "ctk.verify_mode = ssl.CERT_NONE\n",
    "\n",
    "url = input('Insert the url ~ ')\n",
    "html = urllib.request.urlopen(url, context=ctk).read()\n",
    "soup = BeautifulSoup(html, 'html.parser')#html parser es un analizador de html\n",
    "\n",
    "#Recuperación de etiquetas de anclaje\n",
    "tags = soup('a')\n",
    "for tag in tags:\n",
    "    print(tag.get('href', None))\n",
    "    \n",
    "#Solicita la url, la abre, lee datos, se la pasa a BFS para analizar. \n",
    "#Recupera las etiquetas de anclaje imprimiendo su atributo href"
   ]
  },
  {
   "cell_type": "code",
   "execution_count": 10,
   "metadata": {},
   "outputs": [
    {
     "name": "stdout",
     "output_type": "stream",
     "text": [
      "Insert the url ~ http://www.dr-chuck.com/page1.htm\n",
      "TAG:  <a href=\"http://www.dr-chuck.com/page2.htm\">\n",
      "Second Page</a>\n",
      "URL:  http://www.dr-chuck.com/page2.htm\n",
      "CONTENT \n",
      "Second Page\n",
      "ATRIBUTES {'href': 'http://www.dr-chuck.com/page2.htm'}\n"
     ]
    }
   ],
   "source": [
    "#BeautifulSoup para extraer cada parte de la ETIQUETA\n",
    "import urllib.request, urllib.parse, urllib.error, ssl\n",
    "from bs4 import BeautifulSoup\n",
    "\n",
    "ctk = ssl.create_default_context()\n",
    "ctk.check_hostname = False\n",
    "ctk.verify_mode = ssl.CERT_NONE\n",
    "\n",
    "url = input('Insert the url ~ ')\n",
    "html = urllib.request.urlopen(url, context=ctk).read()\n",
    "soup = BeautifulSoup(html, 'html.parser')\n",
    "\n",
    "tags = soup('a')\n",
    "for tag in tags:\n",
    "    print('TAG: ',tag)\n",
    "    print('URL: ', tag.get('href', None))\n",
    "    print('CONTENT', tag.contents[0])\n",
    "    print('ATRIBUTES', tag.attrs)"
   ]
  },
  {
   "cell_type": "code",
   "execution_count": null,
   "metadata": {},
   "outputs": [],
   "source": []
  }
 ],
 "metadata": {
  "kernelspec": {
   "display_name": "Python 3",
   "language": "python",
   "name": "python3"
  },
  "language_info": {
   "codemirror_mode": {
    "name": "ipython",
    "version": 3
   },
   "file_extension": ".py",
   "mimetype": "text/x-python",
   "name": "python",
   "nbconvert_exporter": "python",
   "pygments_lexer": "ipython3",
   "version": "3.7.3"
  }
 },
 "nbformat": 4,
 "nbformat_minor": 2
}
