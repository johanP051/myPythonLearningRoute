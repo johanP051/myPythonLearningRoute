{
 "cells": [
  {
   "cell_type": "code",
   "execution_count": 14,
   "metadata": {},
   "outputs": [
    {
     "name": "stdout",
     "output_type": "stream",
     "text": [
      "b'But soft what light through yonder window breaks\\n' \n",
      "\n",
      "b'It is the east and Juliet is the sun\\n' \n",
      "\n",
      "b'Arise fair sun and kill the envious moon\\n' \n",
      "\n",
      "b'Who is already sick and pale with grief\\n' \n",
      "\n",
      "But soft what light through yonder window breaks\n",
      "It is the east and Juliet is the sun\n",
      "Arise fair sun and kill the envious moon\n",
      "Who is already sick and pale with grief\n"
     ]
    }
   ],
   "source": [
    "'''\n",
    "Urllib es usado para leer datos de URL usando varios protocolos (HTTP, HTTPS, FTP, Gopher)\n",
    "Se puede trabajar a una pagina web de forma parecida a un archivo\n",
    "Se usa urlopen que cuenta con metodos como read, readlines, readline y close\n",
    "'''\n",
    "import urllib.request\n",
    "filehand = urllib.request.urlopen('http://data.pr4e.org/romeo.txt')\n",
    "\n",
    "#Cuando la página ya ha sido abierta, se puede tratar como un archivo y leer su contenido con un bucle for\n",
    "for line in filehand:\n",
    "    print(line, '\\n')\n",
    "    \n",
    "#Como el archivo contiene saltos de línea, los eliminamos con strip()\n",
    "#Cada linea esta codificada (b'') por eso usamos decode()\n",
    "\n",
    "filehand = urllib.request.urlopen('http://data.pr4e.org/romeo.txt')\n",
    "\n",
    "for line in filehand:\n",
    "    print(line.strip() .decode())"
   ]
  },
  {
   "cell_type": "code",
   "execution_count": 45,
   "metadata": {},
   "outputs": [
    {
     "name": "stdout",
     "output_type": "stream",
     "text": [
      "Insert the url here: http://data.pr4e.org/romeo.txt\n",
      "{'But': 1, 'soft': 1, 'what': 1, 'light': 1, 'through': 1, 'yonder': 1, 'window': 1, 'breaks': 1, 'It': 1, 'is': 3, 'the': 3, 'east': 1, 'and': 3, 'Juliet': 1, 'sun': 2, 'Arise': 1, 'fair': 1, 'kill': 1, 'envious': 1, 'moon': 1, 'Who': 1, 'already': 1, 'sick': 1, 'pale': 1, 'with': 1, 'grief': 1}\n"
     ]
    }
   ],
   "source": [
    "import urllib.request, urllib.parse, urllib.error\n",
    "url = input('Insert the url here: ')\n",
    "\n",
    "filehand = urllib.request.urlopen(url)\n",
    "\n",
    "wordCounter = dict()\n",
    "\n",
    "for line in filehand: #para econtrar las palabras va a decodificar la linea y la va a separar (split)por palabras creando un diccionario\n",
    "    findedWords = line.decode() .split()\n",
    "    \n",
    "    for word in findedWords:\n",
    "        wordCounter[word] = wordCounter.get(word, 0) + 1#establece el contador de palabras, lo pone en 0 y le va sumando 1 a cada que encuentre\n",
    "\n",
    "print(wordCounter)"
   ]
  },
  {
   "cell_type": "code",
   "execution_count": 55,
   "metadata": {},
   "outputs": [
    {
     "name": "stdout",
     "output_type": "stream",
     "text": [
      "Insert the url: http://data.pr4e.org/cover3.jpg\n",
      "The image had been saved into this folder!\n"
     ]
    }
   ],
   "source": [
    "#Archivos binarios\n",
    "#abrir la Url, usar read para descargar el contenido y almacenarlo en una cadena(img), para despues abrilo en un archivo.\n",
    "#Lee los datos que recibe de la red para almacenarlos en la variable img\n",
    "import urllib.request, urllib.parse, urllib.error\n",
    "url = input('Insert the url: ')\n",
    "img = urllib.request.urlopen(url) .read()\n",
    "\n",
    "#Se abre el archivo y escribe los datos en el disco\n",
    "#se debe guardar con formato de imagen\n",
    "filehand = open('caratula.jpg', 'wb') #wb para escribir archivos binarios en modo escritura\n",
    "filehand.write(img)\n",
    "filehand.close()\n",
    "print('The image had been saved into this folder!')"
   ]
  },
  {
   "cell_type": "code",
   "execution_count": 69,
   "metadata": {},
   "outputs": [
    {
     "name": "stdout",
     "output_type": "stream",
     "text": [
      "Insert the url: http://data.pr4e.org/cover3.jpg\n",
      "230210 copied characters\n"
     ]
    }
   ],
   "source": [
    "#Archivos Binarios Pesados\n",
    "'''\n",
    "Para evitar que se llene la memoria:\n",
    "El programa lee y almacena cierta cantidad de datos en un bloque antos de continuar con los demás(siguiente bloque)\n",
    "'''\n",
    "import urllib.request\n",
    "url = input('Insert the url: ')\n",
    "img = urllib.request.urlopen(url)\n",
    "filehand = open('caratula2.jpg', 'wb')\n",
    "\n",
    "size = 0\n",
    "\n",
    "while True:\n",
    "    #se leen 100000 caracteres y se escriben en caratula2.jpeg antes de obtener los siguientes caracteres de datos\n",
    "    information = img.read(100000)\n",
    "    if len(information) < 1:\n",
    "        break\n",
    "    size = size + len(information)\n",
    "    filehand.write(information)\n",
    "\n",
    "print(size, 'copied characters')\n",
    "filehand.close()"
   ]
  },
  {
   "cell_type": "code",
   "execution_count": null,
   "metadata": {},
   "outputs": [],
   "source": []
  }
 ],
 "metadata": {
  "kernelspec": {
   "display_name": "Python 3",
   "language": "python",
   "name": "python3"
  },
  "language_info": {
   "codemirror_mode": {
    "name": "ipython",
    "version": 3
   },
   "file_extension": ".py",
   "mimetype": "text/x-python",
   "name": "python",
   "nbconvert_exporter": "python",
   "pygments_lexer": "ipython3",
   "version": "3.7.3"
  }
 },
 "nbformat": 4,
 "nbformat_minor": 2
}
