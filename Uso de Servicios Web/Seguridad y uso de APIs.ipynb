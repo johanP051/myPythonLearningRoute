{
 "cells": [
  {
   "cell_type": "code",
   "execution_count": null,
   "metadata": {},
   "outputs": [],
   "source": [
    "#Aplication Programming Interfaces(contratos entre aplicaciones)\n",
    "#Pautas de interacción entre 2 aplicaciones\n",
    "#API keys, web services, OAuth(firmar peticiones)\n",
    "#SOA(Service-Object Architecture) servicios de otra app   [noSOA]"
   ]
  },
  {
   "cell_type": "code",
   "execution_count": null,
   "metadata": {},
   "outputs": [],
   "source": [
    "#Google Geolocation\n",
    "import urllib.request, urllib.parse, urllib.error\n",
    "import json, ssl, signal, sys\n",
    "\n",
    "def signal_handler(signal, frame):\n",
    "    print('Exiting...')\n",
    "    sys.exit(0)\n",
    "signal.signal(signal.SIGINT, signal_handler)\n",
    "\n",
    "api_key = False\n",
    "\n",
    "if api_key is False:\n",
    "    api_key = 42\n",
    "    service_url = 'http://py4e-data.dr-chuck.net/json?'\n",
    "else:\n",
    "    service_url = 'https://maps.googleapis.com/maps/api/geocode/json?'\n",
    "    \n",
    "#Ignorar errores certificado ssl\n",
    "ctx = ssl.create_default_context()\n",
    "ctx.check_hostname = False\n",
    "ctx.verify_mode = ssl.CERT_NONE\n",
    "\n",
    "while True:\n",
    "    address = input('Insert an address: ')\n",
    "    if len(address) < 1:\n",
    "        break\n",
    "        \n",
    "    parms = dict()\n",
    "    parms['address'] = address\n",
    "    \n",
    "    if api_key is not False:\n",
    "        parms['key'] = api_key\n",
    "    url = service_url + urllib.parse.urlencode(parms)#Construcción de url codificándola\n",
    "\n",
    "    print('Retrieving: ', url)\n",
    "    open_url = urllib.request.urlopen(url, context = ctx)\n",
    "    info = open_url.read().decode()\n",
    "    print('Retrieved: ', len(info), 'characters')\n",
    "\n",
    "    #json.loads() para convertir un JSON string document a un diccionario python\n",
    "    try:\n",
    "        js = json.loads(info)\n",
    "    except:\n",
    "        js = None\n",
    "    if not js or 'status' not in js or js['status'] != 'OK':\n",
    "        print('...There was an error retrieving...')\n",
    "        print(info)\n",
    "        continue\n",
    "        \n",
    "    #json.dumps para convertir un objeto python a un JSON string\n",
    "    print(json.dumps(js, indent = 4))\n",
    "    \n",
    "    lat = js['results'][0]['geometry']['location']['lat']\n",
    "    lng = js['results'][0]['geometry']['location']['lng']\n",
    "    \n",
    "    print('Longitude:', lng, '\\nLatitude:', lat)\n",
    "    \n",
    "    location = js['results'][0]['formatted_address']\n",
    "    print('\\n', location)"
   ]
  },
  {
   "cell_type": "code",
   "execution_count": null,
   "metadata": {},
   "outputs": [],
   "source": []
  }
 ],
 "metadata": {
  "kernelspec": {
   "display_name": "Python 3",
   "language": "python",
   "name": "python3"
  },
  "language_info": {
   "codemirror_mode": {
    "name": "ipython",
    "version": 3
   },
   "file_extension": ".py",
   "mimetype": "text/x-python",
   "name": "python",
   "nbconvert_exporter": "python",
   "pygments_lexer": "ipython3",
   "version": "3.7.3"
  }
 },
 "nbformat": 4,
 "nbformat_minor": 2
}
