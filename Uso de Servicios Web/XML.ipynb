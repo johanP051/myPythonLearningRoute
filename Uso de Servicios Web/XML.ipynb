{
 "cells": [
  {
   "cell_type": "code",
   "execution_count": null,
   "metadata": {},
   "outputs": [],
   "source": [
    "#XML: es estructurado\n",
    "'''<person> \n",
    "<name>Chuck</name>\n",
    "<phone type=\"intl\">\n",
    "+1 734 303 4456\n",
    "</phone>\n",
    "<email hide=\"yes\" />\n",
    "</person>'''\n",
    "\n",
    "#Etiquetas de apertura y cierre('') representan a un elemento o nodo con el nombre de la etiqueta(person).\n",
    "#Elemento: texto, atributos, elmts anidados(hide)\n",
    "#Elemt XML vacío = etq auto-cerrada = ('')\n",
    "#En el elemento raíz se contienen todos los subelementos, es el 1ro q se encuentra"
   ]
  },
  {
   "cell_type": "code",
   "execution_count": 1,
   "metadata": {},
   "outputs": [
    {
     "name": "stdout",
     "output_type": "stream",
     "text": [
      "Name Chuck\n",
      "Atributes yes\n",
      "Phone \n",
      "+1 734 303 4456\n",
      "\n"
     ]
    }
   ],
   "source": [
    "#Análisis de XML\n",
    "import xml.etree.ElementTree as XET\n",
    "\n",
    "info = '''<person> \n",
    "<name>Chuck</name>\n",
    "<phone type=\"intl\">\n",
    "+1 734 303 4456\n",
    "</phone>\n",
    "<email hide=\"yes\" />\n",
    "</person>'''\n",
    "\n",
    "#fromstring forma un arbol con el XML, ya estructurado se pude obtener porciones de datos con métodos\n",
    "tree = XET.fromstring(info)\n",
    "print('Name', tree.find('name').text)#.text accede al contenido textual del elmento\n",
    "print('Atributes', tree.find('email').get('hide'))#.get accede a los atributos del elemento\n",
    "print('Phone', tree.find('phone').text)"
   ]
  },
  {
   "cell_type": "code",
   "execution_count": 4,
   "metadata": {},
   "outputs": [
    {
     "name": "stdout",
     "output_type": "stream",
     "text": [
      "Total of users: 2 \n",
      "\n",
      "Name: Chuck\n",
      "Id: 001\n",
      "Attributes: 2 \n",
      "\n",
      "Name: Brent\n",
      "Id: 009\n",
      "Attributes: 7 \n",
      "\n"
     ]
    }
   ],
   "source": [
    "#Desplazamiento a través de los nodos\n",
    "#Se necesita crear un bucle para recorrer los nodos\n",
    "import xml.etree.ElementTree as XET\n",
    "info = '''\n",
    "<thing>\n",
    "<users>\n",
    "<user x=\"2\">\n",
    "<id>001</id>\n",
    "<name>Chuck</name>\n",
    "</user>\n",
    "<user x=\"7\">\n",
    "<id>009</id>\n",
    "<name>Brent</name>\n",
    "</user>\n",
    "</users>\n",
    "</thing>'''\n",
    "\n",
    "tree = XET.fromstring(info)\n",
    "\n",
    "#findall devuelve todos los subelementos coincidentes con el elemento raíz(users/user)\n",
    "#'user' está dentro su base 'users'\n",
    "#find devuelve el subelemento coincidente con el elmnt raiz(users/user) \n",
    "users = tree.findall('users/user')\n",
    "print('Total of users:',len(users),'\\n')\n",
    "\n",
    "#para recorrer todos los users con un bucle\n",
    "for element in users:\n",
    "    print('Name:', element.find('name').text)\n",
    "    print('Id:', element.find('id').text)#devuelve \n",
    "    print('Attributes:', element.get('x'),'\\n')"
   ]
  },
  {
   "cell_type": "code",
   "execution_count": 6,
   "metadata": {},
   "outputs": [
    {
     "name": "stdout",
     "output_type": "stream",
     "text": [
      "There are: 2 users\n",
      "There are: 0 users\n"
     ]
    }
   ],
   "source": [
    "import xml.etree.ElementTree as XET\n",
    "info = '''\n",
    "<thing>\n",
    "<users>\n",
    "<user x=\"2\">\n",
    "<id>001</id>\n",
    "<name>Chuck</name>\n",
    "</user>\n",
    "<user x=\"7\">\n",
    "<id>009</id>\n",
    "<name>Brent</name>\n",
    "</user>\n",
    "</users>\n",
    "</thing>'''\n",
    "tree = XET.fromstring(info)\n",
    "#elemt usuario anidado dentro de su raíz usuarios\n",
    "users1 = tree.findall('users/user')\n",
    "#elemt usuario no anidado dentro de los usuarios\n",
    "user2 = tree.findall('user')\n",
    "\n",
    "print('There are:', len(users1), 'users')\n",
    "print('There are:', len(user2), 'users')"
   ]
  },
  {
   "cell_type": "code",
   "execution_count": null,
   "metadata": {},
   "outputs": [],
   "source": []
  }
 ],
 "metadata": {
  "kernelspec": {
   "display_name": "Python 3",
   "language": "python",
   "name": "python3"
  },
  "language_info": {
   "codemirror_mode": {
    "name": "ipython",
    "version": 3
   },
   "file_extension": ".py",
   "mimetype": "text/x-python",
   "name": "python",
   "nbconvert_exporter": "python",
   "pygments_lexer": "ipython3",
   "version": "3.7.3"
  }
 },
 "nbformat": 4,
 "nbformat_minor": 2
}
