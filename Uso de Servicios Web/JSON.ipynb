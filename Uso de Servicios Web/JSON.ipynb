{
 "cells": [
  {
   "cell_type": "code",
   "execution_count": null,
   "metadata": {},
   "outputs": [],
   "source": [
    "#JSON se contruye anidando diccionarios(clave-valor) y listas\n",
    "'''{\n",
    "\"name\" : \"Chuck\",\n",
    "\"phone\" : {\n",
    "\"type\" : \"intl\",\n",
    "\"number\" : \"+1 734 303 4456\"\n",
    "},\n",
    "\"email\" : {\n",
    "\"hide\" : \"yes\"\n",
    "}\n",
    "}'''"
   ]
  },
  {
   "cell_type": "code",
   "execution_count": 24,
   "metadata": {},
   "outputs": [
    {
     "name": "stdout",
     "output_type": "stream",
     "text": [
      "There are: 2 users \n",
      "\n",
      "Name: Chuck\n",
      "Id: 001\n",
      "Attributes: 2 \n",
      "\n",
      "Name: Brent\n",
      "Id: 009\n",
      "Attributes: 7 \n",
      "\n"
     ]
    }
   ],
   "source": [
    "import json\n",
    "data = '''[\n",
    "  { \"id\" : \"001\",\n",
    "    \"x\" : \"2\",\n",
    "    \"name\" : \"Chuck\"\n",
    "  } ,\n",
    "  { \"id\" : \"009\",\n",
    "    \"x\" : \"7\",\n",
    "    \"name\" : \"Brent\"\n",
    "  }\n",
    "]'''\n",
    "#.loads() para convertir un JSON string document a un diccionario python\n",
    "#json.dumps() para convertir un objeto python a un JSON string\n",
    "info = json.loads(data)\n",
    "print('There are:', len(info), 'users','\\n')\n",
    "for item in info:\n",
    "    print('Name:', item['name'])\n",
    "    print('Id:', item['id'])\n",
    "    print('Attributes:', item['x'],'\\n')"
   ]
  },
  {
   "cell_type": "code",
   "execution_count": null,
   "metadata": {},
   "outputs": [],
   "source": []
  }
 ],
 "metadata": {
  "kernelspec": {
   "display_name": "Python 3",
   "language": "python",
   "name": "python3"
  },
  "language_info": {
   "codemirror_mode": {
    "name": "ipython",
    "version": 3
   },
   "file_extension": ".py",
   "mimetype": "text/x-python",
   "name": "python",
   "nbconvert_exporter": "python",
   "pygments_lexer": "ipython3",
   "version": "3.7.3"
  }
 },
 "nbformat": 4,
 "nbformat_minor": 2
}
