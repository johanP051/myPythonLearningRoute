{
 "cells": [
  {
   "cell_type": "code",
   "execution_count": 15,
   "metadata": {},
   "outputs": [
    {
     "data": {
      "text/plain": [
       "array([[63, 25, 29],\n",
       "       [ 1, 11, 64],\n",
       "       [16, 21, 20],\n",
       "       [33, 58, 70]])"
      ]
     },
     "execution_count": 15,
     "metadata": {},
     "output_type": "execute_result"
    }
   ],
   "source": [
    "import numpy as np\n",
    "\n",
    "arr_int = np.random.randint(90, size=(4, 3))\n",
    "arr_int"
   ]
  },
  {
   "cell_type": "code",
   "execution_count": 41,
   "metadata": {},
   "outputs": [
    {
     "data": {
      "text/plain": [
       "array([[54., 83., 62.],\n",
       "       [71., 52.,  8.],\n",
       "       [55., 52.,  2.],\n",
       "       [13., 75., 67.]])"
      ]
     },
     "execution_count": 41,
     "metadata": {},
     "output_type": "execute_result"
    }
   ],
   "source": [
    "#Accediendo al método astype, para mostrar los números como decimales\n",
    "arr_int.astype(float)"
   ]
  },
  {
   "cell_type": "code",
   "execution_count": 23,
   "metadata": {},
   "outputs": [
    {
     "name": "stdout",
     "output_type": "stream",
     "text": [
      "[[63 25 29]\n",
      " [ 1 11 64]\n",
      " [16 21 20]\n",
      " [33 58 70]]\n",
      "\n",
      "Sorted array: \n",
      "[[25 29 63]\n",
      " [ 1 11 64]\n",
      " [16 20 21]\n",
      " [33 58 70]]\n"
     ]
    }
   ],
   "source": [
    "#Ordenando el ultimo eje del array\n",
    "print(arr_int)\n",
    "\n",
    "sortedArray = np.sort(arr_int)\n",
    "print(f\"\\nSorted array: \\n{sortedArray}\") #En este caso el último eje es (axis=1) el horizontal\n"
   ]
  },
  {
   "cell_type": "code",
   "execution_count": 38,
   "metadata": {},
   "outputs": [
    {
     "name": "stdout",
     "output_type": "stream",
     "text": [
      "[ 1 11 16 20 21 25 29 33 58 63 64 70]\n"
     ]
    }
   ],
   "source": [
    "#Aplando un array y ordenándolo\n",
    "\n",
    "arr_flatSorted = np.sort(arr_int, None)\n",
    "print(arr_flatSorted)"
   ]
  },
  {
   "cell_type": "code",
   "execution_count": 24,
   "metadata": {},
   "outputs": [
    {
     "name": "stdout",
     "output_type": "stream",
     "text": [
      "\n",
      "Sorted array: \n",
      "[[ 1 11 20]\n",
      " [16 21 29]\n",
      " [33 25 64]\n",
      " [63 58 70]]\n"
     ]
    }
   ],
   "source": [
    "#Ordenando el array verticalmente, axis=0\n",
    "sortedArray = np.sort(arr_int, axis=0)\n",
    "print(f\"\\nSorted array: \\n{sortedArray}\")"
   ]
  },
  {
   "cell_type": "code",
   "execution_count": 30,
   "metadata": {},
   "outputs": [
    {
     "data": {
      "text/plain": [
       "array([[63, 25],\n",
       "       [29,  1],\n",
       "       [11, 64],\n",
       "       [16, 21],\n",
       "       [20, 33],\n",
       "       [58, 70]])"
      ]
     },
     "execution_count": 30,
     "metadata": {},
     "output_type": "execute_result"
    }
   ],
   "source": [
    "#Modificando las dimensiones de un array, reshape\n",
    "arr_int = arr_int.reshape(6, 2)\n",
    "arr_int"
   ]
  },
  {
   "cell_type": "code",
   "execution_count": 31,
   "metadata": {},
   "outputs": [
    {
     "data": {
      "text/plain": [
       "array([[63, 25, 29,  1, 11, 64],\n",
       "       [16, 21, 20, 33, 58, 70]])"
      ]
     },
     "execution_count": 31,
     "metadata": {},
     "output_type": "execute_result"
    }
   ],
   "source": [
    "arr_int = arr_int.reshape(2, 6)\n",
    "arr_int"
   ]
  },
  {
   "cell_type": "code",
   "execution_count": 54,
   "metadata": {},
   "outputs": [
    {
     "name": "stdout",
     "output_type": "stream",
     "text": [
      "[63 25 29  1 11 64 16 21 20 33 58 70]\n"
     ]
    }
   ],
   "source": [
    "#Aplanando array, Flatten.  Se vuelve un array unidimensional(vector)\n",
    "\n",
    "arr_flat = arr_int.flatten()\n",
    "\n",
    "print(arr_flat)"
   ]
  },
  {
   "cell_type": "code",
   "execution_count": 39,
   "metadata": {},
   "outputs": [
    {
     "data": {
      "text/plain": [
       "[63, 25, 29, 1, 11, 64, 16, 21, 20, 33, 58, 70]"
      ]
     },
     "execution_count": 39,
     "metadata": {},
     "output_type": "execute_result"
    }
   ],
   "source": [
    "#Transformando un array en lista\n",
    "arr_to_list = arr_int.tolist()\n",
    "arr_to_list"
   ]
  },
  {
   "cell_type": "code",
   "execution_count": 79,
   "metadata": {},
   "outputs": [
    {
     "data": {
      "text/plain": [
       "[array([[2, 3, 4]]), array([[5, 6, 7]]), array([[ 8,  9, 10]])]"
      ]
     },
     "execution_count": 79,
     "metadata": {},
     "output_type": "execute_result"
    }
   ],
   "source": [
    "#Separando arrays\n",
    "myArray = np.array(([2, 3, 4], \n",
    "                    [5, 6, 7], \n",
    "                    [8, 9, 10]))\n",
    "\n",
    "arrays = np.split(myArray, 3)\n",
    "arrays"
   ]
  },
  {
   "cell_type": "code",
   "execution_count": 66,
   "metadata": {},
   "outputs": [
    {
     "data": {
      "text/plain": [
       "array([[ 8,  9, 10,  2,  3,  4]])"
      ]
     },
     "execution_count": 66,
     "metadata": {},
     "output_type": "execute_result"
    }
   ],
   "source": [
    "#Juntando arrays\n",
    "np.concatenate((arrays[2], arrays[0]), axis=1)"
   ]
  },
  {
   "cell_type": "code",
   "execution_count": 67,
   "metadata": {},
   "outputs": [
    {
     "data": {
      "text/plain": [
       "array([[2, 3, 4],\n",
       "       [5, 6, 7]])"
      ]
     },
     "execution_count": 67,
     "metadata": {},
     "output_type": "execute_result"
    }
   ],
   "source": [
    "np.concatenate((arrays[0], arrays[1]), axis=0)"
   ]
  },
  {
   "cell_type": "code",
   "execution_count": 86,
   "metadata": {},
   "outputs": [
    {
     "name": "stdout",
     "output_type": "stream",
     "text": [
      "myArray = \n",
      "[[ 2  3  4]\n",
      " [ 5  6  7]\n",
      " [ 8  9 10]]\n",
      "\n",
      "T = \n",
      "[[ 2  5  8]\n",
      " [ 3  6  9]\n",
      " [ 4  7 10]]\n"
     ]
    }
   ],
   "source": [
    "# Matriz traspuesta\n",
    "T_arr = myArray.T\n",
    "\n",
    "print(f\"myArray = \\n{myArray}\\n\")\n",
    "print(f\"T = \\n{T_arr}\")\n",
    "\n"
   ]
  },
  {
   "cell_type": "code",
   "execution_count": null,
   "metadata": {},
   "outputs": [],
   "source": []
  }
 ],
 "metadata": {
  "kernelspec": {
   "display_name": "Python 3.10.6 64-bit",
   "language": "python",
   "name": "python3"
  },
  "language_info": {
   "codemirror_mode": {
    "name": "ipython",
    "version": 3
   },
   "file_extension": ".py",
   "mimetype": "text/x-python",
   "name": "python",
   "nbconvert_exporter": "python",
   "pygments_lexer": "ipython3",
   "version": "3.10.6"
  },
  "orig_nbformat": 4,
  "vscode": {
   "interpreter": {
    "hash": "916dbcbb3f70747c44a77c7bcd40155683ae19c65e1c03b4aa3499c5328201f1"
   }
  }
 },
 "nbformat": 4,
 "nbformat_minor": 2
}
