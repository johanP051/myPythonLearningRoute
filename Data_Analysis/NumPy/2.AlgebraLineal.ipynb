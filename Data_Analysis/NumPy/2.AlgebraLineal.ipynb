{
 "cells": [
  {
   "cell_type": "code",
   "execution_count": 43,
   "id": "ef5a9fc3",
   "metadata": {},
   "outputs": [
    {
     "name": "stdout",
     "output_type": "stream",
     "text": [
      "A = [1. 2. 3.]\n",
      "B = [0.  5.  0.5]\n",
      "\n",
      "AB = 11.5\n"
     ]
    }
   ],
   "source": [
    "#PRODUCTO DE ARRAYS\n",
    "# Se pude usar: np.dot(a, b), A @ B or np.matmul(a, b)\n",
    "\n",
    "import numpy as np\n",
    "\n",
    "a = np.array([1, 2, 3], float)\n",
    "b = np.array([0, 5, 1/2], float)\n",
    "\n",
    "print(\"A =\", a)\n",
    "print(\"B =\", b)\n",
    "\n",
    "print(f\"\\nAB = {a @ b}\")"
   ]
  },
  {
   "cell_type": "code",
   "execution_count": 25,
   "id": "0d8d856c",
   "metadata": {},
   "outputs": [
    {
     "name": "stdout",
     "output_type": "stream",
     "text": [
      "A = [[1. 2. 3.]\n",
      " [4. 5. 6.]\n",
      " [7. 8. 9.]]\n",
      "\n",
      " B = [[1. 0. 2.]\n",
      " [1. 1. 1.]\n",
      " [0. 3. 0.]]\n",
      "\n",
      "AB = [[ 3. 11.  4.]\n",
      " [ 9. 23. 13.]\n",
      " [15. 35. 22.]]\n",
      "\n",
      "BA = [[15. 18. 21.]\n",
      " [12. 15. 18.]\n",
      " [12. 15. 18.]]\n"
     ]
    }
   ],
   "source": [
    "#PRODUCTO DE MATRICES\n",
    "\n",
    "a = np.array([[1, 2, 3], [4, 5, 6], [7, 8, 9]], float) #size 3*3\n",
    "b = np.array([[1, 0, 2], [1, 1, 1], [0, 3, 0]], float) # size 3*3\n",
    "\n",
    "print(f\"A = {a}\\n\\n B = {b}\\n\")\n",
    "\n",
    "print(f\"AB = {a @ b}\\n\")\n",
    "print(f\"BA = {b @ a}\")"
   ]
  },
  {
   "cell_type": "code",
   "execution_count": 46,
   "id": "b2b2cad5",
   "metadata": {},
   "outputs": [
    {
     "name": "stdout",
     "output_type": "stream",
     "text": [
      "Det(A) = 0.0\n",
      "Det(B) = -117.00000000000003\n"
     ]
    }
   ],
   "source": [
    "# DETERMINANTE DE UNA MATRIZ\n",
    "# Se usa np.linalg.det()\n",
    "\n",
    "a = np.array([[-4, 2, 9], [5, 7, 2], [10, 14, 4]], float) # La F3 es combinacion lineal de la F2\n",
    "b = np.array([[-4, 2, 9], [5, 7, 2], [3, 4, 4]], float)\n",
    "\n",
    "print(f\"Det(A) = {np.linalg.det(a)}\")\n",
    "print(f\"Det(B) = {np.linalg.det(b)}\")"
   ]
  },
  {
   "cell_type": "code",
   "execution_count": 49,
   "id": "86ccff9f",
   "metadata": {},
   "outputs": [
    {
     "name": "stdout",
     "output_type": "stream",
     "text": [
      "[11.43860705 -6.1120951   1.67348806]\n",
      "\n",
      " [[-0.41686781 -0.93169359  0.53586762]\n",
      " [-0.71974047  0.33322464 -0.68719793]\n",
      " [-0.55515304  0.14459735  0.49051493]]\n"
     ]
    }
   ],
   "source": [
    "#Auto-valores y Auto-vectores\n",
    "# vals = valores, vecs = vectores\n",
    "vals, vecs = np.linalg.eig(b)\n",
    "\n",
    "print(f\"{vals}\\n\\n {vecs}\")"
   ]
  },
  {
   "cell_type": "code",
   "execution_count": null,
   "id": "f0432ee5",
   "metadata": {},
   "outputs": [],
   "source": []
  }
 ],
 "metadata": {
  "kernelspec": {
   "display_name": "Python 3.10.6 64-bit",
   "language": "python",
   "name": "python3"
  },
  "language_info": {
   "codemirror_mode": {
    "name": "ipython",
    "version": 3
   },
   "file_extension": ".py",
   "mimetype": "text/x-python",
   "name": "python",
   "nbconvert_exporter": "python",
   "pygments_lexer": "ipython3",
   "version": "3.10.12"
  },
  "vscode": {
   "interpreter": {
    "hash": "916dbcbb3f70747c44a77c7bcd40155683ae19c65e1c03b4aa3499c5328201f1"
   }
  }
 },
 "nbformat": 4,
 "nbformat_minor": 5
}
