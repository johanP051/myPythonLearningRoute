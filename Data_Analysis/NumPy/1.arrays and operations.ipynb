{
 "cells": [
  {
   "cell_type": "markdown",
   "metadata": {},
   "source": [
    "## Numpy: Numerical Python, manipular arrays\n",
    "\n",
    "* Arrays Unidimensionales, bidimensionales y multidimesnionales"
   ]
  },
  {
   "cell_type": "code",
   "execution_count": 2,
   "metadata": {},
   "outputs": [
    {
     "data": {
      "text/plain": [
       "(array([[1, 2, 3, 4]]), numpy.ndarray)"
      ]
     },
     "execution_count": 2,
     "metadata": {},
     "output_type": "execute_result"
    }
   ],
   "source": [
    "import numpy as np\n",
    "\n",
    "#Array Unidimensional\n",
    "array = np.array([range(1, 5)])\n",
    "\n",
    "array, type(array)"
   ]
  },
  {
   "cell_type": "code",
   "execution_count": 6,
   "metadata": {},
   "outputs": [
    {
     "data": {
      "text/plain": [
       "(array([1. , 1.5, 2. , 2.5, 3. , 3.5, 4. , 4.5, 5. , 5.5]),\n",
       " numpy.ndarray,\n",
       " numpy.float64)"
      ]
     },
     "execution_count": 6,
     "metadata": {},
     "output_type": "execute_result"
    }
   ],
   "source": [
    "notes = np.arange(1, 6, 0.5)\n",
    "\n",
    "array2 = np.array(notes, dtype=float)\n",
    "\n",
    "array2, type(array2), type(array2[0])\n"
   ]
  },
  {
   "cell_type": "code",
   "execution_count": 11,
   "metadata": {},
   "outputs": [
    {
     "data": {
      "text/plain": [
       "(array([1, 2, 3]), numpy.int64, numpy.ndarray, 1, (3,))"
      ]
     },
     "execution_count": 11,
     "metadata": {},
     "output_type": "execute_result"
    }
   ],
   "source": [
    "notes = [1,2,3]\n",
    "\n",
    "notes_array = np.array(notes, dtype=int)\n",
    "\n",
    "notes_array, type(notes_array[0]) , type(notes_array), notes_array.ndim, notes_array.shape\n",
    "\n"
   ]
  },
  {
   "cell_type": "code",
   "execution_count": 3,
   "metadata": {},
   "outputs": [
    {
     "data": {
      "text/plain": [
       "(array([5, 2, 5]), array([4, 5, 2]))"
      ]
     },
     "execution_count": 3,
     "metadata": {},
     "output_type": "execute_result"
    }
   ],
   "source": [
    "#Array con numeros aleatorios\n",
    "test = np.random.choice([5, 4, 2], size=3, replace=True)  #el attr replace indica si se repiten o no los valores\n",
    "test2 = np.random.choice([5, 4, 2], size=3, replace=False)\n",
    "test, test2"
   ]
  },
  {
   "cell_type": "code",
   "execution_count": 20,
   "metadata": {},
   "outputs": [
    {
     "name": "stdout",
     "output_type": "stream",
     "text": [
      "[[ 1.  2.  3.  4.  5.]\n",
      " [ 6.  7.  8.  9. 10.]\n",
      " [11. 12. 13. 14. 15.]\n",
      " [16. 17. 18. 19. 20.]]\n",
      "\n",
      " La dimensión del array es de: 2\n",
      "\n",
      " El tamaño del array es de: (4, 5)\n"
     ]
    }
   ],
   "source": [
    "# Un arreglo unidimensinal es un vector(axis=0), un arreglo bidimensional es una matriz(axis = 0, axis = 1)\n",
    "#Array tridimensional es un cubo (axis=0,1,2)\n",
    "#Dimensiones = ejes(axes)\n",
    "\n",
    "notes1 = range(1, 6)\n",
    "notes2 = range(6, 11)\n",
    "notes3 = range(11, 16)\n",
    "notes4 = range(16, 21)\n",
    "\n",
    "#print(len(notes1), len(notes2))\n",
    "#print(notes1, notes2)\n",
    "\n",
    "array2D = np.array((notes1, notes2, notes3, notes4), dtype=float) #Matriz 4*5\n",
    "\n",
    "print(array2D)\n",
    "\n",
    "#Ndim: Dimension de un array\n",
    "print(f\"\\n La dimensión del array es de: {array2D.ndim}\")\n",
    "\n",
    "#Shape: Tamaño de un array\n",
    "print(f\"\\n El tamaño del array es de: {array2D.shape}\")"
   ]
  },
  {
   "cell_type": "code",
   "execution_count": 19,
   "metadata": {},
   "outputs": [
    {
     "name": "stdout",
     "output_type": "stream",
     "text": [
      "1 2 3 4 5 6 7 8 9 "
     ]
    }
   ],
   "source": [
    "# i = row, j = column or element in row\n",
    "\n",
    "a = [[1, 2, 3, 4], [5, 6], [7, 8, 9]]\n",
    "'''for i in range(len(a)):\n",
    "    #i = 0, 1, 2\n",
    "    for j in range(len(a[i])):\n",
    "        #j = 0, 1, 2, 3; 0, 1; 0, 1, 2\n",
    "\n",
    "        #e = elementos contenidos en los elementos(listas) del array \"a\"\n",
    "        e = (a[i])[j]\n",
    "        print(e)'''\n",
    "\n",
    "for row in a:\n",
    "    for e in row:\n",
    "        print(e, end=\" \")"
   ]
  },
  {
   "cell_type": "code",
   "execution_count": 7,
   "metadata": {},
   "outputs": [
    {
     "name": "stdout",
     "output_type": "stream",
     "text": [
      "Multidimensional array = \n",
      "[[[ 1  2  3  4]\n",
      "  [ 5  6  7  8]\n",
      "  [ 9 10 11 12]]\n",
      "\n",
      " [[ 1  2  3  4]\n",
      "  [ 5  6  7  8]\n",
      "  [ 9 10 11 12]]]\n",
      "\n",
      " Dimension = 3\n",
      " Shape = (2, 3, 4)\n"
     ]
    }
   ],
   "source": [
    "# Array de n dimensiones/Multidimensionales, más de dos dimensiones\n",
    "# Array multidimensional: son varias matrices(axis=0,1,2...,n)\n",
    "\n",
    "b = [[1, 2, 3, 4], [5, 6 ,7, 8], [9, 10, 11, 12]]\n",
    "c= [[1, 2, 3, 4], [5, 6 ,7, 8], [9, 10, 11, 12]]\n",
    "\n",
    "multi_array = np.array((b, c), dtype=int)\n",
    "print(f\"Multidimensional array = \\n{multi_array}\\n\\n Dimension = {multi_array.ndim}\\n Shape = {multi_array.shape}\")"
   ]
  },
  {
   "cell_type": "code",
   "execution_count": 28,
   "metadata": {},
   "outputs": [
    {
     "name": "stdout",
     "output_type": "stream",
     "text": [
      "Multidimensional array = \n",
      "[[[ 1  2  3  4]\n",
      "  [ 5  6  7  8]\n",
      "  [ 9 10 11 12]]\n",
      "\n",
      " [[ 1  2  3  4]\n",
      "  [ 5  6  7  8]\n",
      "  [ 9 10 11 12]]\n",
      "\n",
      " [[ 1  2  3  4]\n",
      "  [ 5  6  7  8]\n",
      "  [ 9 10 11 12]]]\n",
      "\n",
      " Dimension = 3\n",
      " Shape = (3, 3, 4)\n"
     ]
    }
   ],
   "source": [
    "b = [[1, 2, 3, 4], [5, 6 ,7, 8], [9, 10, 11, 12]]\n",
    "c= [[1, 2, 3, 4], [5, 6 ,7, 8], [9, 10, 11, 12]]\n",
    "d = [[1, 2, 3, 4], [5, 6 ,7, 8], [9, 10, 11, 12]]\n",
    "nArray = np.array((b, c, d), dtype=int)\n",
    "print(f\"Multidimensional array = \\n{nArray}\\n\\n Dimension = {nArray.ndim}\\n Shape = {nArray.shape}\")"
   ]
  },
  {
   "cell_type": "markdown",
   "metadata": {},
   "source": [
    "### Arrays especiales\n",
    "\n",
    "* zeros: todos los elementos son = 0\n",
    "* ones: todos los elementos son = 1\n",
    "* identity: matriz identidad\n",
    "* arange: array con rango específico"
   ]
  },
  {
   "cell_type": "code",
   "execution_count": 8,
   "metadata": {},
   "outputs": [
    {
     "name": "stdout",
     "output_type": "stream",
     "text": [
      "[[0 0 0 0]\n",
      " [0 0 0 0]\n",
      " [0 0 0 0]] \n",
      "\n",
      "[[1. 1.]\n",
      " [1. 1.]] \n",
      "\n",
      "[[1 0 0]\n",
      " [0 1 0]\n",
      " [0 0 1]] \n",
      "\n",
      "[1 2 3 4 5]\n"
     ]
    }
   ],
   "source": [
    "zeros = np.zeros((3, 4), dtype=int)\n",
    "print(zeros, \"\\n\")\n",
    "\n",
    "ones = np.ones((2, 2), dtype=float)\n",
    "print(ones, \"\\n\")\n",
    "\n",
    "identity = np.identity((3), dtype=int)\n",
    "print(identity, \"\\n\")\n",
    "\n",
    "arange = np.arange(1, 6)\n",
    "print(arange)"
   ]
  },
  {
   "cell_type": "markdown",
   "metadata": {},
   "source": [
    "### Operaciones Básicas"
   ]
  },
  {
   "cell_type": "code",
   "execution_count": 9,
   "metadata": {},
   "outputs": [
    {
     "data": {
      "text/plain": [
       "array([ 1,  2,  3,  4,  5,  6,  7,  8,  9, 10])"
      ]
     },
     "execution_count": 9,
     "metadata": {},
     "output_type": "execute_result"
    }
   ],
   "source": [
    "arr = np.arange(1, 11)\n",
    "arr"
   ]
  },
  {
   "cell_type": "code",
   "execution_count": 10,
   "metadata": {},
   "outputs": [
    {
     "data": {
      "text/plain": [
       "[1, 2, 3, 4, 5, 6, 7, 8, 9, 10]"
      ]
     },
     "execution_count": 10,
     "metadata": {},
     "output_type": "execute_result"
    }
   ],
   "source": [
    "lista = list(range(1, 11))\n",
    "lista"
   ]
  },
  {
   "cell_type": "code",
   "execution_count": 11,
   "metadata": {},
   "outputs": [
    {
     "data": {
      "text/plain": [
       "array([[ 1,  2,  3,  4,  5],\n",
       "       [ 6,  7,  8,  9, 10]])"
      ]
     },
     "execution_count": 11,
     "metadata": {},
     "output_type": "execute_result"
    }
   ],
   "source": [
    "arr.shape = (2, 5)\n",
    "arr"
   ]
  },
  {
   "cell_type": "code",
   "execution_count": 12,
   "metadata": {},
   "outputs": [
    {
     "data": {
      "text/plain": [
       "array([[ 1,  2],\n",
       "       [ 3,  4],\n",
       "       [ 5,  6],\n",
       "       [ 7,  8],\n",
       "       [ 9, 10]])"
      ]
     },
     "execution_count": 12,
     "metadata": {},
     "output_type": "execute_result"
    }
   ],
   "source": [
    "arr.shape = (5, 2)\n",
    "arr"
   ]
  },
  {
   "cell_type": "code",
   "execution_count": 22,
   "metadata": {},
   "outputs": [
    {
     "name": "stdout",
     "output_type": "stream",
     "text": [
      "[[ 2  4  6  8 10]\n",
      " [12 14 16 18 20]] \n",
      "\n",
      "[1, 2, 3, 4, 5, 6, 7, 8, 9, 10, 1, 2, 3, 4, 5, 6, 7, 8, 9, 10]\n"
     ]
    }
   ],
   "source": [
    "#Adición\n",
    "\n",
    "narray = arr + arr #Con arrays se hacen operaciones aritméticas\n",
    "narray.shape = (2, 5)\n",
    "\n",
    "print(narray, \"\\n\")\n",
    "\n",
    "print(lista + lista) #Las listas se concatenan"
   ]
  },
  {
   "cell_type": "code",
   "execution_count": null,
   "metadata": {},
   "outputs": [
    {
     "data": {
      "text/plain": [
       "array([0, 0, 0, 0, 0, 0, 0, 0, 0, 0])"
      ]
     },
     "execution_count": 10,
     "metadata": {},
     "output_type": "execute_result"
    }
   ],
   "source": [
    "#Resta\n",
    "arr - arr"
   ]
  },
  {
   "cell_type": "code",
   "execution_count": null,
   "metadata": {},
   "outputs": [
    {
     "name": "stdout",
     "output_type": "stream",
     "text": [
      "[  1   4   9  16  25  36  49  64  81 100]\n",
      "[1. 1. 1. 1. 1. 1. 1. 1. 1. 1.]\n",
      "[          1           4          27         256        3125       46656\n",
      "      823543    16777216   387420489 10000000000]\n"
     ]
    }
   ],
   "source": [
    "#Multiplicación\n",
    "\n",
    "print(arr * arr)"
   ]
  },
  {
   "cell_type": "code",
   "execution_count": null,
   "metadata": {},
   "outputs": [
    {
     "name": "stdout",
     "output_type": "stream",
     "text": [
      "[1. 1. 1. 1. 1. 1. 1. 1. 1. 1.]\n"
     ]
    }
   ],
   "source": [
    "#División\n",
    "\n",
    "print(arr / arr)"
   ]
  },
  {
   "cell_type": "code",
   "execution_count": null,
   "metadata": {},
   "outputs": [
    {
     "name": "stdout",
     "output_type": "stream",
     "text": [
      "[          1           4          27         256        3125       46656\n",
      "      823543    16777216   387420489 10000000000]\n"
     ]
    }
   ],
   "source": [
    "#Exponenciación\n",
    "print(arr ** arr)"
   ]
  }
 ],
 "metadata": {
  "kernelspec": {
   "display_name": "Python 3.10.4 64-bit",
   "language": "python",
   "name": "python3"
  },
  "language_info": {
   "codemirror_mode": {
    "name": "ipython",
    "version": 3
   },
   "file_extension": ".py",
   "mimetype": "text/x-python",
   "name": "python",
   "nbconvert_exporter": "python",
   "pygments_lexer": "ipython3",
   "version": "3.10.12"
  },
  "orig_nbformat": 4,
  "vscode": {
   "interpreter": {
    "hash": "916dbcbb3f70747c44a77c7bcd40155683ae19c65e1c03b4aa3499c5328201f1"
   }
  }
 },
 "nbformat": 4,
 "nbformat_minor": 2
}
