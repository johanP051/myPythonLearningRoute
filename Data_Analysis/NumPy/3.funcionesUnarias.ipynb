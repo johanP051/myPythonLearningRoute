{
 "cells": [
  {
   "cell_type": "markdown",
   "metadata": {},
   "source": [
    "## Funciones Universales Unarias\n",
    "\n",
    "* Realizan operaciones elemento a elemento en un ndarray\n",
    "\n",
    "* abs, fabs (valor absoluto)\n",
    "* sqrt (raíz cuadrada)\n",
    "* square (cuadrado de un n)\n",
    "* exp (e ^ x)\n",
    "* log, log10, log2, log1p (log nantural, base 10 y 2, y log(x + 1))\n",
    "* isnan (is Not a Number (boolean))\n",
    "* sin, cos,tan (f. trigonométricas)\n",
    "* mean, median, std, var (media, mediana, dev. std y varianza)"
   ]
  },
  {
   "cell_type": "markdown",
   "metadata": {},
   "source": []
  },
  {
   "cell_type": "code",
   "execution_count": 23,
   "metadata": {},
   "outputs": [
    {
     "name": "stdout",
     "output_type": "stream",
     "text": [
      "array =  [1 2 3 4 5]\n",
      "Raíz cuadrada: [1.         1.41421356 1.73205081 2.         2.23606798]\n"
     ]
    }
   ],
   "source": [
    "import numpy as np\n",
    "\n",
    "arr = np.arange(1, 6, dtype=int)\n",
    "\n",
    "sqrt = np.sqrt(arr)\n",
    "exponencial = np.exp(arr)\n",
    "log = np.log10(arr)\n",
    "sin = np.sin(arr)\n",
    "cos = np.cos(arr)\n",
    "tan = np.tan(arr)\n",
    "\n",
    "mean = np.mean(arr)\n",
    "median = np.median(arr)\n",
    "std = np.std(arr)\n",
    "var = np.var(arr)\n",
    "\n",
    "print(\"array = \", arr)\n",
    "print(f\"Raíz cuadrada: {sqrt}\")"
   ]
  },
  {
   "cell_type": "code",
   "execution_count": 22,
   "metadata": {},
   "outputs": [
    {
     "name": "stdout",
     "output_type": "stream",
     "text": [
      "Exponencial:  [  2.71828183   7.3890561   20.08553692  54.59815003 148.4131591 ]\n",
      "Logatítmica:  [0.         0.30103    0.47712125 0.60205999 0.69897   ]\n"
     ]
    }
   ],
   "source": [
    "print(\"array = \", arr)\n",
    "print(\"Exponencial: \", exponencial)\n",
    "print(\"Logatítmica: \", log)"
   ]
  },
  {
   "cell_type": "code",
   "execution_count": 28,
   "metadata": {},
   "outputs": [
    {
     "name": "stdout",
     "output_type": "stream",
     "text": [
      "array =  [1 2 3 4 5]\n",
      "Sin: [ 0.84147098  0.90929743  0.14112001 -0.7568025  -0.95892427]\n",
      "cos: [ 0.54030231 -0.41614684 -0.9899925  -0.65364362  0.28366219]\n",
      "tan: [ 1.55740772 -2.18503986 -0.14254654  1.15782128 -3.38051501]\n"
     ]
    }
   ],
   "source": [
    "#Trigonométricas\n",
    "print(\"array = \", arr)\n",
    "print(f\"Sin: {sin}\\ncos: {cos}\\ntan: {tan}\")"
   ]
  },
  {
   "cell_type": "code",
   "execution_count": 27,
   "metadata": {},
   "outputs": [
    {
     "name": "stdout",
     "output_type": "stream",
     "text": [
      "array =  [1 2 3 4 5]\n",
      "Media: 3.0\n",
      "Mediana: 3.0\n",
      "Dev Std: 1.4142135623730951\n",
      "Varianza: 2.0\n"
     ]
    }
   ],
   "source": [
    "#Estadística\n",
    "print(\"array = \", arr)\n",
    "print(f\"Media: {mean}\\nMediana: {median}\\nDev Std: {std}\\nVarianza: {var}\")"
   ]
  },
  {
   "cell_type": "code",
   "execution_count": null,
   "metadata": {},
   "outputs": [],
   "source": []
  }
 ],
 "metadata": {
  "kernelspec": {
   "display_name": "Python 3.10.4 64-bit",
   "language": "python",
   "name": "python3"
  },
  "language_info": {
   "codemirror_mode": {
    "name": "ipython",
    "version": 3
   },
   "file_extension": ".py",
   "mimetype": "text/x-python",
   "name": "python",
   "nbconvert_exporter": "python",
   "pygments_lexer": "ipython3",
   "version": "3.10.12"
  },
  "orig_nbformat": 4,
  "vscode": {
   "interpreter": {
    "hash": "916dbcbb3f70747c44a77c7bcd40155683ae19c65e1c03b4aa3499c5328201f1"
   }
  }
 },
 "nbformat": 4,
 "nbformat_minor": 2
}
