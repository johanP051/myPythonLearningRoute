{
 "cells": [
  {
   "cell_type": "code",
   "execution_count": 2,
   "metadata": {},
   "outputs": [],
   "source": [
    "import numpy as np"
   ]
  },
  {
   "cell_type": "code",
   "execution_count": 3,
   "metadata": {},
   "outputs": [
    {
     "name": "stdout",
     "output_type": "stream",
     "text": [
      "arr_float = [[0.17199302 0.12306425 0.57727442]\n",
      " [0.64834055 0.36340725 0.64306711]\n",
      " [0.5568646  0.90293416 0.32907223]]\n",
      "\n",
      " arr_float2 = [[0.36029715 0.21666817 0.1204003  0.27794998]\n",
      " [0.61483593 0.65437751 0.1689259  0.9261187 ]\n",
      " [0.15311164 0.47797569 0.50260939 0.62651381]]\n"
     ]
    }
   ],
   "source": [
    "#np.random.rand escoge valores aleatorios entre 0 y 1\n",
    "#np.random.rand(n filas, n columnas), recibe como argumento el tamaño del array\n",
    "arr_float = np.random.rand(3, 3)\n",
    "arr_float2 = np.random.rand(3, 4)\n",
    "print(f\"arr_float = {arr_float}\\n\\n arr_float2 = {arr_float2}\")"
   ]
  },
  {
   "cell_type": "code",
   "execution_count": 19,
   "metadata": {},
   "outputs": [
    {
     "name": "stdout",
     "output_type": "stream",
     "text": [
      "arr_integer = \n",
      "[[1 4 0]\n",
      " [4 0 0]\n",
      " [1 3 3]]\n",
      "\n",
      " arr_integer2 = \n",
      "[[30 32]\n",
      " [42 12]\n",
      " [14  5]]\n"
     ]
    }
   ],
   "source": [
    "#np.random.randint(limite, size=(m, n)), escoge numeros al azar hasta el limite\n",
    "arr_integer = np.random.randint(5, size=(3, 3))\n",
    "arr_integer2 = np.random.randint(50, size=(3,2))\n",
    "\n",
    "print(f\"arr_integer = \\n{arr_integer}\\n\\n arr_integer2 = \\n{arr_integer2}\")"
   ]
  },
  {
   "cell_type": "code",
   "execution_count": 22,
   "metadata": {},
   "outputs": [
    {
     "data": {
      "text/plain": [
       "array([[21, 21, 21],\n",
       "       [21, 21, 21],\n",
       "       [21, 21, 21]])"
      ]
     },
     "execution_count": 22,
     "metadata": {},
     "output_type": "execute_result"
    }
   ],
   "source": [
    "#np.full(size, number), muestra matriz con solo numeros = n\n",
    "\n",
    "arr_n = np.full((3,3), 21)\n",
    "arr_n"
   ]
  },
  {
   "cell_type": "code",
   "execution_count": 23,
   "metadata": {},
   "outputs": [
    {
     "data": {
      "text/plain": [
       "array([ 0,  4,  8, 12, 16])"
      ]
     },
     "execution_count": 23,
     "metadata": {},
     "output_type": "execute_result"
    }
   ],
   "source": [
    "arr = np.arange(0, 20, 4)\n",
    "arr"
   ]
  },
  {
   "cell_type": "code",
   "execution_count": 25,
   "metadata": {},
   "outputs": [
    {
     "data": {
      "text/plain": [
       "array([ 0,  4,  8, 12, 16, 21, 22, 23])"
      ]
     },
     "execution_count": 25,
     "metadata": {},
     "output_type": "execute_result"
    }
   ],
   "source": [
    "#np.append, para ageregar al final del array\n",
    "np.append(arr, [21, 22, 23])"
   ]
  },
  {
   "cell_type": "code",
   "execution_count": 26,
   "metadata": {},
   "outputs": [
    {
     "data": {
      "text/plain": [
       "array([21, 22, 23,  0,  4,  8, 12, 16])"
      ]
     },
     "execution_count": 26,
     "metadata": {},
     "output_type": "execute_result"
    }
   ],
   "source": [
    "#np.insert, para agregar en posicion especifica\n",
    "np.insert(arr, 0, [21, 22, 23])"
   ]
  },
  {
   "cell_type": "code",
   "execution_count": 27,
   "metadata": {},
   "outputs": [
    {
     "data": {
      "text/plain": [
       "array([[1, 4, 0],\n",
       "       [1, 3, 3]])"
      ]
     },
     "execution_count": 27,
     "metadata": {},
     "output_type": "execute_result"
    }
   ],
   "source": [
    "#np.delete(arr, position, axis=(0 or 1)), axis = 1 (eje horizontal(columnas)), axis = 0 (eje vertical(filas))\n",
    "#axes: https://www.sharpsightlabs.com/blog/numpy-axes-explained/\n",
    "np.delete(arr_integer, 1, axis=0)"
   ]
  },
  {
   "cell_type": "code",
   "execution_count": 28,
   "metadata": {},
   "outputs": [
    {
     "data": {
      "text/plain": [
       "array([[1, 0],\n",
       "       [4, 0],\n",
       "       [1, 3]])"
      ]
     },
     "execution_count": 28,
     "metadata": {},
     "output_type": "execute_result"
    }
   ],
   "source": [
    "np.delete(arr_integer, 1, axis=1)"
   ]
  },
  {
   "cell_type": "code",
   "execution_count": null,
   "metadata": {},
   "outputs": [],
   "source": []
  }
 ],
 "metadata": {
  "kernelspec": {
   "display_name": "Python 3.10.6 64-bit",
   "language": "python",
   "name": "python3"
  },
  "language_info": {
   "codemirror_mode": {
    "name": "ipython",
    "version": 3
   },
   "file_extension": ".py",
   "mimetype": "text/x-python",
   "name": "python",
   "nbconvert_exporter": "python",
   "pygments_lexer": "ipython3",
   "version": "3.10.12"
  },
  "orig_nbformat": 4,
  "vscode": {
   "interpreter": {
    "hash": "916dbcbb3f70747c44a77c7bcd40155683ae19c65e1c03b4aa3499c5328201f1"
   }
  }
 },
 "nbformat": 4,
 "nbformat_minor": 2
}
