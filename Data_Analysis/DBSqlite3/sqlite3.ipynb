{
 "cells": [
  {
   "cell_type": "code",
   "execution_count": 2,
   "metadata": {},
   "outputs": [],
   "source": [
    "# SQLite es un gestor de BD relacionales \n",
    "\n",
    "import sqlite3\n",
    "\n",
    "#Conectandose/creando la base de datos\n",
    "conection = sqlite3.connect(\"ejemplo.db\")\n",
    "\n",
    "#cursor: permite crear tabla\n",
    "cursor = conection.cursor()\n",
    "\n",
    "conection.close()"
   ]
  },
  {
   "cell_type": "code",
   "execution_count": 10,
   "metadata": {},
   "outputs": [
    {
     "ename": "OperationalError",
     "evalue": "table students already exists",
     "output_type": "error",
     "traceback": [
      "\u001b[0;31m---------------------------------------------------------------------------\u001b[0m",
      "\u001b[0;31mOperationalError\u001b[0m                          Traceback (most recent call last)",
      "\u001b[1;32m/media/sebas/Exdrive/Jupyter_lab/Data_Analysis/DBSqlite3/sqlite3.ipynb Cell 2'\u001b[0m in \u001b[0;36m<cell line: 5>\u001b[0;34m()\u001b[0m\n\u001b[1;32m      <a href='vscode-notebook-cell:/media/sebas/Exdrive/Jupyter_lab/Data_Analysis/DBSqlite3/sqlite3.ipynb#ch0000003?line=1'>2</a>\u001b[0m conection \u001b[39m=\u001b[39m sqlite3\u001b[39m.\u001b[39mconnect(\u001b[39m\"\u001b[39m\u001b[39mejemplo.db\u001b[39m\u001b[39m\"\u001b[39m)\n\u001b[1;32m      <a href='vscode-notebook-cell:/media/sebas/Exdrive/Jupyter_lab/Data_Analysis/DBSqlite3/sqlite3.ipynb#ch0000003?line=2'>3</a>\u001b[0m cursor \u001b[39m=\u001b[39m conection\u001b[39m.\u001b[39mcursor()\n\u001b[0;32m----> <a href='vscode-notebook-cell:/media/sebas/Exdrive/Jupyter_lab/Data_Analysis/DBSqlite3/sqlite3.ipynb#ch0000003?line=4'>5</a>\u001b[0m cursor\u001b[39m.\u001b[39;49mexecute(\u001b[39m\"\u001b[39;49m\u001b[39mCREATE TABLE students (name VARCHAR(100), profession VARCHAR (100), age INTEGER)\u001b[39;49m\u001b[39m\"\u001b[39;49m)\n\u001b[1;32m      <a href='vscode-notebook-cell:/media/sebas/Exdrive/Jupyter_lab/Data_Analysis/DBSqlite3/sqlite3.ipynb#ch0000003?line=6'>7</a>\u001b[0m conection\u001b[39m.\u001b[39mclose()\n",
      "\u001b[0;31mOperationalError\u001b[0m: table students already exists"
     ]
    }
   ],
   "source": [
    "#Creando tabla\n",
    "conection = sqlite3.connect(\"ejemplo.db\")\n",
    "cursor = conection.cursor()\n",
    "\n",
    "cursor.execute(\"CREATE TABLE students (name VARCHAR(100), profession VARCHAR (100), age INTEGER)\")\n",
    "\n",
    "conection.close()\n"
   ]
  },
  {
   "cell_type": "code",
   "execution_count": 11,
   "metadata": {},
   "outputs": [],
   "source": [
    "# Ingresando y leyendo varios registros con .executemany()\n",
    "\n",
    "conection = sqlite3.connect(\"ejemplo.db\")\n",
    "cursor = conection.cursor()\n",
    "\n",
    "users = [\n",
    "    (\"Johan\", \"Programador\", 16),\n",
    "    (\"Sebastián\", \"Ingeniero de sistemas\", 18),\n",
    "    (\"JPosada\", \"Científico de datos\", 30)\n",
    "]\n",
    "\n",
    "\n",
    "cursor.executemany(\"INSERT INTO students VALUES (?, ?, ?)\", users)\n",
    "\n",
    "\n",
    "#Guardando los cambios\n",
    "conection.commit()\n",
    "conection.close()"
   ]
  },
  {
   "cell_type": "code",
   "execution_count": 14,
   "metadata": {},
   "outputs": [],
   "source": [
    "#INSERT INTO, para ingresar datos\n",
    "\n",
    "conection = sqlite3.connect(\"ejemplo.db\")\n",
    "cursor = conection.cursor()\n",
    "\n",
    "\n",
    "cursor.execute(\"INSERT INTO students VALUES ('Alejandro', 'Médico', 19)\")\n",
    "\n",
    "conection.commit()\n",
    "conection.close()"
   ]
  },
  {
   "cell_type": "code",
   "execution_count": 45,
   "metadata": {},
   "outputs": [
    {
     "name": "stdout",
     "output_type": "stream",
     "text": [
      "('Johan', 'Programador', 16)\n",
      "\n",
      "('Sebastián', 'Ingeniero de sistemas', 18)\n",
      "\n",
      "('JPosada', 'Científico de datos', 30)\n",
      "\n",
      "('Alejandro', 'Médico', 19)\n",
      "\n",
      "Usuario1: Johan\n",
      "Usuario2: Sebastián\n",
      "Usuario3: JPosada\n",
      "Usuario4: Alejandro\n"
     ]
    }
   ],
   "source": [
    "# SELECT * FROM, para leer contenido de una tabla\n",
    "\n",
    "conection = sqlite3.connect(\"ejemplo.db\")\n",
    "cursor = conection.cursor()\n",
    "\n",
    "cursor.execute(\"SELECT * FROM students\")\n",
    "\n",
    "\n",
    "users = cursor.fetchall()\n",
    "\n",
    "\n",
    "for user in users:\n",
    "    print(f\"{user}\\n\")\n",
    "\n",
    "count = 0\n",
    "for name in users:\n",
    "    count += 1\n",
    "    print(f\"Usuario{count}: {name[0]}\")\n",
    "\n",
    "conection.commit()\n",
    "conection.close()\n",
    "\n"
   ]
  },
  {
   "cell_type": "code",
   "execution_count": 47,
   "metadata": {},
   "outputs": [
    {
     "name": "stdout",
     "output_type": "stream",
     "text": [
      "('Johan', 'Programador', 16)\n"
     ]
    }
   ],
   "source": [
    "conection = sqlite3.connect(\"ejemplo.db\")\n",
    "cursor = conection.cursor()\n",
    "\n",
    "cursor.execute(\"SELECT * FROM students\")\n",
    "\n",
    "\n",
    "user1 = cursor.fetchone()\n",
    "\n",
    "print(user1)\n",
    "\n"
   ]
  },
  {
   "cell_type": "code",
   "execution_count": 68,
   "metadata": {},
   "outputs": [
    {
     "name": "stdout",
     "output_type": "stream",
     "text": [
      "('paella@vip.com', 'Medicina', 'Giuliana', 27) \n",
      "\n",
      "('crimewave@vip.com', 'Derecho', 'Alicia', 20) \n",
      "\n",
      "('prince@orange.com', 'Ingenieria', 'William', 24) \n",
      "\n",
      "('elrisortdewelini@vip.com', 'Nutricion', 'Chefsito', 25) \n",
      "\n",
      "('planb@vip.com', 'Artes', 'Chencho', 30) \n",
      "\n",
      "('channel@boyz.com', 'Letras', 'Frank', 32) \n",
      "\n",
      "('vinos@aouju.com', 'Nutricion', 'Eugenia', 23) \n",
      "\n"
     ]
    }
   ],
   "source": [
    "# Leer e insertar CSV\n",
    "\n",
    "import sqlite3, csv\n",
    "\n",
    "conection = sqlite3.connect(\"ejemplo.db\")\n",
    "cursor = conection.cursor()\n",
    "\n",
    "#cursor.execute(\"CREATE TABLE people (email VARCHAR(100), career VARCHAR (100), name VARCHAR(100), age INTEGER)\")\n",
    "\n",
    "file_ = open(\"datos_db.txt\")\n",
    "\n",
    "data = csv.reader(file_)\n",
    "\n",
    "#cursor.executemany(\"INSERT INTO people VALUES (?, ?, ?, ?)\", data)\n",
    "cursor.execute(\"SELECT * FROM people\")\n",
    "\n",
    "viewdata = cursor.fetchall()\n",
    "\n",
    "for data in viewdata:\n",
    "    print(data, \"\\n\")\n",
    "\n",
    "conection.commit()\n",
    "conection.close()\n",
    "\n"
   ]
  },
  {
   "cell_type": "code",
   "execution_count": null,
   "metadata": {},
   "outputs": [],
   "source": []
  }
 ],
 "metadata": {
  "interpreter": {
   "hash": "31f2aee4e71d21fbe5cf8b01ff0e069b9275f58929596ceb00d14d90e3e16cd6"
  },
  "kernelspec": {
   "display_name": "Python 3.10.4 64-bit",
   "language": "python",
   "name": "python3"
  },
  "language_info": {
   "codemirror_mode": {
    "name": "ipython",
    "version": 3
   },
   "file_extension": ".py",
   "mimetype": "text/x-python",
   "name": "python",
   "nbconvert_exporter": "python",
   "pygments_lexer": "ipython3",
   "version": "3.10.6"
  }
 },
 "nbformat": 4,
 "nbformat_minor": 4
}
