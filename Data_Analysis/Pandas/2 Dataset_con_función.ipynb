{
 "cells": [
  {
   "cell_type": "code",
   "execution_count": 3,
   "metadata": {},
   "outputs": [],
   "source": [
    "import pandas as pd\n",
    "import numpy as np"
   ]
  },
  {
   "cell_type": "code",
   "execution_count": 25,
   "metadata": {},
   "outputs": [
    {
     "data": {
      "text/plain": [
       "['coco', 'Papa', 'apple']"
      ]
     },
     "execution_count": 25,
     "metadata": {},
     "output_type": "execute_result"
    }
   ],
   "source": [
    "lista = ['Papa', 'coco', 'apple']\n",
    "\n",
    "list2 = [lista[np.random.randint(len(lista))] for e in lista]\n",
    "list2"
   ]
  },
  {
   "cell_type": "code",
   "execution_count": 40,
   "metadata": {},
   "outputs": [
    {
     "data": {
      "text/plain": [
       "['Papa', 'apple', 'coco']"
      ]
     },
     "execution_count": 40,
     "metadata": {},
     "output_type": "execute_result"
    }
   ],
   "source": [
    "list2 = []\n",
    "for e in lista:\n",
    "    n_al = np.random.randint(len(lista))\n",
    "    el_al = lista[n_al]\n",
    "    list2.append(el_al)\n",
    "\n",
    "list2"
   ]
  },
  {
   "attachments": {},
   "cell_type": "markdown",
   "metadata": {},
   "source": [
    "##### Ejemplo del uso de zip()\n",
    "\n",
    "zip() agrega valores iterables en una tupla"
   ]
  },
  {
   "cell_type": "code",
   "execution_count": 104,
   "metadata": {},
   "outputs": [
    {
     "name": "stdout",
     "output_type": "stream",
     "text": [
      "[('apple', 2), ('pineapple', 5), ('orange', 10)]\n"
     ]
    }
   ],
   "source": [
    "fruits = ['apple', 'pineapple', 'orange']\n",
    "quantity = [2, 5, 10]\n",
    "\n",
    "listaFyQ = list(zip(fruits, quantity))\n",
    "print(listaFyQ)"
   ]
  },
  {
   "attachments": {},
   "cell_type": "markdown",
   "metadata": {},
   "source": [
    "### Creando un dataset a partir de una función"
   ]
  },
  {
   "attachments": {},
   "cell_type": "markdown",
   "metadata": {},
   "source": [
    "##### Usando np.random para indexar una lista"
   ]
  },
  {
   "cell_type": "code",
   "execution_count": 103,
   "metadata": {},
   "outputs": [
    {
     "data": {
      "text/html": [
       "<div>\n",
       "<style scoped>\n",
       "    .dataframe tbody tr th:only-of-type {\n",
       "        vertical-align: middle;\n",
       "    }\n",
       "\n",
       "    .dataframe tbody tr th {\n",
       "        vertical-align: top;\n",
       "    }\n",
       "\n",
       "    .dataframe thead th {\n",
       "        text-align: right;\n",
       "    }\n",
       "</style>\n",
       "<table border=\"1\" class=\"dataframe\">\n",
       "  <thead>\n",
       "    <tr style=\"text-align: right;\">\n",
       "      <th></th>\n",
       "      <th>fechas</th>\n",
       "      <th>n clientes</th>\n",
       "      <th>local</th>\n",
       "      <th>Compra_online</th>\n",
       "    </tr>\n",
       "  </thead>\n",
       "  <tbody>\n",
       "    <tr>\n",
       "      <th>0</th>\n",
       "      <td>2022-01-03</td>\n",
       "      <td>926</td>\n",
       "      <td>Facatativá</td>\n",
       "      <td>True</td>\n",
       "    </tr>\n",
       "    <tr>\n",
       "      <th>1</th>\n",
       "      <td>2022-01-10</td>\n",
       "      <td>692</td>\n",
       "      <td>Facatativá</td>\n",
       "      <td>False</td>\n",
       "    </tr>\n",
       "    <tr>\n",
       "      <th>2</th>\n",
       "      <td>2022-01-17</td>\n",
       "      <td>578</td>\n",
       "      <td>Facatativá</td>\n",
       "      <td>False</td>\n",
       "    </tr>\n",
       "    <tr>\n",
       "      <th>3</th>\n",
       "      <td>2022-01-24</td>\n",
       "      <td>529</td>\n",
       "      <td>Facatativá</td>\n",
       "      <td>True</td>\n",
       "    </tr>\n",
       "    <tr>\n",
       "      <th>4</th>\n",
       "      <td>2022-01-31</td>\n",
       "      <td>947</td>\n",
       "      <td>Facatativá</td>\n",
       "      <td>True</td>\n",
       "    </tr>\n",
       "    <tr>\n",
       "      <th>...</th>\n",
       "      <td>...</td>\n",
       "      <td>...</td>\n",
       "      <td>...</td>\n",
       "      <td>...</td>\n",
       "    </tr>\n",
       "    <tr>\n",
       "      <th>99</th>\n",
       "      <td>2022-11-28</td>\n",
       "      <td>490</td>\n",
       "      <td>Bogotá</td>\n",
       "      <td>False</td>\n",
       "    </tr>\n",
       "    <tr>\n",
       "      <th>100</th>\n",
       "      <td>2022-12-05</td>\n",
       "      <td>586</td>\n",
       "      <td>Bogotá</td>\n",
       "      <td>False</td>\n",
       "    </tr>\n",
       "    <tr>\n",
       "      <th>101</th>\n",
       "      <td>2022-12-12</td>\n",
       "      <td>409</td>\n",
       "      <td>Medellín</td>\n",
       "      <td>False</td>\n",
       "    </tr>\n",
       "    <tr>\n",
       "      <th>102</th>\n",
       "      <td>2022-12-19</td>\n",
       "      <td>876</td>\n",
       "      <td>Bogotá</td>\n",
       "      <td>True</td>\n",
       "    </tr>\n",
       "    <tr>\n",
       "      <th>103</th>\n",
       "      <td>2022-12-26</td>\n",
       "      <td>398</td>\n",
       "      <td>Bogotá</td>\n",
       "      <td>False</td>\n",
       "    </tr>\n",
       "  </tbody>\n",
       "</table>\n",
       "<p>104 rows × 4 columns</p>\n",
       "</div>"
      ],
      "text/plain": [
       "        fechas  n clientes       local  Compra_online\n",
       "0   2022-01-03         926  Facatativá           True\n",
       "1   2022-01-10         692  Facatativá          False\n",
       "2   2022-01-17         578  Facatativá          False\n",
       "3   2022-01-24         529  Facatativá           True\n",
       "4   2022-01-31         947  Facatativá           True\n",
       "..         ...         ...         ...            ...\n",
       "99  2022-11-28         490      Bogotá          False\n",
       "100 2022-12-05         586      Bogotá          False\n",
       "101 2022-12-12         409    Medellín          False\n",
       "102 2022-12-19         876      Bogotá           True\n",
       "103 2022-12-26         398      Bogotá          False\n",
       "\n",
       "[104 rows x 4 columns]"
      ]
     },
     "execution_count": 103,
     "metadata": {},
     "output_type": "execute_result"
    }
   ],
   "source": [
    "def CrearDataset(Num=1):\n",
    "    #Creando una lista que va a contener toda la data del DataFrame\n",
    "    data = []\n",
    "    #Num va a ser el n de veces que se va a realizar el ciclo\n",
    "    for i in range(Num):\n",
    "\n",
    "        #Se crea un rango de fechas con frecuencia semanal cada lunes (freq=W-MON)\n",
    "        fechas_rango = pd.date_range('2022/1/1', '2023/1/1', freq='W-MON')\n",
    "\n",
    "        #Se crea un array con n de clientes con tamaño igual a la cantidad de fechas\n",
    "        clientes = np.random.randint(1000, size=len(fechas_rango))\n",
    "\n",
    "        #Se crea una lista de locales\n",
    "        local = ['Bogotá', 'Facatativá', 'Medellín']\n",
    "        #Seleccionando un valor aleatorio de (local) usando indexacion con randint. ej local[0]\n",
    "        random_local = [local[np.random.randint(len(local))] for x in clientes]\n",
    "    \n",
    "        compra_online = [True, False]\n",
    "        random_compra_online = [compra_online[np.random.randint(len(compra_online))] for x in clientes]\n",
    "\n",
    "        #Usando extend() para añadir varios items a la data\n",
    "        #Zip añade los valores a la lista en el orden en que se van iterando\n",
    "        data.extend(zip(fechas_rango, clientes, random_local, random_compra_online))\n",
    "\n",
    "    return data\n",
    "\n",
    "dataset = CrearDataset(2)\n",
    "\n",
    "df = pd.DataFrame(dataset, columns=['fechas', 'n clientes', 'local', 'Compra_online'])\n",
    "df\n"
   ]
  },
  {
   "attachments": {},
   "cell_type": "markdown",
   "metadata": {},
   "source": [
    "##### Usando random.choice (metodo más fácil)"
   ]
  },
  {
   "cell_type": "code",
   "execution_count": 102,
   "metadata": {},
   "outputs": [
    {
     "data": {
      "text/html": [
       "<div>\n",
       "<style scoped>\n",
       "    .dataframe tbody tr th:only-of-type {\n",
       "        vertical-align: middle;\n",
       "    }\n",
       "\n",
       "    .dataframe tbody tr th {\n",
       "        vertical-align: top;\n",
       "    }\n",
       "\n",
       "    .dataframe thead th {\n",
       "        text-align: right;\n",
       "    }\n",
       "</style>\n",
       "<table border=\"1\" class=\"dataframe\">\n",
       "  <thead>\n",
       "    <tr style=\"text-align: right;\">\n",
       "      <th></th>\n",
       "      <th>fechas</th>\n",
       "      <th>n clientes</th>\n",
       "      <th>local</th>\n",
       "      <th>Compra_online</th>\n",
       "    </tr>\n",
       "  </thead>\n",
       "  <tbody>\n",
       "    <tr>\n",
       "      <th>0</th>\n",
       "      <td>2022-01-03</td>\n",
       "      <td>963</td>\n",
       "      <td>Medellín</td>\n",
       "      <td>True</td>\n",
       "    </tr>\n",
       "    <tr>\n",
       "      <th>1</th>\n",
       "      <td>2022-01-10</td>\n",
       "      <td>784</td>\n",
       "      <td>Bogotá</td>\n",
       "      <td>False</td>\n",
       "    </tr>\n",
       "    <tr>\n",
       "      <th>2</th>\n",
       "      <td>2022-01-17</td>\n",
       "      <td>68</td>\n",
       "      <td>Bogotá</td>\n",
       "      <td>True</td>\n",
       "    </tr>\n",
       "    <tr>\n",
       "      <th>3</th>\n",
       "      <td>2022-01-24</td>\n",
       "      <td>877</td>\n",
       "      <td>Facatativá</td>\n",
       "      <td>False</td>\n",
       "    </tr>\n",
       "    <tr>\n",
       "      <th>4</th>\n",
       "      <td>2022-01-31</td>\n",
       "      <td>999</td>\n",
       "      <td>Medellín</td>\n",
       "      <td>False</td>\n",
       "    </tr>\n",
       "    <tr>\n",
       "      <th>...</th>\n",
       "      <td>...</td>\n",
       "      <td>...</td>\n",
       "      <td>...</td>\n",
       "      <td>...</td>\n",
       "    </tr>\n",
       "    <tr>\n",
       "      <th>151</th>\n",
       "      <td>2022-11-28</td>\n",
       "      <td>140</td>\n",
       "      <td>Bogotá</td>\n",
       "      <td>False</td>\n",
       "    </tr>\n",
       "    <tr>\n",
       "      <th>152</th>\n",
       "      <td>2022-12-05</td>\n",
       "      <td>59</td>\n",
       "      <td>Bogotá</td>\n",
       "      <td>True</td>\n",
       "    </tr>\n",
       "    <tr>\n",
       "      <th>153</th>\n",
       "      <td>2022-12-12</td>\n",
       "      <td>911</td>\n",
       "      <td>Facatativá</td>\n",
       "      <td>True</td>\n",
       "    </tr>\n",
       "    <tr>\n",
       "      <th>154</th>\n",
       "      <td>2022-12-19</td>\n",
       "      <td>385</td>\n",
       "      <td>Facatativá</td>\n",
       "      <td>False</td>\n",
       "    </tr>\n",
       "    <tr>\n",
       "      <th>155</th>\n",
       "      <td>2022-12-26</td>\n",
       "      <td>364</td>\n",
       "      <td>Facatativá</td>\n",
       "      <td>True</td>\n",
       "    </tr>\n",
       "  </tbody>\n",
       "</table>\n",
       "<p>156 rows × 4 columns</p>\n",
       "</div>"
      ],
      "text/plain": [
       "        fechas  n clientes       local  Compra_online\n",
       "0   2022-01-03         963    Medellín           True\n",
       "1   2022-01-10         784      Bogotá          False\n",
       "2   2022-01-17          68      Bogotá           True\n",
       "3   2022-01-24         877  Facatativá          False\n",
       "4   2022-01-31         999    Medellín          False\n",
       "..         ...         ...         ...            ...\n",
       "151 2022-11-28         140      Bogotá          False\n",
       "152 2022-12-05          59      Bogotá           True\n",
       "153 2022-12-12         911  Facatativá           True\n",
       "154 2022-12-19         385  Facatativá          False\n",
       "155 2022-12-26         364  Facatativá           True\n",
       "\n",
       "[156 rows x 4 columns]"
      ]
     },
     "execution_count": 102,
     "metadata": {},
     "output_type": "execute_result"
    }
   ],
   "source": [
    "from random import choice\n",
    "\n",
    "def CrearDataset(n=1):\n",
    "    data = []\n",
    "    for i in range(n):\n",
    "        fechas_rango = pd.date_range('2022/1/1', '2023/1/1', freq='W-MON')\n",
    "        clientes = np.random.randint(1000, size=len(fechas_rango))\n",
    "        \n",
    "        local = ['Bogotá', 'Facatativá', 'Medellín']\n",
    "        random_local = [choice(local) for x in clientes]\n",
    "        \n",
    "        compra_online = [True, False]\n",
    "        random_compra_online = [choice(compra_online) for x in clientes]\n",
    "        data.extend(zip(fechas_rango, clientes, random_local, random_compra_online))\n",
    "\n",
    "    return data\n",
    "\n",
    "dataset = CrearDataset(3)\n",
    "\n",
    "df = pd.DataFrame(dataset, columns=['fechas', 'n clientes', 'local', 'Compra_online'])\n",
    "df\n"
   ]
  },
  {
   "cell_type": "code",
   "execution_count": null,
   "metadata": {},
   "outputs": [],
   "source": []
  }
 ],
 "metadata": {
  "kernelspec": {
   "display_name": "Python 3",
   "language": "python",
   "name": "python3"
  },
  "language_info": {
   "codemirror_mode": {
    "name": "ipython",
    "version": 3
   },
   "file_extension": ".py",
   "mimetype": "text/x-python",
   "name": "python",
   "nbconvert_exporter": "python",
   "pygments_lexer": "ipython3",
   "version": "3.10.6 (main, Nov 14 2022, 16:10:14) [GCC 11.3.0]"
  },
  "orig_nbformat": 4,
  "vscode": {
   "interpreter": {
    "hash": "916dbcbb3f70747c44a77c7bcd40155683ae19c65e1c03b4aa3499c5328201f1"
   }
  }
 },
 "nbformat": 4,
 "nbformat_minor": 2
}
