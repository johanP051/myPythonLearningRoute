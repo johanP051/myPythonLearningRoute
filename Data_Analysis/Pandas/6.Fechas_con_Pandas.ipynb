{
 "cells": [
  {
   "cell_type": "code",
   "execution_count": 1,
   "metadata": {},
   "outputs": [],
   "source": [
    "import pandas as pd\n",
    "import datetime\n",
    "import numpy as np"
   ]
  },
  {
   "attachments": {},
   "cell_type": "markdown",
   "metadata": {},
   "source": [
    "### ```pd.to_datetime()```\n",
    "\n",
    "* Se puede usar para convertir **strings**, **Series** o **columnas** de **Dataframes** en un objeto **Timestamp** de pandas\n",
    "*  *Sintax:* \n",
    "    ```python\n",
    "    pandas.to_datetime(arg, errors=’raise’, dayfirst=False, yearfirst=False, utc=None, format=None)\n",
    "    ```\n",
    "\n",
    "Donde:\n",
    "* dayfirst: Boolean value, places day first if True.\n",
    "* yearfirst: Boolean value, places year first if True.\n",
    "* utc: Boolean value, Returns time in UTC if True.\n",
    "* format: String input to tell position of day, month and year."
   ]
  },
  {
   "cell_type": "code",
   "execution_count": 2,
   "metadata": {},
   "outputs": [
    {
     "name": "stdout",
     "output_type": "stream",
     "text": [
      "2022-08-07 00:00:00\n",
      "<class 'pandas._libs.tslibs.timestamps.Timestamp'>\n"
     ]
    }
   ],
   "source": [
    "#Strings\n",
    "dateStr = pd.to_datetime('7 August 22')\n",
    "print(dateStr)\n",
    "print(type(dateStr))"
   ]
  },
  {
   "cell_type": "code",
   "execution_count": 3,
   "metadata": {},
   "outputs": [
    {
     "data": {
      "text/html": [
       "<div>\n",
       "<style scoped>\n",
       "    .dataframe tbody tr th:only-of-type {\n",
       "        vertical-align: middle;\n",
       "    }\n",
       "\n",
       "    .dataframe tbody tr th {\n",
       "        vertical-align: top;\n",
       "    }\n",
       "\n",
       "    .dataframe thead th {\n",
       "        text-align: right;\n",
       "    }\n",
       "</style>\n",
       "<table border=\"1\" class=\"dataframe\">\n",
       "  <thead>\n",
       "    <tr style=\"text-align: right;\">\n",
       "      <th></th>\n",
       "      <th>year</th>\n",
       "      <th>month</th>\n",
       "      <th>day</th>\n",
       "    </tr>\n",
       "  </thead>\n",
       "  <tbody>\n",
       "    <tr>\n",
       "      <th>0</th>\n",
       "      <td>2015</td>\n",
       "      <td>2</td>\n",
       "      <td>4</td>\n",
       "    </tr>\n",
       "    <tr>\n",
       "      <th>1</th>\n",
       "      <td>2016</td>\n",
       "      <td>3</td>\n",
       "      <td>5</td>\n",
       "    </tr>\n",
       "  </tbody>\n",
       "</table>\n",
       "</div>"
      ],
      "text/plain": [
       "   year  month  day\n",
       "0  2015      2    4\n",
       "1  2016      3    5"
      ]
     },
     "execution_count": 3,
     "metadata": {},
     "output_type": "execute_result"
    }
   ],
   "source": [
    "df = pd.DataFrame({'year': [2015, 2016],\n",
    "                   'month': [2, 3],\n",
    "                   'day': [4, 5]})\n",
    "\n",
    "df"
   ]
  },
  {
   "cell_type": "code",
   "execution_count": 4,
   "metadata": {},
   "outputs": [
    {
     "name": "stdout",
     "output_type": "stream",
     "text": [
      "0   2015-02-04\n",
      "1   2016-03-05\n",
      "dtype: datetime64[ns]\n"
     ]
    }
   ],
   "source": [
    "#Dataframe\n",
    "datesDf = pd.to_datetime(df)\n",
    "print(datesDf)"
   ]
  },
  {
   "cell_type": "code",
   "execution_count": 5,
   "metadata": {},
   "outputs": [
    {
     "data": {
      "text/plain": [
       "0     3-8-22\n",
       "1    25-8-05\n",
       "dtype: object"
      ]
     },
     "execution_count": 5,
     "metadata": {},
     "output_type": "execute_result"
    }
   ],
   "source": [
    "#Serie\n",
    "s = pd.Series(['3-8-22', '25-8-05'])\n",
    "s\n"
   ]
  },
  {
   "cell_type": "code",
   "execution_count": 6,
   "metadata": {},
   "outputs": [
    {
     "data": {
      "text/plain": [
       "0   2022-08-03\n",
       "1   2005-08-25\n",
       "dtype: datetime64[ns]"
      ]
     },
     "execution_count": 6,
     "metadata": {},
     "output_type": "execute_result"
    }
   ],
   "source": [
    "#Añadiendo dayfisrst\n",
    "\n",
    "datesSeries = pd.to_datetime(s, dayfirst=True)\n",
    "datesSeries"
   ]
  },
  {
   "cell_type": "code",
   "execution_count": 7,
   "metadata": {},
   "outputs": [
    {
     "data": {
      "text/plain": [
       "0   2003-08-22\n",
       "1   2025-08-05\n",
       "dtype: datetime64[ns]"
      ]
     },
     "execution_count": 7,
     "metadata": {},
     "output_type": "execute_result"
    }
   ],
   "source": [
    "#Añadiendo yearfisrst\n",
    "\n",
    "datesSeries = pd.to_datetime(s, yearfirst=True)\n",
    "datesSeries"
   ]
  },
  {
   "cell_type": "code",
   "execution_count": 8,
   "metadata": {},
   "outputs": [
    {
     "data": {
      "text/plain": [
       "Timestamp('2013-11-08 12:00:00+0000', tz='UTC')"
      ]
     },
     "execution_count": 8,
     "metadata": {},
     "output_type": "execute_result"
    }
   ],
   "source": [
    "#Añadiendo UTC\n",
    "\n",
    "dateUTC = pd.to_datetime('13-11-8 12:00', utc=True, yearfirst=True)\n",
    "dateUTC"
   ]
  },
  {
   "cell_type": "code",
   "execution_count": 9,
   "metadata": {},
   "outputs": [
    {
     "data": {
      "text/plain": [
       "Timestamp('2005-08-25 18:21:12')"
      ]
     },
     "execution_count": 9,
     "metadata": {},
     "output_type": "execute_result"
    }
   ],
   "source": [
    "#Añadiendo format=''\n",
    "\n",
    "date = pd.to_datetime('25 August 2005, 18:21:12', format='%d %B %Y, %H:%M:%S')\n",
    "date"
   ]
  },
  {
   "cell_type": "code",
   "execution_count": 10,
   "metadata": {},
   "outputs": [
    {
     "data": {
      "text/plain": [
       "Timestamp('2022-12-17 14:04:08.838400')"
      ]
     },
     "execution_count": 10,
     "metadata": {},
     "output_type": "execute_result"
    }
   ],
   "source": [
    "now = pd.to_datetime(datetime.datetime.now())\n",
    "now"
   ]
  },
  {
   "attachments": {},
   "cell_type": "markdown",
   "metadata": {},
   "source": [
    "### ```pd.to_timedelta()```, Calcular fechas pasadas y futuras"
   ]
  },
  {
   "cell_type": "code",
   "execution_count": 11,
   "metadata": {},
   "outputs": [
    {
     "name": "stdout",
     "output_type": "stream",
     "text": [
      "2022-12-21 14:04:09.060859\n",
      "<class 'pandas._libs.tslibs.timestamps.Timestamp'>\n",
      "\n",
      " 2022-12-21 14:04:09.062244\n",
      "<class 'datetime.datetime'>\n"
     ]
    }
   ],
   "source": [
    "from datetime import datetime\n",
    "\n",
    "now = pd.to_datetime(datetime.now())\n",
    "mydate = now + pd.to_timedelta(4, unit='D')\n",
    "print(mydate)\n",
    "print(type(mydate))\n",
    "\n",
    "\n",
    "now2 = datetime.now()\n",
    "mydate = now2 + pd.to_timedelta(4, unit='D')\n",
    "print(\"\\n\", mydate)\n",
    "print(type(mydate))\n"
   ]
  },
  {
   "cell_type": "code",
   "execution_count": 12,
   "metadata": {},
   "outputs": [
    {
     "data": {
      "text/plain": [
       "TimedeltaIndex(['0 days', '7 days', '14 days', '21 days', '28 days',\n",
       "                '35 days'],\n",
       "               dtype='timedelta64[ns]', freq=None)"
      ]
     },
     "execution_count": 12,
     "metadata": {},
     "output_type": "execute_result"
    }
   ],
   "source": [
    "weeks = pd.to_timedelta(np.arange(6), unit='W')\n",
    "weeks"
   ]
  },
  {
   "attachments": {},
   "cell_type": "markdown",
   "metadata": {},
   "source": [
    "### ```pd.date_range()```, monstrar un rango de fechas"
   ]
  },
  {
   "cell_type": "code",
   "execution_count": 27,
   "metadata": {},
   "outputs": [
    {
     "data": {
      "text/plain": [
       "DatetimeIndex(['2022-12-24', '2022-12-25', '2022-12-26', '2022-12-27',\n",
       "               '2022-12-28', '2022-12-29', '2022-12-30', '2022-12-31',\n",
       "               '2023-01-01'],\n",
       "              dtype='datetime64[ns]', freq='D')"
      ]
     },
     "execution_count": 27,
     "metadata": {},
     "output_type": "execute_result"
    }
   ],
   "source": [
    "fechas_venta = pd.date_range('24/12/22', '1/1/23', freq='D')\n",
    "fechas_venta"
   ]
  },
  {
   "cell_type": "code",
   "execution_count": 28,
   "metadata": {},
   "outputs": [
    {
     "data": {
      "text/plain": [
       "[9, 8, 7, 1, 7, 5, 8, 10, 5]"
      ]
     },
     "execution_count": 28,
     "metadata": {},
     "output_type": "execute_result"
    }
   ],
   "source": [
    "n_ofSelledProducts = [np.random.randint(11) for x in fechas_venta]\n",
    "n_ofSelledProducts"
   ]
  },
  {
   "cell_type": "code",
   "execution_count": 40,
   "metadata": {},
   "outputs": [
    {
     "data": {
      "text/plain": [
       "(  Producto  Cantidad vendida Fechas de la venta\n",
       " 0        I                 9         2022-12-24\n",
       " 1        J                 8         2022-12-25\n",
       " 2        K                 7         2022-12-26\n",
       " 3        L                 1         2022-12-27\n",
       " 4        M                 7         2022-12-28\n",
       " 5        N                 5         2022-12-29\n",
       " 6        O                 8         2022-12-30\n",
       " 7        P                10         2022-12-31\n",
       " 8        Q                 5         2023-01-01,\n",
       " Producto                      object\n",
       " Cantidad vendida               int64\n",
       " Fechas de la venta    datetime64[ns]\n",
       " dtype: object)"
      ]
     },
     "execution_count": 40,
     "metadata": {},
     "output_type": "execute_result"
    }
   ],
   "source": [
    "data = {\n",
    "    'Producto': [chr(p) for p in range(ord('I'), ord('I')+len(fechas_venta))],\n",
    "    'Cantidad vendida': n_ofSelledProducts,\n",
    "    'Fechas de la venta': fechas_venta\n",
    "}\n",
    "\n",
    "df = pd.DataFrame(data)\n",
    "df, df.dtypes"
   ]
  },
  {
   "cell_type": "code",
   "execution_count": 47,
   "metadata": {},
   "outputs": [
    {
     "data": {
      "text/html": [
       "<div>\n",
       "<style scoped>\n",
       "    .dataframe tbody tr th:only-of-type {\n",
       "        vertical-align: middle;\n",
       "    }\n",
       "\n",
       "    .dataframe tbody tr th {\n",
       "        vertical-align: top;\n",
       "    }\n",
       "\n",
       "    .dataframe thead th {\n",
       "        text-align: right;\n",
       "    }\n",
       "</style>\n",
       "<table border=\"1\" class=\"dataframe\">\n",
       "  <thead>\n",
       "    <tr style=\"text-align: right;\">\n",
       "      <th></th>\n",
       "      <th>Producto</th>\n",
       "      <th>Cantidad vendida</th>\n",
       "      <th>Fechas de la venta</th>\n",
       "      <th>Día</th>\n",
       "      <th>Mes</th>\n",
       "      <th>Año</th>\n",
       "      <th>Duración de las Ventas</th>\n",
       "    </tr>\n",
       "  </thead>\n",
       "  <tbody>\n",
       "    <tr>\n",
       "      <th>0</th>\n",
       "      <td>I</td>\n",
       "      <td>9</td>\n",
       "      <td>2022-12-24</td>\n",
       "      <td>24</td>\n",
       "      <td>12</td>\n",
       "      <td>2022</td>\n",
       "      <td>8 days</td>\n",
       "    </tr>\n",
       "    <tr>\n",
       "      <th>1</th>\n",
       "      <td>J</td>\n",
       "      <td>8</td>\n",
       "      <td>2022-12-25</td>\n",
       "      <td>25</td>\n",
       "      <td>12</td>\n",
       "      <td>2022</td>\n",
       "      <td>8 days</td>\n",
       "    </tr>\n",
       "    <tr>\n",
       "      <th>2</th>\n",
       "      <td>K</td>\n",
       "      <td>7</td>\n",
       "      <td>2022-12-26</td>\n",
       "      <td>26</td>\n",
       "      <td>12</td>\n",
       "      <td>2022</td>\n",
       "      <td>8 days</td>\n",
       "    </tr>\n",
       "    <tr>\n",
       "      <th>3</th>\n",
       "      <td>L</td>\n",
       "      <td>1</td>\n",
       "      <td>2022-12-27</td>\n",
       "      <td>27</td>\n",
       "      <td>12</td>\n",
       "      <td>2022</td>\n",
       "      <td>8 days</td>\n",
       "    </tr>\n",
       "    <tr>\n",
       "      <th>4</th>\n",
       "      <td>M</td>\n",
       "      <td>7</td>\n",
       "      <td>2022-12-28</td>\n",
       "      <td>28</td>\n",
       "      <td>12</td>\n",
       "      <td>2022</td>\n",
       "      <td>8 days</td>\n",
       "    </tr>\n",
       "    <tr>\n",
       "      <th>5</th>\n",
       "      <td>N</td>\n",
       "      <td>5</td>\n",
       "      <td>2022-12-29</td>\n",
       "      <td>29</td>\n",
       "      <td>12</td>\n",
       "      <td>2022</td>\n",
       "      <td>8 days</td>\n",
       "    </tr>\n",
       "    <tr>\n",
       "      <th>6</th>\n",
       "      <td>O</td>\n",
       "      <td>8</td>\n",
       "      <td>2022-12-30</td>\n",
       "      <td>30</td>\n",
       "      <td>12</td>\n",
       "      <td>2022</td>\n",
       "      <td>8 days</td>\n",
       "    </tr>\n",
       "    <tr>\n",
       "      <th>7</th>\n",
       "      <td>P</td>\n",
       "      <td>10</td>\n",
       "      <td>2022-12-31</td>\n",
       "      <td>31</td>\n",
       "      <td>12</td>\n",
       "      <td>2022</td>\n",
       "      <td>8 days</td>\n",
       "    </tr>\n",
       "    <tr>\n",
       "      <th>8</th>\n",
       "      <td>Q</td>\n",
       "      <td>5</td>\n",
       "      <td>2023-01-01</td>\n",
       "      <td>1</td>\n",
       "      <td>1</td>\n",
       "      <td>2023</td>\n",
       "      <td>8 days</td>\n",
       "    </tr>\n",
       "  </tbody>\n",
       "</table>\n",
       "</div>"
      ],
      "text/plain": [
       "  Producto  Cantidad vendida Fechas de la venta  Día  Mes   Año  \\\n",
       "0        I                 9         2022-12-24   24   12  2022   \n",
       "1        J                 8         2022-12-25   25   12  2022   \n",
       "2        K                 7         2022-12-26   26   12  2022   \n",
       "3        L                 1         2022-12-27   27   12  2022   \n",
       "4        M                 7         2022-12-28   28   12  2022   \n",
       "5        N                 5         2022-12-29   29   12  2022   \n",
       "6        O                 8         2022-12-30   30   12  2022   \n",
       "7        P                10         2022-12-31   31   12  2022   \n",
       "8        Q                 5         2023-01-01    1    1  2023   \n",
       "\n",
       "  Duración de las Ventas  \n",
       "0                 8 days  \n",
       "1                 8 days  \n",
       "2                 8 days  \n",
       "3                 8 days  \n",
       "4                 8 days  \n",
       "5                 8 days  \n",
       "6                 8 days  \n",
       "7                 8 days  \n",
       "8                 8 days  "
      ]
     },
     "execution_count": 47,
     "metadata": {},
     "output_type": "execute_result"
    }
   ],
   "source": [
    "#Accediendo al los a tributos de la fechas en las columnas con .dt\n",
    "\n",
    "df['Día']  = df['Fechas de la venta'].dt.day\n",
    "df['Mes'] = df['Fechas de la venta'].dt.month\n",
    "df['Año'] = df['Fechas de la venta'].dt.year\n",
    "df['Duración de las Ventas'] = df['Fechas de la venta'].max() - df['Fechas de la venta'].min()\n",
    "\n",
    "df"
   ]
  },
  {
   "cell_type": "code",
   "execution_count": 90,
   "metadata": {},
   "outputs": [
    {
     "data": {
      "text/html": [
       "<div>\n",
       "<style scoped>\n",
       "    .dataframe tbody tr th:only-of-type {\n",
       "        vertical-align: middle;\n",
       "    }\n",
       "\n",
       "    .dataframe tbody tr th {\n",
       "        vertical-align: top;\n",
       "    }\n",
       "\n",
       "    .dataframe thead th {\n",
       "        text-align: right;\n",
       "    }\n",
       "</style>\n",
       "<table border=\"1\" class=\"dataframe\">\n",
       "  <thead>\n",
       "    <tr style=\"text-align: right;\">\n",
       "      <th></th>\n",
       "      <th>Producto</th>\n",
       "      <th>Cantidad vendida</th>\n",
       "      <th>Fechas de la venta</th>\n",
       "      <th>Día</th>\n",
       "      <th>Mes</th>\n",
       "      <th>Año</th>\n",
       "      <th>Duración de las Ventas</th>\n",
       "      <th>Duración en minutos</th>\n",
       "      <th>Duración en segundos</th>\n",
       "    </tr>\n",
       "  </thead>\n",
       "  <tbody>\n",
       "    <tr>\n",
       "      <th>0</th>\n",
       "      <td>I</td>\n",
       "      <td>9</td>\n",
       "      <td>2022-12-24</td>\n",
       "      <td>24</td>\n",
       "      <td>12</td>\n",
       "      <td>2022</td>\n",
       "      <td>8 days</td>\n",
       "      <td>11520.0</td>\n",
       "      <td>691200.0</td>\n",
       "    </tr>\n",
       "    <tr>\n",
       "      <th>1</th>\n",
       "      <td>J</td>\n",
       "      <td>8</td>\n",
       "      <td>2022-12-25</td>\n",
       "      <td>25</td>\n",
       "      <td>12</td>\n",
       "      <td>2022</td>\n",
       "      <td>8 days</td>\n",
       "      <td>11520.0</td>\n",
       "      <td>691200.0</td>\n",
       "    </tr>\n",
       "    <tr>\n",
       "      <th>2</th>\n",
       "      <td>K</td>\n",
       "      <td>7</td>\n",
       "      <td>2022-12-26</td>\n",
       "      <td>26</td>\n",
       "      <td>12</td>\n",
       "      <td>2022</td>\n",
       "      <td>8 days</td>\n",
       "      <td>11520.0</td>\n",
       "      <td>691200.0</td>\n",
       "    </tr>\n",
       "    <tr>\n",
       "      <th>3</th>\n",
       "      <td>L</td>\n",
       "      <td>1</td>\n",
       "      <td>2022-12-27</td>\n",
       "      <td>27</td>\n",
       "      <td>12</td>\n",
       "      <td>2022</td>\n",
       "      <td>8 days</td>\n",
       "      <td>11520.0</td>\n",
       "      <td>691200.0</td>\n",
       "    </tr>\n",
       "    <tr>\n",
       "      <th>4</th>\n",
       "      <td>M</td>\n",
       "      <td>7</td>\n",
       "      <td>2022-12-28</td>\n",
       "      <td>28</td>\n",
       "      <td>12</td>\n",
       "      <td>2022</td>\n",
       "      <td>8 days</td>\n",
       "      <td>11520.0</td>\n",
       "      <td>691200.0</td>\n",
       "    </tr>\n",
       "    <tr>\n",
       "      <th>5</th>\n",
       "      <td>N</td>\n",
       "      <td>5</td>\n",
       "      <td>2022-12-29</td>\n",
       "      <td>29</td>\n",
       "      <td>12</td>\n",
       "      <td>2022</td>\n",
       "      <td>8 days</td>\n",
       "      <td>11520.0</td>\n",
       "      <td>691200.0</td>\n",
       "    </tr>\n",
       "    <tr>\n",
       "      <th>6</th>\n",
       "      <td>O</td>\n",
       "      <td>8</td>\n",
       "      <td>2022-12-30</td>\n",
       "      <td>30</td>\n",
       "      <td>12</td>\n",
       "      <td>2022</td>\n",
       "      <td>8 days</td>\n",
       "      <td>11520.0</td>\n",
       "      <td>691200.0</td>\n",
       "    </tr>\n",
       "    <tr>\n",
       "      <th>7</th>\n",
       "      <td>P</td>\n",
       "      <td>10</td>\n",
       "      <td>2022-12-31</td>\n",
       "      <td>31</td>\n",
       "      <td>12</td>\n",
       "      <td>2022</td>\n",
       "      <td>8 days</td>\n",
       "      <td>11520.0</td>\n",
       "      <td>691200.0</td>\n",
       "    </tr>\n",
       "    <tr>\n",
       "      <th>8</th>\n",
       "      <td>Q</td>\n",
       "      <td>5</td>\n",
       "      <td>2023-01-01</td>\n",
       "      <td>1</td>\n",
       "      <td>1</td>\n",
       "      <td>2023</td>\n",
       "      <td>8 days</td>\n",
       "      <td>11520.0</td>\n",
       "      <td>691200.0</td>\n",
       "    </tr>\n",
       "  </tbody>\n",
       "</table>\n",
       "</div>"
      ],
      "text/plain": [
       "  Producto  Cantidad vendida Fechas de la venta  Día  Mes   Año  \\\n",
       "0        I                 9         2022-12-24   24   12  2022   \n",
       "1        J                 8         2022-12-25   25   12  2022   \n",
       "2        K                 7         2022-12-26   26   12  2022   \n",
       "3        L                 1         2022-12-27   27   12  2022   \n",
       "4        M                 7         2022-12-28   28   12  2022   \n",
       "5        N                 5         2022-12-29   29   12  2022   \n",
       "6        O                 8         2022-12-30   30   12  2022   \n",
       "7        P                10         2022-12-31   31   12  2022   \n",
       "8        Q                 5         2023-01-01    1    1  2023   \n",
       "\n",
       "  Duración de las Ventas  Duración en minutos  Duración en segundos  \n",
       "0                 8 days              11520.0              691200.0  \n",
       "1                 8 days              11520.0              691200.0  \n",
       "2                 8 days              11520.0              691200.0  \n",
       "3                 8 days              11520.0              691200.0  \n",
       "4                 8 days              11520.0              691200.0  \n",
       "5                 8 days              11520.0              691200.0  \n",
       "6                 8 days              11520.0              691200.0  \n",
       "7                 8 days              11520.0              691200.0  \n",
       "8                 8 days              11520.0              691200.0  "
      ]
     },
     "execution_count": 90,
     "metadata": {},
     "output_type": "execute_result"
    }
   ],
   "source": [
    "from datetime import timedelta\n",
    "df['Duración en minutos'] = df['Duración de las Ventas']/timedelta(minutes=1)\n",
    "df['Duración en segundos'] = df['Duración de las Ventas']/timedelta(seconds=1)\n",
    "df"
   ]
  },
  {
   "cell_type": "code",
   "execution_count": 91,
   "metadata": {},
   "outputs": [
    {
     "data": {
      "text/plain": [
       "Producto                           object\n",
       "Cantidad vendida                    int64\n",
       "Fechas de la venta         datetime64[ns]\n",
       "Día                                 int64\n",
       "Mes                                 int64\n",
       "Año                                 int64\n",
       "Duración de las Ventas    timedelta64[ns]\n",
       "Duración en minutos               float64\n",
       "Duración en segundos              float64\n",
       "dtype: object"
      ]
     },
     "execution_count": 91,
     "metadata": {},
     "output_type": "execute_result"
    }
   ],
   "source": [
    "df.dtypes"
   ]
  },
  {
   "cell_type": "code",
   "execution_count": null,
   "metadata": {},
   "outputs": [],
   "source": []
  }
 ],
 "metadata": {
  "kernelspec": {
   "display_name": "Python 3",
   "language": "python",
   "name": "python3"
  },
  "language_info": {
   "codemirror_mode": {
    "name": "ipython",
    "version": 3
   },
   "file_extension": ".py",
   "mimetype": "text/x-python",
   "name": "python",
   "nbconvert_exporter": "python",
   "pygments_lexer": "ipython3",
   "version": "3.10.6 (main, Nov 14 2022, 16:10:14) [GCC 11.3.0]"
  },
  "orig_nbformat": 4,
  "vscode": {
   "interpreter": {
    "hash": "916dbcbb3f70747c44a77c7bcd40155683ae19c65e1c03b4aa3499c5328201f1"
   }
  }
 },
 "nbformat": 4,
 "nbformat_minor": 2
}
