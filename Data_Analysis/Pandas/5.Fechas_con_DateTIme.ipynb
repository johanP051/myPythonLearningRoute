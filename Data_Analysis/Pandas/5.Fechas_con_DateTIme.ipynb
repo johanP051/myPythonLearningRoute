{
 "cells": [
  {
   "cell_type": "code",
   "execution_count": 2,
   "metadata": {},
   "outputs": [
    {
     "name": "stdout",
     "output_type": "stream",
     "text": [
      "2005-08-25\n",
      "<class 'datetime.date'>\n"
     ]
    }
   ],
   "source": [
    "from datetime import date\n",
    "\n",
    "#date(y, m, d)\n",
    "\n",
    "mydate = date(2005, 8, 25)\n",
    "\n",
    "print(mydate)\n",
    "\n",
    "print(type(mydate))"
   ]
  },
  {
   "attachments": {},
   "cell_type": "markdown",
   "metadata": {},
   "source": [
    "### Obteniendo dia, mes y año con ```datetime.date```"
   ]
  },
  {
   "cell_type": "code",
   "execution_count": 3,
   "metadata": {},
   "outputs": [
    {
     "data": {
      "text/plain": [
       "(25, 8, 2005)"
      ]
     },
     "execution_count": 3,
     "metadata": {},
     "output_type": "execute_result"
    }
   ],
   "source": [
    "mydate.day, mydate.month, mydate.year"
   ]
  },
  {
   "attachments": {},
   "cell_type": "markdown",
   "metadata": {},
   "source": [
    "### Obteniendo la fecha de hoy con ```.today()```"
   ]
  },
  {
   "cell_type": "code",
   "execution_count": 70,
   "metadata": {},
   "outputs": [
    {
     "name": "stdout",
     "output_type": "stream",
     "text": [
      "Hoy es 2022-12-15\n",
      "Día: 15\n",
      "Mes: 12\n",
      "Año: 2022\n"
     ]
    }
   ],
   "source": [
    "today = date.today()\n",
    "print(f\"Hoy es {today}\")\n",
    "\n",
    "print(f\"Día: {today.day}\")\n",
    "print(f\"Mes: {today.month}\")\n",
    "print(f\"Año: {today.year}\")"
   ]
  },
  {
   "attachments": {},
   "cell_type": "markdown",
   "metadata": {},
   "source": [
    "### Usando ```strftime()``` para indicar un formato de fecha"
   ]
  },
  {
   "cell_type": "code",
   "execution_count": 71,
   "metadata": {},
   "outputs": [
    {
     "name": "stdout",
     "output_type": "stream",
     "text": [
      "Fecha indicando el formato: 15-December-2022\n"
     ]
    }
   ],
   "source": [
    "todayFormatted = today.strftime('%d-%B-%Y')\n",
    "print(f\"Fecha indicando el formato: {todayFormatted}\")"
   ]
  },
  {
   "attachments": {},
   "cell_type": "markdown",
   "metadata": {},
   "source": [
    "### Obteniendo hora, minutos y segundos de una hora específica con ```datetime.time```\n",
    "\n",
    "* \n",
    "  ``` python\n",
    "  datetime.time(h, min, sec, microsec=0)\n",
    "  ```"
   ]
  },
  {
   "cell_type": "code",
   "execution_count": 5,
   "metadata": {},
   "outputs": [
    {
     "name": "stdout",
     "output_type": "stream",
     "text": [
      "11:41:30.000012\n"
     ]
    }
   ],
   "source": [
    "from datetime import time\n",
    "\n",
    "mytime = time(11, 41, 30, 12)\n",
    "print(mytime)"
   ]
  },
  {
   "cell_type": "code",
   "execution_count": 6,
   "metadata": {},
   "outputs": [
    {
     "data": {
      "text/plain": [
       "(11, 41, 30, 12)"
      ]
     },
     "execution_count": 6,
     "metadata": {},
     "output_type": "execute_result"
    }
   ],
   "source": [
    "mytime.hour, mytime.minute, mytime.second, mytime.microsecond"
   ]
  },
  {
   "attachments": {},
   "cell_type": "markdown",
   "metadata": {},
   "source": [
    "### Obteniendo fecha y hora(tiempo) con ```datetime.datetime```"
   ]
  },
  {
   "cell_type": "code",
   "execution_count": 7,
   "metadata": {},
   "outputs": [
    {
     "name": "stdout",
     "output_type": "stream",
     "text": [
      "2022-12-15 13:55:53.572099\n",
      "2022-11-16 13:14:00\n"
     ]
    }
   ],
   "source": [
    "from datetime import datetime\n",
    "\n",
    "#Mostrando la fecha y el tiempo(hora) de ahora\n",
    "mydate_and_time_now = datetime.now()\n",
    "print(mydate_and_time_now)  #(year, month, day, hour, minute, second, microsecond)\n",
    "\n",
    "#Creando una fecha y una hora\n",
    "dtime = datetime(2022, 11, 16, 13, 14, 00)\n",
    "print(dtime)"
   ]
  },
  {
   "attachments": {},
   "cell_type": "markdown",
   "metadata": {},
   "source": [
    "### Obteniendo el número del día de la semana con ```.weekday()```\n",
    "\n",
    "* Al usar este metodo se considera que el **Lunes es el día 0**\n",
    "* **{L: 0, M: 1, X: 2, J: 3, V: 4, S: 5, D: 6}**"
   ]
  },
  {
   "cell_type": "code",
   "execution_count": 8,
   "metadata": {},
   "outputs": [
    {
     "data": {
      "text/plain": [
       "datetime.datetime(2022, 12, 15, 13, 55, 53, 695342)"
      ]
     },
     "execution_count": 8,
     "metadata": {},
     "output_type": "execute_result"
    }
   ],
   "source": [
    "now = datetime.now()\n",
    "now"
   ]
  },
  {
   "cell_type": "code",
   "execution_count": 9,
   "metadata": {},
   "outputs": [
    {
     "data": {
      "text/plain": [
       "3"
      ]
     },
     "execution_count": 9,
     "metadata": {},
     "output_type": "execute_result"
    }
   ],
   "source": [
    "#Hoy es Martes, entonces me devolverá un 1\n",
    "now.weekday()"
   ]
  },
  {
   "attachments": {},
   "cell_type": "markdown",
   "metadata": {},
   "source": [
    "### Usando ```.isoweekday()```\n",
    "\n",
    "* Al usar este metodo se considera que el **Domingo es el día 0**\n",
    "* **{D: 0, L: 1, M: 2, X: 3, J: 4, V: 5, S: 6}**"
   ]
  },
  {
   "cell_type": "code",
   "execution_count": 10,
   "metadata": {},
   "outputs": [
    {
     "data": {
      "text/plain": [
       "4"
      ]
     },
     "execution_count": 10,
     "metadata": {},
     "output_type": "execute_result"
    }
   ],
   "source": [
    "now.isoweekday()"
   ]
  },
  {
   "attachments": {},
   "cell_type": "markdown",
   "metadata": {},
   "source": [
    "### Usando ```.isocalendar()```\n",
    "\n",
    "* **mydate.isocalendar(año, semana del año, dia de la semana)**\n",
    "   \n",
    "* La fecha está en formato **ISO**"
   ]
  },
  {
   "cell_type": "code",
   "execution_count": 11,
   "metadata": {},
   "outputs": [
    {
     "data": {
      "text/plain": [
       "datetime.IsoCalendarDate(year=2022, week=50, weekday=4)"
      ]
     },
     "execution_count": 11,
     "metadata": {},
     "output_type": "execute_result"
    }
   ],
   "source": [
    "now.isocalendar()"
   ]
  },
  {
   "cell_type": "code",
   "execution_count": 12,
   "metadata": {},
   "outputs": [
    {
     "name": "stdout",
     "output_type": "stream",
     "text": [
      "2023-01-02\n"
     ]
    },
    {
     "data": {
      "text/plain": [
       "datetime.IsoCalendarDate(year=2023, week=1, weekday=1)"
      ]
     },
     "execution_count": 12,
     "metadata": {},
     "output_type": "execute_result"
    }
   ],
   "source": [
    "mydate = date(2023, 1, 2)\n",
    "print(mydate)\n",
    "mydate.isocalendar()"
   ]
  },
  {
   "cell_type": "code",
   "execution_count": 13,
   "metadata": {},
   "outputs": [
    {
     "name": "stdout",
     "output_type": "stream",
     "text": [
      "2023-01-03\n",
      "datetime.IsoCalendarDate(year=2023, week=1, weekday=2)\n"
     ]
    }
   ],
   "source": [
    "mydate2 = date(2023, 1, 3)\n",
    "print(mydate2)\n",
    "print(mydate2.isocalendar())"
   ]
  },
  {
   "attachments": {},
   "cell_type": "markdown",
   "metadata": {},
   "source": [
    "### Obteniendo fechas con otros métodos\n",
    "\n",
    "\n",
    "* date.fromisoformat(*dateInISO*)\n",
    "* date(*dateFromat*).isoformat\n",
    "\n",
    "* *isoformat*: (YYYY-MM-DD)\n",
    "* *dateFormat*: (Y, M, D)"
   ]
  },
  {
   "cell_type": "code",
   "execution_count": 14,
   "metadata": {},
   "outputs": [
    {
     "name": "stdout",
     "output_type": "stream",
     "text": [
      "2023-08-25\n",
      "<class 'datetime.date'>\n"
     ]
    }
   ],
   "source": [
    "ISOformat_to_dateFormat = date.fromisoformat('2023-08-25')\n",
    "\n",
    "print(ISOformat_to_dateFormat)\n",
    "print(type(ISOformat_to_dateFormat))"
   ]
  },
  {
   "cell_type": "code",
   "execution_count": 15,
   "metadata": {},
   "outputs": [
    {
     "name": "stdout",
     "output_type": "stream",
     "text": [
      "2023-08-25\n",
      "<class 'str'>\n"
     ]
    }
   ],
   "source": [
    "dateFormat_to_ISOformat = date(2023, 8, 25).isoformat()\n",
    "\n",
    "print(dateFormat_to_ISOformat)\n",
    "print(type(dateFormat_to_ISOformat))"
   ]
  },
  {
   "attachments": {},
   "cell_type": "markdown",
   "metadata": {},
   "source": [
    "### .strptime()\n",
    "\n",
    "* Este método permite leer un **str** con una **fecha en formato indeterminado** como un **objeto de .datetime**\n",
    "\n",
    "\n",
    "\n",
    "|Formatos|Descripción|\n",
    "|-------|-----------|\n",
    "|`%a`|Nombre del día de la semana abreviado|\n",
    "|`%A`|Nombre del día de la semana completo|\n",
    "|`%w`|Día de la semana como número decimal|\n",
    "|`%d`|Día del mes como número de dos dígitos|\n",
    "|`%-d`|Día del mes como número decimal|\n",
    "|`%b`|Nombre del mes abreviado|\n",
    "|`%B`|Nombre del mes completo|\n",
    "|`%m`|Mes del año número de dos dígitos|\n",
    "|`%-m`|Mes del año como número decimal|\n",
    "|`%y`|Año sin centenas como número de dos dígitos|\n",
    "|`%-y`|Año sin centenas como número decimal|\n",
    "|`%Y`|Año completo|\n",
    "|`%H`|Hora en 24 hrs. con dos dígitos|\n",
    "|`%-H`|Hora en 24 hrs. como número decimal|\n",
    "|`%I`|Hora en 12 hrs. con dos dígitos|\n",
    "|`%-I`|Hora en 12 hrs. como número decimal|\n",
    "|`%M`|Minutos con dos dígitos|\n",
    "|`%-M`|Minutos como número decimal|\n",
    "|`%S`|Segundos con dos dígitos|\n",
    "|`%-S`|Segundos como número decimal|\n"
   ]
  },
  {
   "cell_type": "code",
   "execution_count": 16,
   "metadata": {},
   "outputs": [
    {
     "name": "stdout",
     "output_type": "stream",
     "text": [
      "Fecha como string: 25 - August 2005, 18:21:00\n",
      "<class 'str'>\n",
      "\n",
      "Fecha como objeto datetime: 2005-08-25 18:21:00\n",
      "<class 'datetime.datetime'>\n"
     ]
    }
   ],
   "source": [
    "import datetime\n",
    "date_str = '25 - August 2005, 18:21:00'\n",
    "print(f\"Fecha como string: {date_str}\")\n",
    "print(type(date_str))\n",
    "\n",
    "\n",
    "date_obj = datetime.datetime.strptime(date_str, \"%d - %B %Y, %H:%M:%S\") #Se le indica el formato en el que está la fecha como str\n",
    "\n",
    "print(f\"\\nFecha como objeto datetime: {date_obj}\")\n",
    "print(type(date_obj))\n",
    "\n",
    "\n"
   ]
  },
  {
   "attachments": {},
   "cell_type": "markdown",
   "metadata": {},
   "source": [
    "### Operando fechas con ```datetime.timedelta```"
   ]
  },
  {
   "cell_type": "code",
   "execution_count": 17,
   "metadata": {},
   "outputs": [
    {
     "name": "stdout",
     "output_type": "stream",
     "text": [
      "Fecha actual: 2022-12-15 13:55:55.128685\n"
     ]
    }
   ],
   "source": [
    "from datetime import timedelta\n",
    "from datetime import datetime\n",
    "\n",
    "now = datetime.now()\n",
    "print(f\"Fecha actual: {now}\")\n",
    "\n"
   ]
  },
  {
   "cell_type": "code",
   "execution_count": 18,
   "metadata": {},
   "outputs": [
    {
     "name": "stdout",
     "output_type": "stream",
     "text": [
      "2022-12-17 13:55:55.128685\n"
     ]
    }
   ],
   "source": [
    "pasadoManana = now + timedelta(days=2)\n",
    "print(pasadoManana)"
   ]
  },
  {
   "cell_type": "code",
   "execution_count": 19,
   "metadata": {},
   "outputs": [
    {
     "name": "stdout",
     "output_type": "stream",
     "text": [
      "2022-12-24 16:00:56.128685\n"
     ]
    }
   ],
   "source": [
    "pasadoManana = now + timedelta(days=2, weeks=1, hours=2, minutes=5, seconds=1)\n",
    "print(pasadoManana)"
   ]
  },
  {
   "cell_type": "code",
   "execution_count": 20,
   "metadata": {},
   "outputs": [
    {
     "name": "stdout",
     "output_type": "stream",
     "text": [
      "2022-12-12 17:55:55.128685\n",
      "2022-12-12 17:55:55.128685\n"
     ]
    }
   ],
   "source": [
    "dayX = now + timedelta(hours=4) - timedelta(days=3)\n",
    "print(dayX)\n",
    "\n",
    "dayX = now + timedelta(hours=4, days=-3)\n",
    "print(dayX)"
   ]
  },
  {
   "cell_type": "code",
   "execution_count": 21,
   "metadata": {},
   "outputs": [
    {
     "name": "stdout",
     "output_type": "stream",
     "text": [
      "2022-12-13 13:55:55.128685\n",
      "2022-12-13 13:55:55.128685\n"
     ]
    }
   ],
   "source": [
    "dayY = now - timedelta(days=2)\n",
    "print(dayY)\n",
    "\n",
    "dayY = now + timedelta(days=-2)\n",
    "print(dayY)\n"
   ]
  },
  {
   "attachments": {},
   "cell_type": "markdown",
   "metadata": {},
   "source": [
    "### Creando un obj timedelta"
   ]
  },
  {
   "cell_type": "code",
   "execution_count": 64,
   "metadata": {},
   "outputs": [
    {
     "name": "stdout",
     "output_type": "stream",
     "text": [
      "374 days, 12:00:00\n",
      "<class 'datetime.timedelta'>\n",
      "\n",
      "Fecha de ahora: 2022-12-15 14:21:25.451158\n",
      "Fecha Nueva: \t2023-12-25 02:21:25.451158\n",
      "374 days, 12:00:00\n"
     ]
    }
   ],
   "source": [
    "#Calculando Fecha Futuracreando primero el obj Timedelta"
   ]
  },
  {
   "cell_type": "code",
   "execution_count": 67,
   "metadata": {},
   "outputs": [
    {
     "name": "stdout",
     "output_type": "stream",
     "text": [
      "29 days, 23:00:00\n",
      "<class 'datetime.timedelta'>\n",
      "\n",
      "Fecha de ahora: 2022-12-15 14:24:19.062220\n",
      "Fecha Nueva: \t2022-11-15 15:24:19.062220\n",
      "29 days, 23:00:00\n"
     ]
    }
   ],
   "source": [
    "#Calculando Fecha pasada\n",
    "\n",
    "objTimedelta = timedelta(days=30, hours=-1) # Si 1d = 24h ---->  1d - 1h = 23h = 24h- 1h\n",
    "print(objTimedelta)\n",
    "print(type(objTimedelta))\n",
    "\n",
    "now = datetime.now()\n",
    "newDate = now - objTimedelta\n",
    "print(f\"\\nFecha de ahora: {now}\\nFecha Nueva: \\t{newDate}\")\n",
    "\n",
    "timeDifference = now - newDate\n",
    "print(timeDifference)\n"
   ]
  },
  {
   "cell_type": "code",
   "execution_count": null,
   "metadata": {},
   "outputs": [],
   "source": []
  }
 ],
 "metadata": {
  "kernelspec": {
   "display_name": "Python 3.10.6 64-bit",
   "language": "python",
   "name": "python3"
  },
  "language_info": {
   "codemirror_mode": {
    "name": "ipython",
    "version": 3
   },
   "file_extension": ".py",
   "mimetype": "text/x-python",
   "name": "python",
   "nbconvert_exporter": "python",
   "pygments_lexer": "ipython3",
   "version": "3.10.6 (main, Nov 14 2022, 16:10:14) [GCC 11.3.0]"
  },
  "orig_nbformat": 4,
  "vscode": {
   "interpreter": {
    "hash": "916dbcbb3f70747c44a77c7bcd40155683ae19c65e1c03b4aa3499c5328201f1"
   }
  }
 },
 "nbformat": 4,
 "nbformat_minor": 2
}
