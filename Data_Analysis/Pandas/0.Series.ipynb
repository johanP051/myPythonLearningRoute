{
 "cells": [
  {
   "cell_type": "markdown",
   "metadata": {},
   "source": [
    "## Pandas\n",
    "\n",
    "* Proporciona herramientas analíticas y estructura de datos\n",
    "* La clase `DataFrame` es útil para la representacióny manipulación de datos hererogéneos tabulados (hojas de cálculo, tablas de SQL ...)\n",
    "\n",
    "* Lee/escribe ficheros como CSV, XLS, SQL, HDF5 ...\n",
    "* Estructuras de datos: `DataFrame`, `Series`\n",
    "* Permite filtrar, agregar o eliminar datos\n",
    "* Combina los arrays de numpy con su capacidad para analizar datos tabulados"
   ]
  },
  {
   "cell_type": "code",
   "execution_count": 44,
   "metadata": {},
   "outputs": [],
   "source": [
    "import pandas as pd\n",
    "import numpy as np\n"
   ]
  },
  {
   "cell_type": "markdown",
   "metadata": {},
   "source": [
    "### Series\n",
    "\n",
    "En pandas una serie es un objeto que contiene un array unidimensional de datos y un array de etiquetas(**índice**); si este no se especifica, entonces se genera automáticamente como una secuencia de *integers*.\n",
    "\n",
    "```python\n",
    "    serie = pd.Series(data, index=index)\n",
    "```"
   ]
  },
  {
   "cell_type": "code",
   "execution_count": 45,
   "metadata": {},
   "outputs": [
    {
     "data": {
      "text/plain": [
       "0    2000\n",
       "1    2001\n",
       "2    2002\n",
       "3    2003\n",
       "dtype: int64"
      ]
     },
     "execution_count": 45,
     "metadata": {},
     "output_type": "execute_result"
    }
   ],
   "source": [
    "#Creando una Series con índice automático\n",
    "serie = pd.Series([2000, 2001, 2002, 2003])\n",
    "serie"
   ]
  },
  {
   "cell_type": "code",
   "execution_count": 46,
   "metadata": {},
   "outputs": [
    {
     "data": {
      "text/plain": [
       "array([2000, 2001, 2002, 2003])"
      ]
     },
     "execution_count": 46,
     "metadata": {},
     "output_type": "execute_result"
    }
   ],
   "source": [
    "#Accediendo a los valores de la serie lo que devuelve un array de numpy\n",
    "serie.values"
   ]
  },
  {
   "cell_type": "code",
   "execution_count": 47,
   "metadata": {},
   "outputs": [
    {
     "data": {
      "text/plain": [
       "array([2000, 2001, 2002, 2003])"
      ]
     },
     "execution_count": 47,
     "metadata": {},
     "output_type": "execute_result"
    }
   ],
   "source": [
    "serie.values"
   ]
  },
  {
   "cell_type": "code",
   "execution_count": 48,
   "metadata": {},
   "outputs": [
    {
     "data": {
      "text/plain": [
       "8006"
      ]
     },
     "execution_count": 48,
     "metadata": {},
     "output_type": "execute_result"
    }
   ],
   "source": [
    "serie.values.sum()"
   ]
  },
  {
   "cell_type": "code",
   "execution_count": 49,
   "metadata": {},
   "outputs": [
    {
     "data": {
      "text/plain": [
       "RangeIndex(start=0, stop=4, step=1)"
      ]
     },
     "execution_count": 49,
     "metadata": {},
     "output_type": "execute_result"
    }
   ],
   "source": [
    "serie.index"
   ]
  },
  {
   "cell_type": "markdown",
   "metadata": {},
   "source": [
    "#### Definiendo un `array índice`, pasándolo como argumento"
   ]
  },
  {
   "cell_type": "code",
   "execution_count": 51,
   "metadata": {},
   "outputs": [
    {
     "data": {
      "text/plain": [
       "Juan       2000\n",
       "Esteban    2001\n",
       "Alberto    2002\n",
       "Carlos     2003\n",
       "dtype: int64"
      ]
     },
     "execution_count": 51,
     "metadata": {},
     "output_type": "execute_result"
    }
   ],
   "source": [
    "serie = pd.Series([2000, 2001, 2002, 2003], ['Juan', 'Esteban', 'Alberto', 'Carlos'])\n",
    "serie"
   ]
  },
  {
   "cell_type": "code",
   "execution_count": 52,
   "metadata": {},
   "outputs": [
    {
     "data": {
      "text/plain": [
       "Index(['Juan', 'Esteban', 'Alberto', 'Carlos'], dtype='object')"
      ]
     },
     "execution_count": 52,
     "metadata": {},
     "output_type": "execute_result"
    }
   ],
   "source": [
    "serie.index"
   ]
  },
  {
   "cell_type": "markdown",
   "metadata": {},
   "source": [
    "### También se pueden crear Series a partir de `arrays unidimesionales`, diccionarios, etc"
   ]
  },
  {
   "cell_type": "code",
   "execution_count": 69,
   "metadata": {},
   "outputs": [
    {
     "data": {
      "text/plain": [
       "0     0.063303\n",
       "1     0.936612\n",
       "2     0.347163\n",
       "3     0.872028\n",
       "4     0.254427\n",
       "5     0.619704\n",
       "6     0.968241\n",
       "7     0.698439\n",
       "8     0.871905\n",
       "9     0.225029\n",
       "10    0.931695\n",
       "dtype: float64"
      ]
     },
     "execution_count": 69,
     "metadata": {},
     "output_type": "execute_result"
    }
   ],
   "source": [
    "serie_npArray = pd.Series(np.random.rand(11))\n",
    "serie_npArray"
   ]
  },
  {
   "cell_type": "code",
   "execution_count": 70,
   "metadata": {},
   "outputs": [
    {
     "data": {
      "text/plain": [
       "{'Cuadrado de 0': 0,\n",
       " 'Cuadrado de 1': 1,\n",
       " 'Cuadrado de 2': 4,\n",
       " 'Cuadrado de 3': 9,\n",
       " 'Cuadrado de 4': 16,\n",
       " 'Cuadrado de 5': 25,\n",
       " 'Cuadrado de 6': 36,\n",
       " 'Cuadrado de 7': 49,\n",
       " 'Cuadrado de 8': 64,\n",
       " 'Cuadrado de 9': 81,\n",
       " 'Cuadrado de 10': 100}"
      ]
     },
     "execution_count": 70,
     "metadata": {},
     "output_type": "execute_result"
    }
   ],
   "source": [
    "\"\"\"dic = {}\n",
    "\n",
    "for x in range(0, 11):\n",
    "    dic[f\"Cuadrado de {x}\"] = x**2\n",
    "dic\n",
    "\"\"\"\n",
    "\n",
    "dic = {f\"Cuadrado de {x}\" : x**2 for x in range(0,11)}\n",
    "dic"
   ]
  },
  {
   "cell_type": "code",
   "execution_count": 65,
   "metadata": {},
   "outputs": [
    {
     "data": {
      "text/plain": [
       "Cuadrado de 0       0\n",
       "Cuadrado de 1       1\n",
       "Cuadrado de 2       4\n",
       "Cuadrado de 3       9\n",
       "Cuadrado de 4      16\n",
       "Cuadrado de 5      25\n",
       "Cuadrado de 6      36\n",
       "Cuadrado de 7      49\n",
       "Cuadrado de 8      64\n",
       "Cuadrado de 9      81\n",
       "Cuadrado de 10    100\n",
       "dtype: int64"
      ]
     },
     "execution_count": 65,
     "metadata": {},
     "output_type": "execute_result"
    }
   ],
   "source": [
    "numeros_Serie = pd.Series(dic)\n",
    "numeros_Serie"
   ]
  },
  {
   "cell_type": "code",
   "execution_count": null,
   "metadata": {},
   "outputs": [],
   "source": []
  }
 ],
 "metadata": {
  "kernelspec": {
   "display_name": "Python 3.10.6 64-bit",
   "language": "python",
   "name": "python3"
  },
  "language_info": {
   "codemirror_mode": {
    "name": "ipython",
    "version": 3
   },
   "file_extension": ".py",
   "mimetype": "text/x-python",
   "name": "python",
   "nbconvert_exporter": "python",
   "pygments_lexer": "ipython3",
   "version": "3.10.6"
  },
  "orig_nbformat": 4,
  "vscode": {
   "interpreter": {
    "hash": "916dbcbb3f70747c44a77c7bcd40155683ae19c65e1c03b4aa3499c5328201f1"
   }
  }
 },
 "nbformat": 4,
 "nbformat_minor": 2
}
