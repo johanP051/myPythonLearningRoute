{
 "cells": [
  {
   "cell_type": "code",
   "execution_count": null,
   "metadata": {},
   "outputs": [],
   "source": []
  },
  {
   "cell_type": "code",
   "execution_count": 9,
   "metadata": {},
   "outputs": [
    {
     "name": "stdout",
     "output_type": "stream",
     "text": [
      "<class 'dict'>\n",
      "dict_keys(['name', 'quantity', 'price'])\n",
      "dict_items([('name', 'PythonParaTodos'), ('quantity', 1), ('price', 50.0)])\n",
      "{'name': 'PythonParaTodos', 'quantity': 1, 'price': 50.0}\n",
      "{}\n"
     ]
    }
   ],
   "source": [
    "#En un diccionario se almacena una clave y un valor que quiera colocar dentro de la clave\n",
    "#Siempre las claves van en comillas dobles \"\", no el simples ''\n",
    "\n",
    "product = {\n",
    "    \"name\": 'PythonParaTodos',\n",
    "    \"quantity\": 1,\n",
    "    \"price\": 50000\n",
    "    \n",
    "}\n",
    "\n",
    "user = {\n",
    "    \"firstName\": 'Johan',\n",
    "    \"lastNames\": 'Posada Beltrán'\n",
    "}\n",
    "\n",
    "\n",
    "print(type(product))\n",
    "\n",
    "\n",
    "#print(dir(product))\n",
    "print(product.keys())\n",
    "print(product.items())\n",
    "print(product)\n",
    "\n",
    "#Puedo usar clear para limpiar el Diccionario\n",
    "product.clear()\n",
    "print(product)"
   ]
  },
  {
   "cell_type": "code",
   "execution_count": 9,
   "metadata": {},
   "outputs": [
    {
     "name": "stdout",
     "output_type": "stream",
     "text": [
      "{'Name': ['Johan']}\n",
      "{'Name': 'Johan'}\n"
     ]
    }
   ],
   "source": [
    "#Añadiendo elementos a una key\n",
    "dic = {\n",
    "    \"Name\": []\n",
    "}\n",
    "dic[\"Name\"].append(\"Johan\")\n",
    "\n",
    "print(dic)\n",
    "\n",
    "# Alternativa:\n",
    "dic[\"Name\"] = \"Johan\"\n",
    "print(dic)"
   ]
  },
  {
   "cell_type": "code",
   "execution_count": 10,
   "metadata": {},
   "outputs": [
    {
     "data": {
      "text/plain": [
       "{'Name': 'Sebastián'}"
      ]
     },
     "execution_count": 10,
     "metadata": {},
     "output_type": "execute_result"
    }
   ],
   "source": [
    "#Actualizando elementos de un diccionario\n",
    "dic[\"Name\"] = \"Sebastián\"\n",
    "dic"
   ]
  },
  {
   "cell_type": "code",
   "execution_count": 11,
   "metadata": {},
   "outputs": [
    {
     "data": {
      "text/plain": [
       "{'Name': 'Sebastián', 'Apellido': 'Posada'}"
      ]
     },
     "execution_count": 11,
     "metadata": {},
     "output_type": "execute_result"
    }
   ],
   "source": [
    "#Añadiendo un nuevo elemento`\n",
    "dic[\"Apellido\"] = \"Posada\"\n",
    "dic"
   ]
  },
  {
   "cell_type": "code",
   "execution_count": 14,
   "metadata": {},
   "outputs": [
    {
     "name": "stdout",
     "output_type": "stream",
     "text": [
      "[{'name': 'LearnPython', 'price': 55000}, {'name': 'PythonCourse', 'price': 100000}]\n",
      "<class 'list'>\n"
     ]
    }
   ],
   "source": [
    "#Dentro de una lista yo puedo almacenar diccionarios con elementos diferentes\n",
    "\n",
    "products = [\n",
    "    {\"name\": 'LearnPython', \n",
    "     \"price\": 55000},\n",
    "    {\"name\": 'PythonCourse', \n",
    "     \"price\": 100000}\n",
    "]\n",
    "\n",
    "print(products)\n",
    "print(type(products))"
   ]
  }
 ],
 "metadata": {
  "kernelspec": {
   "display_name": "Python 3.10.6 64-bit",
   "language": "python",
   "name": "python3"
  },
  "language_info": {
   "codemirror_mode": {
    "name": "ipython",
    "version": 3
   },
   "file_extension": ".py",
   "mimetype": "text/x-python",
   "name": "python",
   "nbconvert_exporter": "python",
   "pygments_lexer": "ipython3",
   "version": "3.10.6"
  },
  "vscode": {
   "interpreter": {
    "hash": "916dbcbb3f70747c44a77c7bcd40155683ae19c65e1c03b4aa3499c5328201f1"
   }
  }
 },
 "nbformat": 4,
 "nbformat_minor": 2
}
