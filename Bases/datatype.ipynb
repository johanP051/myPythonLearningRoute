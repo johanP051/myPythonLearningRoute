{
 "cells": [
  {
   "cell_type": "code",
   "execution_count": 1,
   "metadata": {},
   "outputs": [
    {
     "name": "stdout",
     "output_type": "stream",
     "text": [
      "Hello World\n",
      "hello world\n",
      "Hello World\n",
      "Hello world\n"
     ]
    }
   ],
   "source": [
    "#Strings, son las caracteres\n",
    "print(\"Hello World\")\n",
    "print('hello world')\n",
    "print('''Hello World''')\n",
    "print(\"\"\"Hello world\"\"\")\n",
    "#comillas dobles o simples tienen la misma función\n"
   ]
  },
  {
   "cell_type": "code",
   "execution_count": 5,
   "metadata": {},
   "outputs": [
    {
     "name": "stdout",
     "output_type": "stream",
     "text": [
      "<class 'str'>\n",
      "<class 'int'>\n",
      "<class 'float'>\n",
      "Holamundo\n"
     ]
    }
   ],
   "source": [
    " #type me ayuda a definir como lo entiende python ese codigo, mas info ej: string(str) o entero(int) o decimal(float)\n",
    "print(type('Hello World'))\n",
    "print(type(21))\n",
    "print(type(20.5))\n",
    "#en este caso con print le digo que me pinte eso, si no lo utilizara, no aparecería en la pantalla, solo lo dejo con type\n",
    "type('helllo world')\n",
    "type(100)"
   ]
  },
  {
   "cell_type": "code",
   "execution_count": 2,
   "metadata": {},
   "outputs": [
    {
     "name": "stdout",
     "output_type": "stream",
     "text": [
      "HolaMundo\n",
      "Bye2020Hello2021\n",
      "Hola Mundo\n",
      "Bye 2020 Hello 2021\n"
     ]
    }
   ],
   "source": [
    "# el + me ayuda a unir palabras 'concadenar' pero en ese caso no estoy sumando números\n",
    "print('Hola'+'Mundo')\n",
    "print('Bye'+'2020'+'Hello'+'2021')#Si no quiero q me salga el texto pegado, puedo poner un espacio después de cada palabra\n",
    "print('Hola '+'Mundo')\n",
    "print('Bye '+'2020 '+'Hello '+'2021')"
   ]
  },
  {
   "cell_type": "code",
   "execution_count": 24,
   "metadata": {},
   "outputs": [
    {
     "name": "stdout",
     "output_type": "stream",
     "text": [
      "30\n",
      "<class 'int'>\n"
     ]
    }
   ],
   "source": [
    "#Integer, enteros\n",
    "print(30)\n",
    "print(type(30))"
   ]
  },
  {
   "cell_type": "code",
   "execution_count": 10,
   "metadata": {},
   "outputs": [
    {
     "name": "stdout",
     "output_type": "stream",
     "text": [
      "90.5\n"
     ]
    }
   ],
   "source": [
    "#Float, decimales\n",
    "print(90.5)"
   ]
  },
  {
   "cell_type": "code",
   "execution_count": 11,
   "metadata": {},
   "outputs": [
    {
     "name": "stdout",
     "output_type": "stream",
     "text": [
      "<class 'bool'>\n"
     ]
    }
   ],
   "source": [
    "#Boolean, datos logicos y sirven para definir tipos de estados como activo o inactivo\n",
    "False\n",
    "True\n",
    "print(type(True))"
   ]
  },
  {
   "cell_type": "code",
   "execution_count": 13,
   "metadata": {},
   "outputs": [
    {
     "name": "stdout",
     "output_type": "stream",
     "text": [
      "<class 'list'>\n"
     ]
    },
    {
     "data": {
      "text/plain": [
       "list"
      ]
     },
     "execution_count": 13,
     "metadata": {},
     "output_type": "execute_result"
    }
   ],
   "source": [
    "#List, sirve para listar los datos que pueden cambiar como diferentes elementos, para eso utilizo corchetes(square brackets[]) y comas\n",
    "[10, 20, 30, 55]\n",
    "['Hello','Bye', 'Hi']\n",
    "[10, 'Hello', True, 21.5]\n",
    "\n",
    "print(type([10, 20]))\n",
    "type([10, 20])"
   ]
  },
  {
   "cell_type": "code",
   "execution_count": 16,
   "metadata": {},
   "outputs": [
    {
     "name": "stdout",
     "output_type": "stream",
     "text": [
      "<class 'tuple'>\n"
     ]
    },
    {
     "data": {
      "text/plain": [
       "tuple"
      ]
     },
     "execution_count": 16,
     "metadata": {},
     "output_type": "execute_result"
    }
   ],
   "source": [
    "#Tuples,sirve para listar datos que no cambian, para eso utilizo paréntesis\n",
    "(10, 20, 30, 55)\n",
    "()\n",
    "\n",
    "print(type((10,20)))\n",
    "type((10,20))"
   ]
  },
  {
   "cell_type": "code",
   "execution_count": 22,
   "metadata": {},
   "outputs": [
    {
     "name": "stdout",
     "output_type": "stream",
     "text": [
      "<class 'dict'>\n"
     ]
    }
   ],
   "source": [
    "#Dictorionies, diccionarios sirven para agrupar distintos tipos de datos con un nombre clave por ejemplo un usuario\n",
    "#Donde a una clave(key) y un valor (value)\n",
    "#Agrupar datos q están definidos por clave y valor y ulilizan llaves {}  los dos puntos :  y las comas para separarlos \n",
    "\n",
    "#user\n",
    "{'name':'Johan',\n",
    "\"lastname\":\"Posada\"}\n",
    "#map app\n",
    "{'latitude':'4',\n",
    "'longitude':'74'}\n",
    "\n",
    "print(type({'name':'Johan',\n",
    "'lastname':'Posada'\n",
    "}))\n",
    "\n"
   ]
  },
  {
   "cell_type": "code",
   "execution_count": 23,
   "metadata": {},
   "outputs": [
    {
     "name": "stdout",
     "output_type": "stream",
     "text": [
      "<class 'NoneType'>\n"
     ]
    }
   ],
   "source": [
    "#None, para decir que un dato no tiene nada\n",
    "print(type(None))\n"
   ]
  },
  {
   "cell_type": "code",
   "execution_count": null,
   "metadata": {},
   "outputs": [],
   "source": []
  }
 ],
 "metadata": {
  "kernelspec": {
   "display_name": "Python 3",
   "language": "python",
   "name": "python3"
  },
  "language_info": {
   "codemirror_mode": {
    "name": "ipython",
    "version": 3
   },
   "file_extension": ".py",
   "mimetype": "text/x-python",
   "name": "python",
   "nbconvert_exporter": "python",
   "pygments_lexer": "ipython3",
   "version": "3.7.3"
  }
 },
 "nbformat": 4,
 "nbformat_minor": 2
}
