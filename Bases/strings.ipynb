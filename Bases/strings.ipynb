{
 "cells": [
  {
   "cell_type": "code",
   "execution_count": 1,
   "metadata": {},
   "outputs": [
    {
     "name": "stdout",
     "output_type": "stream",
     "text": [
      "HELLO WORLD\n",
      "Hello World\n",
      "Aprendiendo A Programar Con Python\n",
      "APRENDIENDO A PROGRAMAR CON PYTHON\n"
     ]
    }
   ],
   "source": [
    "x = \"Hello World\"\n",
    "#print (dir(x))\n",
    "print(x.upper())\n",
    "print(x.title())\n",
    "y = \"aprendiendo a programar con python\"\n",
    "print(y.title())\n",
    "print(y.upper())"
   ]
  },
  {
   "cell_type": "code",
   "execution_count": 19,
   "metadata": {},
   "outputs": [
    {
     "name": "stdout",
     "output_type": "stream",
     "text": [
      "HOLA MUNDO\n",
      "Hola Mundo\n",
      "hello world\n",
      "hELLO WORLD\n",
      "Sebas posada\n",
      "JOHAN POSADA\n",
      "Johan Posada\n",
      "3\n",
      "1\n",
      "1\n",
      "True\n",
      "False\n",
      "True\n"
     ]
    }
   ],
   "source": [
    "myStr = 'hola mundo'\n",
    "#print(dir(myStr))  #Con esto se muestra lo que puedo hacer con ese dato, lo que obtenemos son las propiedades y los métodoscomo convertirlo a mayuscula\n",
    "\n",
    "print(myStr.upper())\n",
    "print(myStr.title())\n",
    "\n",
    "#En este caso cambié el valor de la variable\n",
    "myStr = 'Hello world'\n",
    "print(myStr.lower())\n",
    "print(myStr.swapcase())  #si hay mayus lo convierte a minus y si hay minus lo convierte a mayus\n",
    "\n",
    "myStr = 'SEBAS POSADA'\n",
    "print(myStr.capitalize()) #1ra mayuscuala, las demás minúsculas\n",
    "\n",
    "print(myStr.replace('SEBAS', 'JOHAN')) #replace reemplaza solo palabra que le indico por otra que quiera\n",
    "print(myStr.replace('SEBAS', 'JOHAN').title()) #también puedo utilizar los metodos con otro metodo\n",
    "\n",
    "\n",
    "print(myStr.count('S')) #Con Count puedo saber cuantas veces se repite un carácter\n",
    "print(myStr.count('P'))\n",
    "print(myStr.count(' ')) #También puedo contar el espacio o el carácter vacío\n",
    "\n",
    "\n",
    "\n",
    "print(myStr.startswith('SE')) #Con startswith puedo saber si mi variable str empieza con los carácter(s) que le indique mostrándome un \"True\" o un \"False\" \n",
    "print(myStr.startswith('se')) #las mayus y minus también afectan\n",
    "print(myStr.endswith('POSADA')) ##Con endswith puedo saber si mi variable str termina con los carácter(s) que le indique mostrándome un \"True\" o un \"False\" \n",
    "\n"
   ]
  },
  {
   "cell_type": "code",
   "execution_count": 2,
   "metadata": {},
   "outputs": [
    {
     "name": "stdout",
     "output_type": "stream",
     "text": [
      "['SEBAS', 'POSADA']\n",
      "['Johan', ' Sebastián', ' Posada']\n",
      "['Joh', 'n, Seb', 'stián, Pos', 'd', '']\n",
      "3\n",
      "3\n",
      "-1\n",
      "index no encotró en carácter, no existe\n"
     ]
    }
   ],
   "source": [
    "myStr = 'SEBAS POSADA'\n",
    "print(myStr.split()) #con este metodo puedo hacer que separe mis strings en varios a partir de un espacio en blanco por defecto, pero eso lo puedo cambiar\n",
    "\n",
    "myStr = 'Johan, Sebastián, Posada'\n",
    "print(myStr.split(',')) #me crea una lista de strings los cuales pertenecen a un grupo \n",
    "print(myStr.split('a')) #puedo separarlo también a partir de una letra\n",
    "\n",
    "print(myStr.find('a')) # con find puedo hallar la posición o índice del caracter q quiera y empieza contando desde 0 NO 1\n",
    "print(myStr.index('a')) #find e index sirven para lo mismo, la diferencia es que si find no encuentra el caracter me manda un-1\n",
    "#si index no encuentra el caracter me manda una exepción o error\n",
    "\n",
    "print(myStr.find('z')) #como la z no existe me arroja un -1\n",
    "print(myStr.index('z'))#como la z no existe lo q hace index es arrojarme un value error\n",
    "\n",
    "#para imprimir el error de una mejor forma\n",
    "'''try:\n",
    "    print(myStr.index('z'))\n",
    "except ValueError:\n",
    "    print('index no encotró en carácter, no existe')'''"
   ]
  },
  {
   "cell_type": "code",
   "execution_count": 66,
   "metadata": {},
   "outputs": [
    {
     "name": "stdout",
     "output_type": "stream",
     "text": [
      "22\n",
      "False\n",
      "False\n",
      "True\n",
      "False\n",
      "True\n",
      "True\n",
      "False\n",
      "n\n",
      " \n",
      "J\n",
      "d\n",
      "3\n",
      "O\n",
      "<class 'list'>\n"
     ]
    }
   ],
   "source": [
    "myStr = 'Johan Sebastian Posada'\n",
    "\n",
    "print(len(myStr))#Este cuenta la longitud o cantidad de caracteres q hay incluyendo el espacio vacío. Este si empieza por 1 NO por 0\n",
    "print(myStr.isnumeric())#Para saber si mi variable cotiene numeros\n",
    "print(myStr.isalpha())#Para saber si mi variable es alfabética es decir solo el alfabeto\n",
    "\n",
    "x = '213'\n",
    "print(x.isnumeric())\n",
    "print(x.isalpha())\n",
    "\n",
    "y = 'JOHAN'\n",
    "print(y.isalpha())\n",
    "print(y.isupper())#Para saber en q formato este mi variable por ejemplo upper:mayus   lower:minus\n",
    "print(y.islower())\n",
    "\n",
    "print(myStr[4]) #Le puedo pedir que me diga q letra está en ese índice, en este caso es la letra \"n\"\n",
    "print(myStr[5]) #En este caso en le índice 5 se encuentra el espacio vacío\n",
    "print(myStr[0]) #Este también empieza a contar desde el número 0\n",
    "\n",
    "#Puedo utilizar numeros negativos para contar de atrás para adelante es decir, de la ultimo letra \"-1\" a la primera\n",
    "print(myStr[-2])\n",
    "print(x[-1])\n",
    "print(y[-4])\n",
    "\n",
    "print(type([-2]))"
   ]
  },
  {
   "cell_type": "code",
   "execution_count": 1,
   "metadata": {},
   "outputs": [
    {
     "name": "stdout",
     "output_type": "stream",
     "text": [
      "SEBAS\n"
     ]
    }
   ],
   "source": [
    "y = 'JOHAN'\n",
    "print(y.replace('JOHAN','SEBAS'))"
   ]
  },
  {
   "cell_type": "code",
   "execution_count": 7,
   "metadata": {},
   "outputs": [
    {
     "name": "stdout",
     "output_type": "stream",
     "text": [
      "My name is Johan Posada\n",
      "My name is Johan Posada\n",
      "My name is {myname}\n",
      "My name is Johan Posada\n"
     ]
    }
   ],
   "source": [
    "#Puedo concadenar un texto con una variable co el \"+\"\n",
    "\n",
    "myname = 'Johan Posada'\n",
    "\n",
    "print('My name is '+ myname)\n",
    "\n",
    "#Puedo utilizar la letra 'f' y las llaves para poner mi variable dentro y unir el texto que quiero con la variable\n",
    "\n",
    "print(f'My name is {myname}')\n",
    "print('My name is {myname}')  #si no pongo la f, no toma la variable (esta función está disponible desde python 3.6)\n",
    "#la funcion de la f es decirle que dentro del texto a imprimir hay una variable la cual es interpretada mediante {}\n",
    "\n",
    "print('My name is {0}'.format(myname))#asi le doy un valor a la variable {0} y ulilizando format ese valor se cambia a la variable, este metodo es mas tipico\n"
   ]
  },
  {
   "cell_type": "code",
   "execution_count": null,
   "metadata": {},
   "outputs": [],
   "source": []
  }
 ],
 "metadata": {
  "kernelspec": {
   "display_name": "Python 3",
   "language": "python",
   "name": "python3"
  },
  "language_info": {
   "codemirror_mode": {
    "name": "ipython",
    "version": 3
   },
   "file_extension": ".py",
   "mimetype": "text/x-python",
   "name": "python",
   "nbconvert_exporter": "python",
   "pygments_lexer": "ipython3",
   "version": "3.9.1"
  }
 },
 "nbformat": 4,
 "nbformat_minor": 2
}
