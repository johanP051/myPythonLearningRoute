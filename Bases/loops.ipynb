{
 "cells": [
  {
   "cell_type": "code",
   "execution_count": 2,
   "metadata": {},
   "outputs": [
    {
     "name": "stdout",
     "output_type": "stream",
     "text": [
      "tomatoes\n",
      "fish\n",
      "pasta\n",
      "bread\n",
      "eggs\n",
      "tomatoes\n"
     ]
    }
   ],
   "source": [
    "#Cuando queremos mostrar ciertos elementos de una lista podemos hacerlo con los índices \n",
    "#Pero para no tener que estar haciendo un print todo el tiempo, usamos los bucles (for  while)\n",
    "#En estos bucles se le da una acción que puede ser ejecutada ciertas veces hasta cierto momento\n",
    "foods = ['fish', 'pasta', 'bread', 'eggs', 'tomatoes']\n",
    "\n",
    "print(foods[-1])\n",
    "print(foods[-2])\n",
    "print(foods[-3])\n",
    "print(foods[-4])\n",
    "print(foods[-5])"
   ]
  },
  {
   "cell_type": "code",
   "execution_count": 4,
   "metadata": {},
   "outputs": [
    {
     "name": "stdout",
     "output_type": "stream",
     "text": [
      "fish\n",
      "pasta\n",
      "bread\n",
      "eggs\n",
      "tomatoes\n",
      "apples\n"
     ]
    }
   ],
   "source": [
    "foods = ['fish', 'pasta', 'bread', 'eggs', 'tomatoes', 'apples']\n",
    "\n",
    "#el bucle for está definiendo una variable(food) a partir de la lista (foods), \n",
    "#mientras food esté en foods, imprimir food, esta variable le puedo dar el nombre que quiera\n",
    "#En la lista foods quiero recorrer cada elemento por separado\n",
    "#AL yo agregar o cambiar la lista, sigue funcionando el bucle o iterador\n",
    "\n",
    "for food in foods:\n",
    "    print(food)"
   ]
  },
  {
   "cell_type": "code",
   "execution_count": 7,
   "metadata": {},
   "outputs": [
    {
     "name": "stdout",
     "output_type": "stream",
     "text": [
      "fish\n",
      "You have to buy it, you like it!!\n",
      "pasta\n",
      "bread\n",
      "eggs\n",
      "tomatoes\n",
      "apples\n"
     ]
    }
   ],
   "source": [
    "foods = ['fish', 'pasta', 'bread', 'eggs', 'tomatoes', 'apples']\n",
    "\n",
    "for food in foods:\n",
    "    if food == 'pasta':\n",
    "        print('You have to buy it, you like it!!')\n",
    "    print(food)"
   ]
  },
  {
   "cell_type": "code",
   "execution_count": 9,
   "metadata": {},
   "outputs": [
    {
     "name": "stdout",
     "output_type": "stream",
     "text": [
      "fish\n",
      "pasta\n",
      "bread\n"
     ]
    }
   ],
   "source": [
    "foods = ['fish', 'pasta', 'bread', 'eggs', 'tomatoes', 'apples']\n",
    "\n",
    "#break rompe el bucle, al validar el elemento eggs, el ciclo termina por la tanto el elemento eggs no es impreso o mostrado\n",
    "for food in foods:\n",
    "    if food == 'eggs':\n",
    "        break\n",
    "    print(food)"
   ]
  },
  {
   "cell_type": "code",
   "execution_count": 10,
   "metadata": {},
   "outputs": [
    {
     "name": "stdout",
     "output_type": "stream",
     "text": [
      "fish\n",
      "pasta\n",
      "bread\n",
      "tomatoes\n",
      "apples\n"
     ]
    }
   ],
   "source": [
    "foods = ['fish', 'pasta', 'bread', 'eggs', 'tomatoes', 'apples']\n",
    "\n",
    "#continue sigle el ciclo, lo contrario a break, al validar el elemnto eggs no lo ejecuta, lo ignora y sigue imprimiendo los demás elementos.\n",
    "for food in foods:\n",
    "    if food == 'eggs':\n",
    "        continue\n",
    "    print(food)"
   ]
  },
  {
   "cell_type": "code",
   "execution_count": 11,
   "metadata": {},
   "outputs": [
    {
     "name": "stdout",
     "output_type": "stream",
     "text": [
      "1\n",
      "2\n",
      "3\n",
      "4\n",
      "5\n",
      "6\n",
      "7\n",
      "8\n",
      "9\n",
      "10\n",
      "11\n",
      "12\n",
      "13\n",
      "14\n",
      "15\n",
      "16\n",
      "17\n",
      "18\n",
      "19\n",
      "20\n",
      "21\n"
     ]
    }
   ],
   "source": [
    "for number in range(1, 22):\n",
    "    print(number)"
   ]
  },
  {
   "cell_type": "code",
   "execution_count": 16,
   "metadata": {},
   "outputs": [
    {
     "name": "stdout",
     "output_type": "stream",
     "text": [
      "H\n",
      "i\n",
      " \n",
      "P\n",
      "y\n",
      "t\n",
      "h\n",
      "o\n",
      "n\n",
      "!\n",
      "!\n"
     ]
    }
   ],
   "source": [
    "for letter in 'Hi Python!!':\n",
    "    print(letter)"
   ]
  },
  {
   "cell_type": "code",
   "execution_count": 1,
   "metadata": {},
   "outputs": [
    {
     "name": "stdout",
     "output_type": "stream",
     "text": [
      "8\n",
      "9\n",
      "10\n",
      "11\n",
      "12\n",
      "13\n",
      "14\n",
      "15\n",
      "16\n",
      "17\n",
      "18\n",
      "19\n",
      "20\n",
      "21\n"
     ]
    }
   ],
   "source": [
    "count = 8\n",
    "\n",
    "while count <=21:\n",
    "    print(count)\n",
    "    count = count + 1\n",
    "    "
   ]
  },
  {
   "cell_type": "code",
   "execution_count": null,
   "metadata": {},
   "outputs": [],
   "source": []
  }
 ],
 "metadata": {
  "kernelspec": {
   "display_name": "Python 3",
   "language": "python",
   "name": "python3"
  },
  "language_info": {
   "codemirror_mode": {
    "name": "ipython",
    "version": 3
   },
   "file_extension": ".py",
   "mimetype": "text/x-python",
   "name": "python",
   "nbconvert_exporter": "python",
   "pygments_lexer": "ipython3",
   "version": "3.9.1"
  }
 },
 "nbformat": 4,
 "nbformat_minor": 2
}
