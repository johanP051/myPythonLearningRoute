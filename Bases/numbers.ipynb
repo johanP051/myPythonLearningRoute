{
 "cells": [
  {
   "cell_type": "code",
   "execution_count": 6,
   "metadata": {},
   "outputs": [
    {
     "name": "stdout",
     "output_type": "stream",
     "text": [
      "<class 'int'>\n",
      "<class 'float'>\n",
      "60\n",
      "<class 'float'>\n",
      "2.5\n"
     ]
    }
   ],
   "source": [
    "print(type(10)) #Integer: entero\n",
    "\n",
    "print(type(10.5)) #Float: decimal\n",
    "\n",
    "print(14 + 46)\n",
    "\n",
    "print(type(3/2))\n",
    "\n",
    "x = 1 + 1.5\n",
    "print(x)"
   ]
  },
  {
   "cell_type": "code",
   "execution_count": 11,
   "metadata": {},
   "outputs": [
    {
     "name": "stdout",
     "output_type": "stream",
     "text": [
      "4\n",
      "81\n"
     ]
    }
   ],
   "source": [
    "#Cuando quiero elevar a una potencia coloco dos signos de multiplicación  **\n",
    "print(2**2)\n",
    "print(3**4)\n",
    "#"
   ]
  },
  {
   "cell_type": "code",
   "execution_count": 20,
   "metadata": {},
   "outputs": [
    {
     "name": "stdout",
     "output_type": "stream",
     "text": [
      "1\n",
      "1\n",
      "15.5\n",
      "15\n",
      "1\n"
     ]
    }
   ],
   "source": [
    "#Si quiero solo obtener la parte entera de la division de un numero lo puedo hacer, esto sería ignorar los decimales\n",
    "print(3//2)\n",
    "#Al hacer esto debo tener un residio, este se puede conocer con el operador: módulo que es el %\n",
    "print(3 % 2)\n",
    "\n",
    "cociente = 31/2\n",
    "print(number)\n",
    "\n",
    "parteEntera = 31//2\n",
    "print(parteEntera)\n",
    "\n",
    "residuo = 31 % 2\n",
    "print(residuo)\n"
   ]
  },
  {
   "cell_type": "code",
   "execution_count": 24,
   "metadata": {},
   "outputs": [
    {
     "name": "stdout",
     "output_type": "stream",
     "text": [
      "12.0\n",
      "47\n",
      "107\n",
      "<class 'int'>\n"
     ]
    }
   ],
   "source": [
    "# Puedo realizar operaciones combinadas y python sigue la regla: PEMDSR = Paréntesis, Exponenciaciones, Multiplicación y División, Sumas y Restas\n",
    "print(20-10+1*2/1)\n",
    "\n",
    "print(20+3**3)\n",
    "\n",
    "print((20 - 10) + (10**2 - 3))#Donde los paréntesis indican que quiero que se realice primero\n",
    "\n",
    "print(type((20 - 10) + (10**2 - 3)))"
   ]
  },
  {
   "cell_type": "code",
   "execution_count": 31,
   "metadata": {},
   "outputs": [
    {
     "name": "stdout",
     "output_type": "stream",
     "text": [
      "Inserta tu edad: 14\n",
      "14\n"
     ]
    }
   ],
   "source": [
    "#Input espera a que digite algo, frecuentemente del teclado, como un usuario al q le estoy preguntando su edad \n",
    "edad = input('Inserta tu edad: ')#Aquí almaceno lo que quiero preguntar en una variable pq si quiero verlo en la pantalla debo pintar lo que se digite \n",
    "print(edad)"
   ]
  },
  {
   "cell_type": "code",
   "execution_count": 36,
   "metadata": {},
   "outputs": [
    {
     "name": "stdout",
     "output_type": "stream",
     "text": [
      "Inserta tu edad: 14\n",
      "16\n",
      "<class 'int'>\n",
      "<class 'float'>\n"
     ]
    }
   ],
   "source": [
    "edad = input('Inserta tu edad: ')\n",
    "nuevaEdad = int(edad) + 2 #lo q hace Int es convertir mi edad a un entero porque si no lo pusiera así lo tomaría como un Str lo cual me arrojaría un error porque no puedo opera texto con numeros\n",
    "print(nuevaEdad)\n",
    "\n",
    "print(type(int(16)))\n",
    "print(type(float(16))) 3 #También el Str podría convertirlo a float"
   ]
  },
  {
   "cell_type": "code",
   "execution_count": 39,
   "metadata": {},
   "outputs": [
    {
     "name": "stdout",
     "output_type": "stream",
     "text": [
      "También el Str podría convertirlo a float\n"
     ]
    }
   ],
   "source": [
    "x = 'tAMBIÉN EL sTR PODRÍA CONVERTIRLO A FLOAT'\n",
    "#print(dir(x))\n",
    "print(x.swapcase())"
   ]
  },
  {
   "cell_type": "code",
   "execution_count": null,
   "metadata": {},
   "outputs": [],
   "source": []
  }
 ],
 "metadata": {
  "kernelspec": {
   "display_name": "Python 3",
   "language": "python",
   "name": "python3"
  },
  "language_info": {
   "codemirror_mode": {
    "name": "ipython",
    "version": 3
   },
   "file_extension": ".py",
   "mimetype": "text/x-python",
   "name": "python",
   "nbconvert_exporter": "python",
   "pygments_lexer": "ipython3",
   "version": "3.7.3"
  }
 },
 "nbformat": 4,
 "nbformat_minor": 2
}
