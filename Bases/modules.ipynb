{
 "cells": [
  {
   "cell_type": "code",
   "execution_count": 5,
   "metadata": {},
   "outputs": [
    {
     "name": "stdout",
     "output_type": "stream",
     "text": [
      "2020-09-10\n",
      "1:20:00\n",
      "5:00:00\n",
      "2020-09-10\n"
     ]
    }
   ],
   "source": [
    "#Propios modulos los cuales nostros podemos crear\n",
    "#Thirdy party modules, son los modulos que nosotros creamos\n",
    "#Python modules, los modulos que ya vienen con Python\n",
    "\n",
    "#Si queremos crear una aplicacion en la cual se muestre la hora o la fecha, podemos usar un modulo de python con 'import'\n",
    "import datetime\n",
    "print(datetime.date.today()) #este parametro y su metodo me muestra la fecha de hoy, esto lo puedo saber en la pagina del modulo 'Python Modules'\n",
    "print(datetime.timedelta(minutes=80))#este me permite convertir minutos a horas\n",
    "\n",
    "from datetime import timedelta, date\n",
    "\n",
    "#Desde la bibliotema de Python llamada date time importar su propiedad timedelta \n",
    "#AL hacer esto puedo ejecutar directamente timedelta\n",
    "print(timedelta(minutes=300))\n",
    "print(date.today())"
   ]
  },
  {
   "cell_type": "code",
   "execution_count": 17,
   "metadata": {},
   "outputs": [
    {
     "name": "stdout",
     "output_type": "stream",
     "text": [
      "29\n",
      "13\n"
     ]
    }
   ],
   "source": [
    "#Aqui he creado una funcion add y substract en las cualles se encuentran en el modulo maths\n",
    "from maths import add, substract\n",
    "\n",
    "add(21, 8)\n",
    "substract(21,8)"
   ]
  },
  {
   "cell_type": "code",
   "execution_count": null,
   "metadata": {},
   "outputs": [],
   "source": []
  },
  {
   "cell_type": "code",
   "execution_count": null,
   "metadata": {},
   "outputs": [],
   "source": []
  }
 ],
 "metadata": {
  "kernelspec": {
   "display_name": "Python 3",
   "language": "python",
   "name": "python3"
  },
  "language_info": {
   "codemirror_mode": {
    "name": "ipython",
    "version": 3
   },
   "file_extension": ".py",
   "mimetype": "text/x-python",
   "name": "python",
   "nbconvert_exporter": "python",
   "pygments_lexer": "ipython3",
   "version": "3.7.3"
  }
 },
 "nbformat": 4,
 "nbformat_minor": 2
}
