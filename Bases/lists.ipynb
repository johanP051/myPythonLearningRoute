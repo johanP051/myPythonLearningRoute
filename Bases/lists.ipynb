{
 "cells": [
  {
   "cell_type": "code",
   "execution_count": 6,
   "metadata": {},
   "outputs": [
    {
     "name": "stdout",
     "output_type": "stream",
     "text": [
      "[1.2, 1, 'Johan', True, False, [1, 2, 3, 4, 5]]\n",
      "[1, 2, 3, 4, 5]\n",
      "<class 'list'>\n"
     ]
    }
   ],
   "source": [
    "_1list = [1.2, 1, 'Johan', True, False, [1, 2, 3, 4, 5]]\n",
    "print(_1list)\n",
    "\n",
    "colores = ['azul', 'rojo', 'verde']\n",
    "\n",
    "#numbersList = list(1, 2, 3, 4, 5)#El list, es un constructor, y me crea una lista con los ítems q yo le diga\n",
    "#Pero ese list solo puede tener un argumento, entonces lo q hago es agrupar los ítems en una tupla () paréntesis para que agrupe los ítems en uno sólo\n",
    "\n",
    "numbersList = list((1, 2, 3, 4, 5))\n",
    "print(numbersList)\n",
    "\n",
    "print(type(numbersList))"
   ]
  },
  {
   "cell_type": "code",
   "execution_count": 8,
   "metadata": {},
   "outputs": [
    {
     "name": "stdout",
     "output_type": "stream",
     "text": [
      "[1, 2, 3, 4, 5, 6, 7, 8, 9, 10]\n"
     ]
    }
   ],
   "source": [
    "l = list(range(1, 11))#para no poner todos los números, puedo hacer un rango (range) y utilizo list para crear una lista con el rango de 1 a 11\n",
    "#Eso lo almaceno en una variable, pero a la hora de pintarlo en rango es de 1 a 10, NO de 1 a 11(para esto debería usar un rando de 1 a 12), es decir ese ultm número no lo cuenta\n",
    "print(l)"
   ]
  },
  {
   "cell_type": "code",
   "execution_count": 19,
   "metadata": {},
   "outputs": [
    {
     "name": "stdout",
     "output_type": "stream",
     "text": [
      "[1.2, 1, 'Johan', True, False, [1, 2, 3, 4, 5]]\n",
      "6\n",
      "3\n",
      "rojo\n",
      "verde\n",
      "azul\n",
      "True\n",
      "False\n"
     ]
    }
   ],
   "source": [
    "_1list = [1.2, 1, 'Johan', True, False, [1, 2, 3, 4, 5]]#esta lista tiene 6 elementos pq la ultima sublista la cuenta como un elemento pq es una lista dentro de otra\n",
    "print(_1list)\n",
    "\n",
    "colores = ['azul', 'rojo', 'verde']\n",
    "\n",
    "#print(dir(colores))#Para obtener info sobre lo q puedo hacer con la lista\n",
    "print(len(_1list))\n",
    "print(len(colores))\n",
    "\n",
    "#También puedo saber q elemento se encuentra en tal indice de la lista, como con laos strings\n",
    "\n",
    "print(colores[1]) #la cuenta va de 0 en adelante\n",
    "print(colores[2])\n",
    "print(colores[-3]) #puedo tambier aplicar el indice inverso, atrás hacia adelante\n",
    "\n",
    "\n",
    "#Puedo saber si el elemento q le indico está en la lista con 'in', esto me arroja un Boolean = True or False\n",
    "print('verde' in colores)\n",
    "print('amarillo' in colores)"
   ]
  },
  {
   "cell_type": "code",
   "execution_count": 20,
   "metadata": {},
   "outputs": [
    {
     "name": "stdout",
     "output_type": "stream",
     "text": [
      "[1.2, 1, 'Johan', True, False, [1, 2, 3, 4, 5]]\n",
      "['azul', 'rojo', 'verde']\n",
      "['azul', 'rojo', 'amarillo']\n",
      "['azul', 'rojo', 'amarillo', 'violeta']\n",
      "['azul', 'rojo', 'amarillo', 'violeta', ('negro', 'amarillo')]\n"
     ]
    }
   ],
   "source": [
    "_1list = [1.2, 1, 'Johan', True, False, [1, 2, 3, 4, 5]]#esta lista tiene 6 elementos pq la ultima sublista la cuenta como un elemento pq es una lista dentro de otra\n",
    "print(_1list)\n",
    "\n",
    "colores = ['azul', 'rojo', 'verde']\n",
    "\n",
    "print(colores)\n",
    "colores[2] = 'amarillo'#Indicandole la posición del elemento en la lista, puedo cambiarlo por otro y al imprimirlo va a cambiar el elemento de esa posición por el que le indique\n",
    "print(colores)\n",
    "\n",
    "colores.append('violeta')#Con append puedo indicarle que me añada solo un elemento\n",
    "print(colores)\n",
    "\n",
    "\n",
    "colores.append(('negro', 'amarillo'))#Como solo puedo añadirle un elemento, paso eso por una tupla o lista\n",
    "# Pero al imprimirlo no se ve bien, para eso uso extend\n",
    "print(colores)"
   ]
  },
  {
   "cell_type": "code",
   "execution_count": 9,
   "metadata": {},
   "outputs": [
    {
     "name": "stdout",
     "output_type": "stream",
     "text": [
      "['azul', 'rojo', 'verde', 'amarillo', 'violeta', 'negro']\n",
      "['azul', 'rojo', 'verde', 'amarillo', 'violeta', 'negro', 'rosado', 'naranja']\n",
      "['azul', 'rojo', 'gris', 'verde', 'amarillo', 'violeta', 'negro', 'rosado', 'naranja']\n",
      "['blanco', 'azul', 'rojo', 'gris', 'verde', 'amarillo', 'violeta', 'negro', 'rosado', 'naranja']\n",
      "['blanco', 'azul', 'rojo', 'gris', 'verde', 'amarillo', 'violeta', 'negro', 'rosado', 'cafe', 'naranja']\n",
      "['blanco', 'azul', 'rojo', 'gris', 'verde', 'amarillo', 'violeta', 'negro', 'rosado', 'cafe', 'naranja', 'fucsia']\n",
      "['blanco', 'azul', 'rojo', 'gris', 'verde', 'amarillo', 'violeta', 'negro', 'rosado', 'cafe', 'naranja']\n",
      "['blanco', 'azul', 'rojo', 'gris', 'verde', 'amarillo', 'violeta', 'negro', 'rosado', 'cafe']\n",
      "['blanco', 'azul', 'rojo', 'verde', 'amarillo', 'violeta', 'negro', 'rosado', 'cafe']\n",
      "['azul', 'rojo', 'verde', 'amarillo', 'violeta', 'negro', 'rosado', 'cafe']\n",
      "['rojo', 'verde', 'amarillo', 'violeta', 'negro', 'rosado', 'cafe']\n",
      "['amarillo', 'cafe', 'negro', 'rojo', 'rosado', 'verde', 'violeta']\n",
      "['violeta', 'verde', 'rosado', 'rojo', 'negro', 'cafe', 'amarillo']\n"
     ]
    }
   ],
   "source": [
    "colores = ['azul', 'rojo', 'verde']\n",
    "\n",
    "#Extend también permite 1 solo argumento, para eso lo paso por una tupla o lista y los agrega\n",
    "colores.extend(('amarillo', 'violeta', 'negro'))\n",
    "print(colores)\n",
    "\n",
    "colores.extend(('rosado', 'naranja'))\n",
    "print(colores)\n",
    "\n",
    "\n",
    "#Con insert puedo indicarle en que posición inserte un elemento, si no quiero añadirlo al final\n",
    "colores.insert(2, 'gris')\n",
    "print(colores)\n",
    "\n",
    "colores.insert(0, 'blanco')\n",
    "print(colores)\n",
    "\n",
    "colores.insert(-1, 'cafe')#al darle el orden inverso no lo agrega al final sino antes del final para hacer esto utilizo \"len\" para que inserte la palabra en la longitud de la lista\n",
    "print(colores)\n",
    "\n",
    "colores.insert(len(colores), 'fucsia')\n",
    "print(colores)\n",
    "\n",
    "#Con pop puedo quitar el ultimo elemento de la lista, si quiero eliminar los 2 ultimos, lo ejecuto 2 veces\n",
    "colores.pop()\n",
    "print(colores)\n",
    "\n",
    "colores.pop()\n",
    "print(colores)\n",
    "\n",
    "colores.pop(3)#También le puedo dar el índice de la palabra que quiero borrar con pop, si no hago esto, elimina la última\n",
    "print(colores)\n",
    "\n",
    "colores.remove('blanco')\n",
    "print(colores)\n",
    "\n",
    "colores.remove('azul')\n",
    "print(colores)\n",
    "\n",
    "#si yo quiero limpiar toda la lista, todo, ulilizo clear\n",
    "#colores.clear()\n",
    "\n",
    "\n",
    "\n",
    "colores.sort()#sort es para ordenar los elementos, en este cso, alfabéticamente\n",
    "print(colores)\n",
    "\n",
    "colores.sort(reverse=True)#Si quiero ordenarlos a la inversa o al revés, utilizo sort(reverse=True), en este caso sería z-a   NO a-z\n",
    "print(colores)\n",
    "\n"
   ]
  },
  {
   "cell_type": "code",
   "execution_count": 19,
   "metadata": {},
   "outputs": [
    {
     "name": "stdout",
     "output_type": "stream",
     "text": [
      "['azul', 'rojo', 'verde']\n",
      "['verde', 'rojo', 'azul']\n",
      "0\n",
      "1\n",
      "None\n",
      "[]\n"
     ]
    }
   ],
   "source": [
    "colores = ['azul', 'rojo', 'verde']\n",
    "\n",
    "\n",
    "colores.sort()#sort es para ordenar los elementos, en este cso, alfabéticamente\n",
    "print(colores)\n",
    "\n",
    "colores.sort(reverse=True)#Si quiero ordenarlos a la inversa o al revés, utilizo sort(reverse=True), en este caso sería z-a   NO a-z\n",
    "print(colores)\n",
    "\n",
    "#Si yo quiero obtener el índice de un elemento en una lista, utilizo index\n",
    "print(colores.index('verde'))\n",
    "\n",
    "\n",
    "#Con count puedo contoar cuantas veces está un elemento\n",
    "print(colores.count('rojo'))\n",
    "\n",
    "\n",
    "#Si yo quiero limpiar toda la lista, todo, ulilizo clear\n",
    "colores.clear()\n",
    "print(colores)\n"
   ]
  },
  {
   "cell_type": "code",
   "execution_count": null,
   "metadata": {},
   "outputs": [],
   "source": []
  }
 ],
 "metadata": {
  "kernelspec": {
   "display_name": "Python 3",
   "language": "python",
   "name": "python3"
  },
  "language_info": {
   "codemirror_mode": {
    "name": "ipython",
    "version": 3
   },
   "file_extension": ".py",
   "mimetype": "text/x-python",
   "name": "python",
   "nbconvert_exporter": "python",
   "pygments_lexer": "ipython3",
   "version": "3.7.3"
  }
 },
 "nbformat": 4,
 "nbformat_minor": 2
}
