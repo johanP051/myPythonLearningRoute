{
 "cells": [
  {
   "cell_type": "code",
   "execution_count": 16,
   "metadata": {},
   "outputs": [
    {
     "name": "stdout",
     "output_type": "stream",
     "text": [
      "HELLO WORLD\n",
      "Hello World\n",
      "Aprendiendo A Programar Con Python\n",
      "APRENDIENDO A PROGRAMAR CON PYTHON\n"
     ]
    }
   ],
   "source": [
    "x = \"Hello World\"\n",
    "#print (dir(x))\n",
    "print(x.upper())\n",
    "print(x.title())\n",
    "y = \"aprendiendo a programar con python\"\n",
    "print(y.title())\n",
    "print(y.upper())"
   ]
  },
  {
   "cell_type": "code",
   "execution_count": 10,
   "metadata": {},
   "outputs": [
    {
     "name": "stdout",
     "output_type": "stream",
     "text": [
      "Johan Posada\n",
      "None\n",
      "My name is Johan Posada\n",
      "My name is Johan Posada\n",
      "My name is Johan Posada\n",
      "Sebastian Posada\n",
      "Johan Sebastian Posada Beltrán\n",
      "Sebas Posada\n",
      "<class 'tuple'>\n"
     ]
    }
   ],
   "source": [
    "#Variables, el nombre simbolico que le estoy dando a algo, es como guardar un dato en una variable la cual lo identifica\n",
    "#en este puedo guardar cualquier cosa como una tuple o Int, hasta un None\n",
    "\n",
    "#Case sensitive, aunque una variable tenga minuscula y otra mayuscula, serán diferentes\n",
    "#No es valido empezar con un número y una letra despues pero si por ejemplo _2name   donde empieza con subguión\n",
    "\n",
    "name = ('Johan '+'Posada')\n",
    "print(name)\n",
    "Name = None\n",
    "print(Name)\n",
    "\n",
    "#Puedo concadenar un texto con una variable co el \"+\"\n",
    "\n",
    "print('My name is '+ name)\n",
    "\n",
    "#Puedo utilizar la letra 'f' y las llaves para poner mi variable dentro y unir el texto que quiero con la variable\n",
    "\n",
    "print(f'My name is {name}')\n",
    "print('My name is {0}'.format(name))#asi le doy un valor a la variable {0} y ulilizando format ese valor se cambia a la variable, este metodo es mas tipico\n",
    "\n",
    "#También puedo hacerlo en 1 sola línea\n",
    "_1Name, _2Name, Lastname, LastName = 'Johan', 'Sebastian', 'Posada', 'Beltrán'\n",
    "\n",
    "print(_2Name, Lastname)\n",
    "\n",
    "print(_1Name, _2Name, Lastname, LastName)\n",
    "print(_2Name.replace('Sebastian','Sebas ')+ Lastname)\n",
    "\n",
    "print(type((_1Name, _2Name, Lastname, LastName)))"
   ]
  },
  {
   "cell_type": "code",
   "execution_count": 15,
   "metadata": {},
   "outputs": [
    {
     "name": "stdout",
     "output_type": "stream",
     "text": [
      "python para todos\n",
      "learn python\n",
      "Learn Python\n"
     ]
    }
   ],
   "source": [
    "#Conventions  lo que hacen es que esl codigo se más legible\n",
    "\n",
    "book_name = 'I Robot' #Snake Case\n",
    "bookName = 'Digital fortress' #Camel Case\n",
    "BookName = 'Python Crash Course' #Pascal Case\n",
    "\n",
    "# Si la variable está en mayusculas significa q es constante: no cambia\n",
    "\n",
    "PI = 3,1416\n",
    "\n",
    "#También es válido cambiar después el valor de la variable y lo interpreta de la otra forma \n",
    "\n",
    "NameBook = 'python para todos'\n",
    "print(NameBook)\n",
    "\n",
    "NameBook = 'learn python'\n",
    "print(NameBook)\n",
    "\n",
    "print(NameBook.title())"
   ]
  },
  {
   "cell_type": "code",
   "execution_count": null,
   "metadata": {},
   "outputs": [],
   "source": []
  }
 ],
 "metadata": {
  "kernelspec": {
   "display_name": "Python 3",
   "language": "python",
   "name": "python3"
  },
  "language_info": {
   "codemirror_mode": {
    "name": "ipython",
    "version": 3
   },
   "file_extension": ".py",
   "mimetype": "text/x-python",
   "name": "python",
   "nbconvert_exporter": "python",
   "pygments_lexer": "ipython3",
   "version": "3.7.3"
  }
 },
 "nbformat": 4,
 "nbformat_minor": 2
}
