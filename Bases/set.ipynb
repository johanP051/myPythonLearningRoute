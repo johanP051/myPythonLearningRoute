{
 "cells": [
  {
   "cell_type": "code",
   "execution_count": 2,
   "metadata": {},
   "outputs": [
    {
     "name": "stdout",
     "output_type": "stream",
     "text": [
      "{'Blue', 'Green', 'Red'}\n",
      "<class 'set'>\n",
      "True\n",
      "{'Blue', 'Green', 'Orange', 'Red'}\n",
      "{'Blue', 'Green', 'Orange'}\n",
      "set()\n"
     ]
    }
   ],
   "source": [
    "'''\n",
    "Los sets son una colección de datos desordenados que no tiene un índice\n",
    "'''\n",
    "colors = {'Red', 'Green', 'Blue'}\n",
    "print(colors)\n",
    "print(type(colors))\n",
    "\n",
    "#Para saber si ese valor está en el set, utilizamos 'in'\n",
    "print('Red' in colors)\n",
    "\n",
    "#Para añadir un elemento al set usamos add, y este lo añade en cualquier índice\n",
    "colors.add('Orange')\n",
    "print(colors)\n",
    "\n",
    "#Para eliminar un elemento del set, usamos remove, y lo elimina\n",
    "colors.remove('Red')\n",
    "print(colors)\n",
    "\n",
    "#Para limpiar a remover todos los elementos del set, \n",
    "colors.clear()\n",
    "print(colors)"
   ]
  },
  {
   "cell_type": "code",
   "execution_count": 10,
   "metadata": {},
   "outputs": [
    {
     "ename": "NameError",
     "evalue": "name 'colors' is not defined",
     "output_type": "error",
     "traceback": [
      "\u001b[0;31m---------------------------------------------------------------------------\u001b[0m",
      "\u001b[0;31mNameError\u001b[0m                                 Traceback (most recent call last)",
      "\u001b[0;32m<ipython-input-10-566879e3eb11>\u001b[0m in \u001b[0;36m<module>\u001b[0;34m()\u001b[0m\n\u001b[1;32m      2\u001b[0m \u001b[0;34m\u001b[0m\u001b[0m\n\u001b[1;32m      3\u001b[0m \u001b[0;32mdel\u001b[0m \u001b[0mcolors\u001b[0m\u001b[0;34m\u001b[0m\u001b[0;34m\u001b[0m\u001b[0m\n\u001b[0;32m----> 4\u001b[0;31m \u001b[0mprint\u001b[0m\u001b[0;34m(\u001b[0m\u001b[0mcolors\u001b[0m\u001b[0;34m)\u001b[0m\u001b[0;34m\u001b[0m\u001b[0;34m\u001b[0m\u001b[0m\n\u001b[0m",
      "\u001b[0;31mNameError\u001b[0m: name 'colors' is not defined"
     ]
    }
   ],
   "source": [
    "colors = {'Red', 'Green', 'Blue'}\n",
    "\n",
    "#Para eliminar la variable usamos del \n",
    "\n",
    "del colors\n",
    "print(colors)"
   ]
  },
  {
   "cell_type": "code",
   "execution_count": null,
   "metadata": {},
   "outputs": [],
   "source": []
  }
 ],
 "metadata": {
  "kernelspec": {
   "display_name": "Python 3",
   "language": "python",
   "name": "python3"
  },
  "language_info": {
   "codemirror_mode": {
    "name": "ipython",
    "version": 3
   },
   "file_extension": ".py",
   "mimetype": "text/x-python",
   "name": "python",
   "nbconvert_exporter": "python",
   "pygments_lexer": "ipython3",
   "version": "3.9.1"
  }
 },
 "nbformat": 4,
 "nbformat_minor": 2
}
