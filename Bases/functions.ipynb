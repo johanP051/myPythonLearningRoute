{
 "cells": [
  {
   "cell_type": "code",
   "execution_count": 4,
   "metadata": {},
   "outputs": [
    {
     "name": "stdout",
     "output_type": "stream",
     "text": [
      "Hello World\n"
     ]
    },
    {
     "data": {
      "text/plain": [
       "int"
      ]
     },
     "execution_count": 4,
     "metadata": {},
     "output_type": "execute_result"
    }
   ],
   "source": [
    "#Una funcion es una parte del codigo y que en Python ya está creado para devoler una acción\n",
    "#Nosotros podemos crear nuestra propia funcion y darle los parametros para que ejecute una accion (def)\n",
    "x = 'Hola'\n",
    "print('Hello World')\n",
    "dir(x)\n",
    "type(12)\n",
    "\n"
   ]
  },
  {
   "cell_type": "code",
   "execution_count": 6,
   "metadata": {},
   "outputs": [
    {
     "name": "stdout",
     "output_type": "stream",
     "text": [
      "Hello World\n"
     ]
    }
   ],
   "source": [
    "#Para que hello sea considerado como una función,colocamos una par de parentesis, y agregamos la palabra def, hace referencia a que es una definición de función\n",
    "def hello():\n",
    "    print('Hello World')\n",
    "#Al crear la funcion hello, abajo ponemos lo que queremos que haga, esta funcion solo se ejecutará cuando la llamemos\n",
    "hello() #Acá llamé la funcion hello para que se ejecutara la acción"
   ]
  },
  {
   "cell_type": "code",
   "execution_count": 26,
   "metadata": {},
   "outputs": [
    {
     "name": "stdout",
     "output_type": "stream",
     "text": [
      "Hello Johan\n",
      "Hello Sebastián\n",
      "Hello Guido Van Rossum\n",
      "Hello Human\n"
     ]
    }
   ],
   "source": [
    "#EN la función hello estoy dandole un parametro en el cual si no tiene un agumento o esta en blanco, el valor por defecto de name sea Human\n",
    "def hello(name='Human'):\n",
    "    print('Hello ' + name)#Acá le indico que imprima Hello y la variable name la cual se la damos nosotros, y tiene valor por defecto Human\n",
    "\n",
    "hello('Johan')\n",
    "hello('Sebastián')\n",
    "hello('Guido Van Rossum')\n",
    "hello()\n",
    "    "
   ]
  },
  {
   "cell_type": "code",
   "execution_count": 28,
   "metadata": {},
   "outputs": [
    {
     "name": "stdout",
     "output_type": "stream",
     "text": [
      "Insert your name here: Johan\n",
      "Hello Johan!!\n"
     ]
    }
   ],
   "source": [
    "#Yo puedo concadenar strings (con un +) en la funcion y hacer cosas mas complejas\n",
    "def greats(name):\n",
    "    print('Hello ' + name + '!!')\n",
    "\n",
    "name = input('Insert your name here: ')\n",
    "\n",
    "greats(name)"
   ]
  },
  {
   "cell_type": "code",
   "execution_count": 31,
   "metadata": {},
   "outputs": [
    {
     "name": "stdout",
     "output_type": "stream",
     "text": [
      "122\n",
      "29\n"
     ]
    }
   ],
   "source": [
    "def add(n1, n2):\n",
    "    return n1 + n2\n",
    "#Definimos la funcion add a la cual le podemos dar diferentes variables o valores (n1, n2) para que nos devuelva la suma de estos dos numeros\n",
    "print(add(21, 101))\n",
    "print(add(8, 21))"
   ]
  },
  {
   "cell_type": "code",
   "execution_count": 34,
   "metadata": {},
   "outputs": [
    {
     "name": "stdout",
     "output_type": "stream",
     "text": [
      "122\n",
      "15\n"
     ]
    }
   ],
   "source": [
    "'''\n",
    "Existen varias funciones preconstruidas en Python como print, dir, len entre otras\n",
    "\n",
    "Tambien hay otro tipo de funciones llamadas lambda las cuales toman argumentos pero son escritas en una línea del código\n",
    "\n",
    "Este nos devuelve lo mismo que con def pero no recibe un nombre, a veces necesitamos declarar las funciones con def, otras con lambda, dependiendo el programa.\n",
    "'''\n",
    "\n",
    "add = lambda n1, n2: n1 + n2\n",
    "print(add(21, 101))\n",
    "print(add(7, 8))"
   ]
  },
  {
   "cell_type": "code",
   "execution_count": 35,
   "metadata": {},
   "outputs": [
    {
     "name": "stdout",
     "output_type": "stream",
     "text": [
      "Python\n",
      "Python\n",
      "Python\n",
      "Python\n",
      "Python\n"
     ]
    }
   ],
   "source": [
    "#En este codigo se puede mostrar un mensaje dandole los parámetros \n",
    "def imprimir_mensaje(mensaje, n):\n",
    "    for _ in range(n):\n",
    "        print(mensaje)\n",
    "\n",
    "imprimir_mensaje('Python', 5)\n",
    "    "
   ]
  },
  {
   "cell_type": "code",
   "execution_count": null,
   "metadata": {},
   "outputs": [],
   "source": []
  },
  {
   "cell_type": "code",
   "execution_count": null,
   "metadata": {},
   "outputs": [],
   "source": []
  }
 ],
 "metadata": {
  "kernelspec": {
   "display_name": "Python 3",
   "language": "python",
   "name": "python3"
  },
  "language_info": {
   "codemirror_mode": {
    "name": "ipython",
    "version": 3
   },
   "file_extension": ".py",
   "mimetype": "text/x-python",
   "name": "python",
   "nbconvert_exporter": "python",
   "pygments_lexer": "ipython3",
   "version": "3.7.3"
  }
 },
 "nbformat": 4,
 "nbformat_minor": 2
}
