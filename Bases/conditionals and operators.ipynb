{
 "cells": [
  {
   "cell_type": "code",
   "execution_count": 1,
   "metadata": {},
   "outputs": [
    {
     "name": "stdout",
     "output_type": "stream",
     "text": [
      "x is 40\n"
     ]
    }
   ],
   "source": [
    "x = 40\n",
    "\n",
    "if x == 40:\n",
    "    print(\"x is 40\")\n",
    "elif x > 40:\n",
    "    print(\"x is greater than 40\")\n",
    "else: \n",
    "    print(\"x is lower than 40\")"
   ]
  },
  {
   "cell_type": "code",
   "execution_count": 9,
   "metadata": {},
   "outputs": [
    {
     "name": "stdout",
     "output_type": "stream",
     "text": [
      "Insert your name here: juan\n",
      "Insert your lastname here: posada\n",
      "You are not Johan Posada\n"
     ]
    }
   ],
   "source": [
    "name = input(\"Insert your name here: \")\n",
    "lastname = input(\"Insert your lastname here: \")\n",
    "\n",
    "if name == \"Johan\" and lastname == \"Posada\":   #and es usado para representar un doble if\n",
    "    print('You are Johan Posada')\n",
    "else:\n",
    "    print('You are not Johan Posada') "
   ]
  },
  {
   "cell_type": "code",
   "execution_count": 37,
   "metadata": {},
   "outputs": [
    {
     "name": "stdout",
     "output_type": "stream",
     "text": [
      "Insert a number here: 3\n",
      "x is greater than 4 or lower or equal to 15\n",
      "x is not equal to 4\n"
     ]
    }
   ],
   "source": [
    "'''\n",
    "* and, or y not son operadores lógicos, \n",
    "* and se cumplen las dos condiciones, \n",
    "* or se cumple una de ellas, \n",
    "\n",
    "* not para cuando no se cumple esa condición.\n",
    "'''\n",
    "x = int(input(\"Insert a number here: \"))\n",
    "\n",
    "if x > 4 and x < 15:\n",
    "    print('X is greater than 4 and lower than 15')\n",
    "elif x > 4 or x <= 15:\n",
    "    print('x is greater than 4 or lower or equal to 15')\n",
    "    if (not(x == 4)):\n",
    "        print('x is not equal to 4')"
   ]
  },
  {
   "cell_type": "code",
   "execution_count": 31,
   "metadata": {},
   "outputs": [
    {
     "name": "stdout",
     "output_type": "stream",
     "text": [
      "Insert a number here: 5\n",
      "x is in range 4 to 15\n"
     ]
    }
   ],
   "source": [
    "x = int(input(\"Insert a number here: \"))\n",
    "\n",
    "for x in range (4, 15):\n",
    "    print('x is in range 4 to 15')\n",
    "    break"
   ]
  },
  {
   "cell_type": "code",
   "execution_count": 5,
   "metadata": {},
   "outputs": [
    {
     "name": "stdout",
     "output_type": "stream",
     "text": [
      "You are not Juan\n"
     ]
    }
   ],
   "source": [
    "'''\n",
    "Estos son condicionales anidadas las cuales tienen una condicional dentro de una condicional, \n",
    "una forma de resumir este codigo puede ser con los operadores lógicos como \"and, or, not\"\n",
    "'''\n",
    "name = 'Joe'\n",
    "lastname = 'Carter'\n",
    "\n",
    "if name == 'Juan':\n",
    "    if lastname == 'Carter':\n",
    "        print('You are Juan Carter')\n",
    "    else:\n",
    "        print('You are not Juan Carter')\n",
    "else:\n",
    "    print('You are not Juan') #Este else es para el primer if y si no se cumple no continua con el resto del código\n",
    "        "
   ]
  },
  {
   "cell_type": "code",
   "execution_count": 9,
   "metadata": {},
   "outputs": [
    {
     "name": "stdout",
     "output_type": "stream",
     "text": [
      "Insertar el nombre aquí: Johan\n",
      "Insertar el apellido aquí: Posada\n",
      "Insertar la profesión aquí: Programador\n",
      "Eres Johan Posada y un programador!!!\n"
     ]
    }
   ],
   "source": [
    "nombre = input('Insertar el nombre aquí: ')\n",
    "apellido = input('Insertar el apellido aquí: ')\n",
    "profesión = input('Insertar la profesión aquí: ')\n",
    "\n",
    "if nombre == 'Johan':\n",
    "    if apellido == 'Posada':\n",
    "        if profesión == 'Programador':\n",
    "            print('Eres Johan Posada y un programador!!!')\n",
    "        else:\n",
    "            print('No eres Johan Posada y tampoco programador :(')"
   ]
  },
  {
   "cell_type": "code",
   "execution_count": null,
   "metadata": {},
   "outputs": [],
   "source": []
  },
  {
   "cell_type": "code",
   "execution_count": null,
   "metadata": {},
   "outputs": [],
   "source": []
  }
 ],
 "metadata": {
  "kernelspec": {
   "display_name": "Python 3",
   "language": "python",
   "name": "python3"
  },
  "language_info": {
   "codemirror_mode": {
    "name": "ipython",
    "version": 3
   },
   "file_extension": ".py",
   "mimetype": "text/x-python",
   "name": "python",
   "nbconvert_exporter": "python",
   "pygments_lexer": "ipython3",
   "version": "3.9.1"
  }
 },
 "nbformat": 4,
 "nbformat_minor": 2
}
